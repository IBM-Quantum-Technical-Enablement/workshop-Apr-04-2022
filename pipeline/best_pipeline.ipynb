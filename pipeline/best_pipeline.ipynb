{
 "cells": [
  {
   "cell_type": "markdown",
   "metadata": {},
   "source": [
    "# Optimized compilation pipeline\n",
    "<p>\n",
    "<font size=4 color=\"#0f62fe\">IBM Quantum Enabling Technologies Team</font>\n",
    "<p>"
   ]
  },
  {
   "cell_type": "markdown",
   "metadata": {},
   "source": [
    "One of the main pain points in executing circuits on IBM Quantum hardware is finding the best qubit mapping. For a given circuit, one typically tries to pick the best `initial_layout` for a given target system, and then SWAP maps using that set of qubits as the starting point. However there are a couple of issues with that execution model. First, an `initial_layout` selected, for example with respect to the noise characteristics of the system, need not be optimal for the SWAP mapping. In practice this leads to either low-noise layouts with extra SWAP gates inserted in the circuit, or optimally SWAP mapped circuits on (possibly) lousy qubits. This problem becomes more pronounced as the number of available qubits grows.  Second, there is no way to know if the system you targeted in the compilation is actually the best one to execute the compiled circuit on. With 20+ IBM Quantum systems, it is hard to determine which device is actually ideal for a given problem.\n",
    "\n",
    "In what follows we will explain a circuit compilation pipeline that has proven to yield dramatic performance improvements, as measured by benchmarking frameworks such as the [QED-C benchmark suite](https://github.com/SRI-International/QC-App-Oriented-Benchmarks), pictured below"
   ]
  },
  {
   "cell_type": "markdown",
   "metadata": {},
   "source": [
    "<img src=\"imgs/qedc_benchmarks.png\"/>\n"
   ]
  },
  {
   "cell_type": "markdown",
   "metadata": {},
   "source": [
    "## Frontmatter\n",
    "\n",
    "This notebook requires the following:\n",
    "\n",
    "- Qiskit version 0.20 or greater (`pip install -U qiskit`).\n",
    "\n",
    "- Mapomatic (`pip install mapomatic`)\n",
    "\n",
    "- M3 (`pip install mthree`)"
   ]
  },
  {
   "cell_type": "code",
   "execution_count": 9,
   "metadata": {
    "ExecuteTime": {
     "end_time": "2022-04-05T01:50:24.503008Z",
     "start_time": "2022-04-05T01:50:24.463710Z"
    }
   },
   "outputs": [],
   "source": [
    "import numpy as np\n",
    "from qiskit import *\n",
    "from qiskit.quantum_info import hellinger_fidelity\n",
    "\n",
    "# Mapomatic for qubit selection\n",
    "import mapomatic as mm\n",
    "\n",
    "# mthree for measurement error mitigation and expectation values\n",
    "import mthree\n",
    "\n",
    "#Dynamical Decoupling specific modules\n",
    "from qiskit.circuit.library import XGate\n",
    "from qiskit.transpiler import PassManager, InstructionDurations\n",
    "from qiskit.transpiler.passes import PadDynamicalDecoupling, ALAPScheduleAnalysis\n",
    "\n",
    "import matplotlib.pyplot as plt"
   ]
  },
  {
   "cell_type": "markdown",
   "metadata": {},
   "source": [
    "Load IBM Quantum account and select a backend"
   ]
  },
  {
   "cell_type": "code",
   "execution_count": 10,
   "metadata": {
    "ExecuteTime": {
     "end_time": "2022-04-05T01:50:43.678214Z",
     "start_time": "2022-04-05T01:50:26.806946Z"
    }
   },
   "outputs": [
    {
     "name": "stderr",
     "output_type": "stream",
     "text": [
      "ibmqfactory.load_account:WARNING:2022-04-04 21:50:27,253: Credentials are already in use. The existing account in the session will be replaced.\n"
     ]
    }
   ],
   "source": [
    "IBMQ.load_account();"
   ]
  },
  {
   "cell_type": "code",
   "execution_count": 11,
   "metadata": {
    "ExecuteTime": {
     "end_time": "2022-04-05T01:50:43.686640Z",
     "start_time": "2022-04-05T01:50:43.682388Z"
    }
   },
   "outputs": [],
   "source": [
    "provider = IBMQ.get_provider(group='deployed')"
   ]
  },
  {
   "cell_type": "code",
   "execution_count": 12,
   "metadata": {
    "ExecuteTime": {
     "end_time": "2022-04-05T01:50:43.693766Z",
     "start_time": "2022-04-05T01:50:43.690466Z"
    }
   },
   "outputs": [],
   "source": [
    "backend = provider.backend.ibm_hanoi"
   ]
  },
  {
   "cell_type": "markdown",
   "metadata": {},
   "source": [
    "Here we will load an interactive plot of the backend noise properties:"
   ]
  },
  {
   "cell_type": "code",
   "execution_count": 6,
   "metadata": {
    "ExecuteTime": {
     "end_time": "2022-04-05T01:11:42.566997Z",
     "start_time": "2022-04-05T01:11:42.297061Z"
    }
   },
   "outputs": [
    {
     "data": {
      "application/vnd.plotly.v1+json": {
       "config": {
        "displayModeBar": false,
        "editable": false,
        "plotlyServerURL": "https://plot.ly"
       },
       "data": [
        {
         "hoverinfo": "text",
         "hovertext": "cnot<sub>err</sub> = 6.02⋅10<sup>-3</sup><br>&#120591;<sub>cx</sub>     = 305.78 ns",
         "line": {
          "color": "#001cec",
          "width": 6
         },
         "mode": "lines",
         "type": "scatter",
         "x": [
          0,
          0.5,
          0.5
         ],
         "xaxis": "x2",
         "y": [
          -1,
          -1,
          -1
         ],
         "yaxis": "y2"
        },
        {
         "hoverinfo": "text",
         "hovertext": "cnot<sub>err</sub> = 6.02⋅10<sup>-3</sup><br>&#120591;<sub>cx</sub>     = 327.11 ns",
         "line": {
          "color": "#001cec",
          "width": 6
         },
         "mode": "lines",
         "type": "scatter",
         "x": [
          1,
          0.5,
          0.5
         ],
         "xaxis": "x2",
         "y": [
          -1,
          -1,
          -1
         ],
         "yaxis": "y2"
        },
        {
         "hoverinfo": "text",
         "hovertext": "cnot<sub>err</sub> = 4.2⋅10<sup>-3</sup><br>&#120591;<sub>cx</sub>     = 241.78 ns",
         "line": {
          "color": "#000c86",
          "width": 6
         },
         "mode": "lines",
         "type": "scatter",
         "x": [
          1,
          1,
          1
         ],
         "xaxis": "x2",
         "y": [
          -1,
          -1.5,
          -1.5
         ],
         "yaxis": "y2"
        },
        {
         "hoverinfo": "text",
         "hovertext": "cnot<sub>err</sub> = 8.34⋅10<sup>-3</sup><br>&#120591;<sub>cx</sub>     = 181.33 ns",
         "line": {
          "color": "#7d1fff",
          "width": 6
         },
         "mode": "lines",
         "type": "scatter",
         "x": [
          1,
          1.5,
          1.5
         ],
         "xaxis": "x2",
         "y": [
          -1,
          -1,
          -1
         ],
         "yaxis": "y2"
        },
        {
         "hoverinfo": "text",
         "hovertext": "cnot<sub>err</sub> = 4.2⋅10<sup>-3</sup><br>&#120591;<sub>cx</sub>     = 199.11 ns",
         "line": {
          "color": "#000c86",
          "width": 6
         },
         "mode": "lines",
         "type": "scatter",
         "x": [
          1,
          1,
          1
         ],
         "xaxis": "x2",
         "y": [
          -2,
          -1.5,
          -1.5
         ],
         "yaxis": "y2"
        },
        {
         "hoverinfo": "text",
         "hovertext": "cnot<sub>err</sub> = 7.39⋅10<sup>-3</sup><br>&#120591;<sub>cx</sub>     = 337.78 ns",
         "line": {
          "color": "#4520ff",
          "width": 6
         },
         "mode": "lines",
         "type": "scatter",
         "x": [
          1,
          1,
          1
         ],
         "xaxis": "x2",
         "y": [
          -2,
          -2.5,
          -2.5
         ],
         "yaxis": "y2"
        },
        {
         "hoverinfo": "text",
         "hovertext": "cnot<sub>err</sub> = 7.39⋅10<sup>-3</sup><br>&#120591;<sub>cx</sub>     = 380.44 ns",
         "line": {
          "color": "#4520ff",
          "width": 6
         },
         "mode": "lines",
         "type": "scatter",
         "x": [
          1,
          1,
          1
         ],
         "xaxis": "x2",
         "y": [
          -3,
          -2.5,
          -2.5
         ],
         "yaxis": "y2"
        },
        {
         "hoverinfo": "text",
         "hovertext": "cnot<sub>err</sub> = 3.65⋅10<sup>-3</sup><br>&#120591;<sub>cx</sub>     = 227.56 ns",
         "line": {
          "color": "#00055b",
          "width": 6
         },
         "mode": "lines",
         "type": "scatter",
         "x": [
          1,
          1.5,
          1.5
         ],
         "xaxis": "x2",
         "y": [
          -3,
          -3,
          -3
         ],
         "yaxis": "y2"
        },
        {
         "hoverinfo": "text",
         "hovertext": "cnot<sub>err</sub> = 8.34⋅10<sup>-3</sup><br>&#120591;<sub>cx</sub>     = 224 ns",
         "line": {
          "color": "#7d1fff",
          "width": 6
         },
         "mode": "lines",
         "type": "scatter",
         "x": [
          2,
          1.5,
          1.5
         ],
         "xaxis": "x2",
         "y": [
          -1,
          -1,
          -1
         ],
         "yaxis": "y2"
        },
        {
         "hoverinfo": "text",
         "hovertext": "cnot<sub>err</sub> = 9.24⋅10<sup>-3</sup><br>&#120591;<sub>cx</sub>     = 256 ns",
         "line": {
          "color": "#a21eff",
          "width": 6
         },
         "mode": "lines",
         "type": "scatter",
         "x": [
          2,
          2.5,
          2.5
         ],
         "xaxis": "x2",
         "y": [
          -1,
          -1,
          -1
         ],
         "yaxis": "y2"
        },
        {
         "hoverinfo": "text",
         "hovertext": "cnot<sub>err</sub> = 3.65⋅10<sup>-3</sup><br>&#120591;<sub>cx</sub>     = 184.89 ns",
         "line": {
          "color": "#00055b",
          "width": 6
         },
         "mode": "lines",
         "type": "scatter",
         "x": [
          2,
          1.5,
          1.5
         ],
         "xaxis": "x2",
         "y": [
          -3,
          -3,
          -3
         ],
         "yaxis": "y2"
        },
        {
         "hoverinfo": "text",
         "hovertext": "cnot<sub>err</sub> = 1.0⋅10<sup>0</sup><br>&#120591;<sub>cx</sub>     = 561.78 ns",
         "line": {
          "color": "#ff0000",
          "width": 6
         },
         "mode": "lines",
         "type": "scatter",
         "x": [
          2,
          2.5,
          2.5
         ],
         "xaxis": "x2",
         "y": [
          -3,
          -3,
          -3
         ],
         "yaxis": "y2"
        },
        {
         "hoverinfo": "text",
         "hovertext": "cnot<sub>err</sub> = 4.63⋅10<sup>-3</sup><br>&#120591;<sub>cx</sub>     = 263.11 ns",
         "line": {
          "color": "#0010a4",
          "width": 6
         },
         "mode": "lines",
         "type": "scatter",
         "x": [
          3,
          3,
          3
         ],
         "xaxis": "x2",
         "y": [
          0,
          -0.5,
          -0.5
         ],
         "yaxis": "y2"
        },
        {
         "hoverinfo": "text",
         "hovertext": "cnot<sub>err</sub> = 9.24⋅10<sup>-3</sup><br>&#120591;<sub>cx</sub>     = 298.67 ns",
         "line": {
          "color": "#a21eff",
          "width": 6
         },
         "mode": "lines",
         "type": "scatter",
         "x": [
          3,
          2.5,
          2.5
         ],
         "xaxis": "x2",
         "y": [
          -1,
          -1,
          -1
         ],
         "yaxis": "y2"
        },
        {
         "hoverinfo": "text",
         "hovertext": "cnot<sub>err</sub> = 4.63⋅10<sup>-3</sup><br>&#120591;<sub>cx</sub>     = 284.44 ns",
         "line": {
          "color": "#0010a4",
          "width": 6
         },
         "mode": "lines",
         "type": "scatter",
         "x": [
          3,
          3,
          3
         ],
         "xaxis": "x2",
         "y": [
          -1,
          -0.5,
          -0.5
         ],
         "yaxis": "y2"
        },
        {
         "hoverinfo": "text",
         "hovertext": "cnot<sub>err</sub> = 7.94⋅10<sup>-3</sup><br>&#120591;<sub>cx</sub>     = 206.22 ns",
         "line": {
          "color": "#691fff",
          "width": 6
         },
         "mode": "lines",
         "type": "scatter",
         "x": [
          3,
          3.5,
          3.5
         ],
         "xaxis": "x2",
         "y": [
          -1,
          -1,
          -1
         ],
         "yaxis": "y2"
        },
        {
         "hoverinfo": "text",
         "hovertext": "cnot<sub>err</sub> = 1.0⋅10<sup>0</sup><br>&#120591;<sub>cx</sub>     = 540.44 ns",
         "line": {
          "color": "#ff0000",
          "width": 6
         },
         "mode": "lines",
         "type": "scatter",
         "x": [
          3,
          2.5,
          2.5
         ],
         "xaxis": "x2",
         "y": [
          -3,
          -3,
          -3
         ],
         "yaxis": "y2"
        },
        {
         "hoverinfo": "text",
         "hovertext": "cnot<sub>err</sub> = 6.3⋅10<sup>-3</sup><br>&#120591;<sub>cx</sub>     = 540.44 ns",
         "line": {
          "color": "#001df3",
          "width": 6
         },
         "mode": "lines",
         "type": "scatter",
         "x": [
          3,
          3,
          3
         ],
         "xaxis": "x2",
         "y": [
          -3,
          -3.5,
          -3.5
         ],
         "yaxis": "y2"
        },
        {
         "hoverinfo": "text",
         "hovertext": "cnot<sub>err</sub> = 3.89⋅10<sup>-3</sup><br>&#120591;<sub>cx</sub>     = 320 ns",
         "line": {
          "color": "#00096e",
          "width": 6
         },
         "mode": "lines",
         "type": "scatter",
         "x": [
          3,
          3.5,
          3.5
         ],
         "xaxis": "x2",
         "y": [
          -3,
          -3,
          -3
         ],
         "yaxis": "y2"
        },
        {
         "hoverinfo": "text",
         "hovertext": "cnot<sub>err</sub> = 6.3⋅10<sup>-3</sup><br>&#120591;<sub>cx</sub>     = 519.11 ns",
         "line": {
          "color": "#001df3",
          "width": 6
         },
         "mode": "lines",
         "type": "scatter",
         "x": [
          3,
          3,
          3
         ],
         "xaxis": "x2",
         "y": [
          -4,
          -3.5,
          -3.5
         ],
         "yaxis": "y2"
        },
        {
         "hoverinfo": "text",
         "hovertext": "cnot<sub>err</sub> = 7.94⋅10<sup>-3</sup><br>&#120591;<sub>cx</sub>     = 248.89 ns",
         "line": {
          "color": "#691fff",
          "width": 6
         },
         "mode": "lines",
         "type": "scatter",
         "x": [
          4,
          3.5,
          3.5
         ],
         "xaxis": "x2",
         "y": [
          -1,
          -1,
          -1
         ],
         "yaxis": "y2"
        },
        {
         "hoverinfo": "text",
         "hovertext": "cnot<sub>err</sub> = 6.29⋅10<sup>-3</sup><br>&#120591;<sub>cx</sub>     = 277.33 ns",
         "line": {
          "color": "#001df2",
          "width": 6
         },
         "mode": "lines",
         "type": "scatter",
         "x": [
          4,
          4.5,
          4.5
         ],
         "xaxis": "x2",
         "y": [
          -1,
          -1,
          -1
         ],
         "yaxis": "y2"
        },
        {
         "hoverinfo": "text",
         "hovertext": "cnot<sub>err</sub> = 3.89⋅10<sup>-3</sup><br>&#120591;<sub>cx</sub>     = 277.33 ns",
         "line": {
          "color": "#00096e",
          "width": 6
         },
         "mode": "lines",
         "type": "scatter",
         "x": [
          4,
          3.5,
          3.5
         ],
         "xaxis": "x2",
         "y": [
          -3,
          -3,
          -3
         ],
         "yaxis": "y2"
        },
        {
         "hoverinfo": "text",
         "hovertext": "cnot<sub>err</sub> = 4.87⋅10<sup>-3</sup><br>&#120591;<sub>cx</sub>     = 426.67 ns",
         "line": {
          "color": "#0012b5",
          "width": 6
         },
         "mode": "lines",
         "type": "scatter",
         "x": [
          4,
          4.5,
          4.5
         ],
         "xaxis": "x2",
         "y": [
          -3,
          -3,
          -3
         ],
         "yaxis": "y2"
        },
        {
         "hoverinfo": "text",
         "hovertext": "cnot<sub>err</sub> = 6.29⋅10<sup>-3</sup><br>&#120591;<sub>cx</sub>     = 298.67 ns",
         "line": {
          "color": "#001df2",
          "width": 6
         },
         "mode": "lines",
         "type": "scatter",
         "x": [
          5,
          4.5,
          4.5
         ],
         "xaxis": "x2",
         "y": [
          -1,
          -1,
          -1
         ],
         "yaxis": "y2"
        },
        {
         "hoverinfo": "text",
         "hovertext": "cnot<sub>err</sub> = 7.91⋅10<sup>-3</sup><br>&#120591;<sub>cx</sub>     = 405.33 ns",
         "line": {
          "color": "#691fff",
          "width": 6
         },
         "mode": "lines",
         "type": "scatter",
         "x": [
          5,
          5,
          5
         ],
         "xaxis": "x2",
         "y": [
          -1,
          -1.5,
          -1.5
         ],
         "yaxis": "y2"
        },
        {
         "hoverinfo": "text",
         "hovertext": "cnot<sub>err</sub> = 1.03⋅10<sup>-2</sup><br>&#120591;<sub>cx</sub>     = 405.33 ns",
         "line": {
          "color": "#c41fff",
          "width": 6
         },
         "mode": "lines",
         "type": "scatter",
         "x": [
          5,
          5.5,
          5.5
         ],
         "xaxis": "x2",
         "y": [
          -1,
          -1,
          -1
         ],
         "yaxis": "y2"
        },
        {
         "hoverinfo": "text",
         "hovertext": "cnot<sub>err</sub> = 7.91⋅10<sup>-3</sup><br>&#120591;<sub>cx</sub>     = 384 ns",
         "line": {
          "color": "#691fff",
          "width": 6
         },
         "mode": "lines",
         "type": "scatter",
         "x": [
          5,
          5,
          5
         ],
         "xaxis": "x2",
         "y": [
          -2,
          -1.5,
          -1.5
         ],
         "yaxis": "y2"
        },
        {
         "hoverinfo": "text",
         "hovertext": "cnot<sub>err</sub> = 5.01⋅10<sup>-3</sup><br>&#120591;<sub>cx</sub>     = 256 ns",
         "line": {
          "color": "#0013bd",
          "width": 6
         },
         "mode": "lines",
         "type": "scatter",
         "x": [
          5,
          5,
          5
         ],
         "xaxis": "x2",
         "y": [
          -2,
          -2.5,
          -2.5
         ],
         "yaxis": "y2"
        },
        {
         "hoverinfo": "text",
         "hovertext": "cnot<sub>err</sub> = 4.87⋅10<sup>-3</sup><br>&#120591;<sub>cx</sub>     = 405.33 ns",
         "line": {
          "color": "#0012b5",
          "width": 6
         },
         "mode": "lines",
         "type": "scatter",
         "x": [
          5,
          4.5,
          4.5
         ],
         "xaxis": "x2",
         "y": [
          -3,
          -3,
          -3
         ],
         "yaxis": "y2"
        },
        {
         "hoverinfo": "text",
         "hovertext": "cnot<sub>err</sub> = 5.01⋅10<sup>-3</sup><br>&#120591;<sub>cx</sub>     = 234.67 ns",
         "line": {
          "color": "#0013bd",
          "width": 6
         },
         "mode": "lines",
         "type": "scatter",
         "x": [
          5,
          5,
          5
         ],
         "xaxis": "x2",
         "y": [
          -3,
          -2.5,
          -2.5
         ],
         "yaxis": "y2"
        },
        {
         "hoverinfo": "text",
         "hovertext": "cnot<sub>err</sub> = 1.65⋅10<sup>-2</sup><br>&#120591;<sub>cx</sub>     = 419.56 ns",
         "line": {
          "color": "#ff85ff",
          "width": 6
         },
         "mode": "lines",
         "type": "scatter",
         "x": [
          5,
          5.5,
          5.5
         ],
         "xaxis": "x2",
         "y": [
          -3,
          -3,
          -3
         ],
         "yaxis": "y2"
        },
        {
         "hoverinfo": "text",
         "hovertext": "cnot<sub>err</sub> = 1.03⋅10<sup>-2</sup><br>&#120591;<sub>cx</sub>     = 384 ns",
         "line": {
          "color": "#c41fff",
          "width": 6
         },
         "mode": "lines",
         "type": "scatter",
         "x": [
          6,
          5.5,
          5.5
         ],
         "xaxis": "x2",
         "y": [
          -1,
          -1,
          -1
         ],
         "yaxis": "y2"
        },
        {
         "hoverinfo": "text",
         "hovertext": "cnot<sub>err</sub> = 7.65⋅10<sup>-3</sup><br>&#120591;<sub>cx</sub>     = 327.11 ns",
         "line": {
          "color": "#5620ff",
          "width": 6
         },
         "mode": "lines",
         "type": "scatter",
         "x": [
          6,
          6.5,
          6.5
         ],
         "xaxis": "x2",
         "y": [
          -1,
          -1,
          -1
         ],
         "yaxis": "y2"
        },
        {
         "hoverinfo": "text",
         "hovertext": "cnot<sub>err</sub> = 1.65⋅10<sup>-2</sup><br>&#120591;<sub>cx</sub>     = 440.89 ns",
         "line": {
          "color": "#ff85ff",
          "width": 6
         },
         "mode": "lines",
         "type": "scatter",
         "x": [
          6,
          5.5,
          5.5
         ],
         "xaxis": "x2",
         "y": [
          -3,
          -3,
          -3
         ],
         "yaxis": "y2"
        },
        {
         "hoverinfo": "text",
         "hovertext": "cnot<sub>err</sub> = 7.63⋅10<sup>-3</sup><br>&#120591;<sub>cx</sub>     = 327.11 ns",
         "line": {
          "color": "#5620ff",
          "width": 6
         },
         "mode": "lines",
         "type": "scatter",
         "x": [
          6,
          6.5,
          6.5
         ],
         "xaxis": "x2",
         "y": [
          -3,
          -3,
          -3
         ],
         "yaxis": "y2"
        },
        {
         "hoverinfo": "text",
         "hovertext": "cnot<sub>err</sub> = 5.04⋅10<sup>-3</sup><br>&#120591;<sub>cx</sub>     = 419.56 ns",
         "line": {
          "color": "#0014bf",
          "width": 6
         },
         "mode": "lines",
         "type": "scatter",
         "x": [
          7,
          7,
          7
         ],
         "xaxis": "x2",
         "y": [
          0,
          -0.5,
          -0.5
         ],
         "yaxis": "y2"
        },
        {
         "hoverinfo": "text",
         "hovertext": "cnot<sub>err</sub> = 7.65⋅10<sup>-3</sup><br>&#120591;<sub>cx</sub>     = 305.78 ns",
         "line": {
          "color": "#5620ff",
          "width": 6
         },
         "mode": "lines",
         "type": "scatter",
         "x": [
          7,
          6.5,
          6.5
         ],
         "xaxis": "x2",
         "y": [
          -1,
          -1,
          -1
         ],
         "yaxis": "y2"
        },
        {
         "hoverinfo": "text",
         "hovertext": "cnot<sub>err</sub> = 5.04⋅10<sup>-3</sup><br>&#120591;<sub>cx</sub>     = 440.89 ns",
         "line": {
          "color": "#0014bf",
          "width": 6
         },
         "mode": "lines",
         "type": "scatter",
         "x": [
          7,
          7,
          7
         ],
         "xaxis": "x2",
         "y": [
          -1,
          -0.5,
          -0.5
         ],
         "yaxis": "y2"
        },
        {
         "hoverinfo": "text",
         "hovertext": "cnot<sub>err</sub> = 4.14⋅10<sup>-3</sup><br>&#120591;<sub>cx</sub>     = 238.22 ns",
         "line": {
          "color": "#000b81",
          "width": 6
         },
         "mode": "lines",
         "type": "scatter",
         "x": [
          7,
          7.5,
          7.5
         ],
         "xaxis": "x2",
         "y": [
          -1,
          -1,
          -1
         ],
         "yaxis": "y2"
        },
        {
         "hoverinfo": "text",
         "hovertext": "cnot<sub>err</sub> = 7.63⋅10<sup>-3</sup><br>&#120591;<sub>cx</sub>     = 305.78 ns",
         "line": {
          "color": "#5620ff",
          "width": 6
         },
         "mode": "lines",
         "type": "scatter",
         "x": [
          7,
          6.5,
          6.5
         ],
         "xaxis": "x2",
         "y": [
          -3,
          -3,
          -3
         ],
         "yaxis": "y2"
        },
        {
         "hoverinfo": "text",
         "hovertext": "cnot<sub>err</sub> = 7.33⋅10<sup>-3</sup><br>&#120591;<sub>cx</sub>     = 291.56 ns",
         "line": {
          "color": "#4020ff",
          "width": 6
         },
         "mode": "lines",
         "type": "scatter",
         "x": [
          7,
          7,
          7
         ],
         "xaxis": "x2",
         "y": [
          -3,
          -3.5,
          -3.5
         ],
         "yaxis": "y2"
        },
        {
         "hoverinfo": "text",
         "hovertext": "cnot<sub>err</sub> = 8.56⋅10<sup>-3</sup><br>&#120591;<sub>cx</sub>     = 227.56 ns",
         "line": {
          "color": "#891fff",
          "width": 6
         },
         "mode": "lines",
         "type": "scatter",
         "x": [
          7,
          7.5,
          7.5
         ],
         "xaxis": "x2",
         "y": [
          -3,
          -3,
          -3
         ],
         "yaxis": "y2"
        },
        {
         "hoverinfo": "text",
         "hovertext": "cnot<sub>err</sub> = 7.33⋅10<sup>-3</sup><br>&#120591;<sub>cx</sub>     = 312.89 ns",
         "line": {
          "color": "#4020ff",
          "width": 6
         },
         "mode": "lines",
         "type": "scatter",
         "x": [
          7,
          7,
          7
         ],
         "xaxis": "x2",
         "y": [
          -4,
          -3.5,
          -3.5
         ],
         "yaxis": "y2"
        },
        {
         "hoverinfo": "text",
         "hovertext": "cnot<sub>err</sub> = 4.14⋅10<sup>-3</sup><br>&#120591;<sub>cx</sub>     = 280.89 ns",
         "line": {
          "color": "#000b81",
          "width": 6
         },
         "mode": "lines",
         "type": "scatter",
         "x": [
          8,
          7.5,
          7.5
         ],
         "xaxis": "x2",
         "y": [
          -1,
          -1,
          -1
         ],
         "yaxis": "y2"
        },
        {
         "hoverinfo": "text",
         "hovertext": "cnot<sub>err</sub> = 1.27⋅10<sup>-2</sup><br>&#120591;<sub>cx</sub>     = 256 ns",
         "line": {
          "color": "#f141ff",
          "width": 6
         },
         "mode": "lines",
         "type": "scatter",
         "x": [
          8,
          8.5,
          8.5
         ],
         "xaxis": "x2",
         "y": [
          -1,
          -1,
          -1
         ],
         "yaxis": "y2"
        },
        {
         "hoverinfo": "text",
         "hovertext": "cnot<sub>err</sub> = 8.56⋅10<sup>-3</sup><br>&#120591;<sub>cx</sub>     = 248.89 ns",
         "line": {
          "color": "#891fff",
          "width": 6
         },
         "mode": "lines",
         "type": "scatter",
         "x": [
          8,
          7.5,
          7.5
         ],
         "xaxis": "x2",
         "y": [
          -3,
          -3,
          -3
         ],
         "yaxis": "y2"
        },
        {
         "hoverinfo": "text",
         "hovertext": "cnot<sub>err</sub> = 6.34⋅10<sup>-3</sup><br>&#120591;<sub>cx</sub>     = 312.89 ns",
         "line": {
          "color": "#001df3",
          "width": 6
         },
         "mode": "lines",
         "type": "scatter",
         "x": [
          8,
          8.5,
          8.5
         ],
         "xaxis": "x2",
         "y": [
          -3,
          -3,
          -3
         ],
         "yaxis": "y2"
        },
        {
         "hoverinfo": "text",
         "hovertext": "cnot<sub>err</sub> = 1.27⋅10<sup>-2</sup><br>&#120591;<sub>cx</sub>     = 277.33 ns",
         "line": {
          "color": "#f141ff",
          "width": 6
         },
         "mode": "lines",
         "type": "scatter",
         "x": [
          9,
          8.5,
          8.5
         ],
         "xaxis": "x2",
         "y": [
          -1,
          -1,
          -1
         ],
         "yaxis": "y2"
        },
        {
         "hoverinfo": "text",
         "hovertext": "cnot<sub>err</sub> = 2.62⋅10<sup>-2</sup><br>&#120591;<sub>cx</sub>     = 270.22 ns",
         "line": {
          "color": "#ffe6ff",
          "width": 6
         },
         "mode": "lines",
         "type": "scatter",
         "x": [
          9,
          9,
          9
         ],
         "xaxis": "x2",
         "y": [
          -1,
          -1.5,
          -1.5
         ],
         "yaxis": "y2"
        },
        {
         "hoverinfo": "text",
         "hovertext": "cnot<sub>err</sub> = 2.62⋅10<sup>-2</sup><br>&#120591;<sub>cx</sub>     = 248.89 ns",
         "line": {
          "color": "#ffe6ff",
          "width": 6
         },
         "mode": "lines",
         "type": "scatter",
         "x": [
          9,
          9,
          9
         ],
         "xaxis": "x2",
         "y": [
          -2,
          -1.5,
          -1.5
         ],
         "yaxis": "y2"
        },
        {
         "hoverinfo": "text",
         "hovertext": "cnot<sub>err</sub> = 1.21⋅10<sup>-2</sup><br>&#120591;<sub>cx</sub>     = 327.11 ns",
         "line": {
          "color": "#e735ff",
          "width": 6
         },
         "mode": "lines",
         "type": "scatter",
         "x": [
          9,
          9,
          9
         ],
         "xaxis": "x2",
         "y": [
          -2,
          -2.5,
          -2.5
         ],
         "yaxis": "y2"
        },
        {
         "hoverinfo": "text",
         "hovertext": "cnot<sub>err</sub> = 6.34⋅10<sup>-3</sup><br>&#120591;<sub>cx</sub>     = 291.56 ns",
         "line": {
          "color": "#001df3",
          "width": 6
         },
         "mode": "lines",
         "type": "scatter",
         "x": [
          9,
          8.5,
          8.5
         ],
         "xaxis": "x2",
         "y": [
          -3,
          -3,
          -3
         ],
         "yaxis": "y2"
        },
        {
         "hoverinfo": "text",
         "hovertext": "cnot<sub>err</sub> = 1.21⋅10<sup>-2</sup><br>&#120591;<sub>cx</sub>     = 369.78 ns",
         "line": {
          "color": "#e735ff",
          "width": 6
         },
         "mode": "lines",
         "type": "scatter",
         "x": [
          9,
          9,
          9
         ],
         "xaxis": "x2",
         "y": [
          -3,
          -2.5,
          -2.5
         ],
         "yaxis": "y2"
        },
        {
         "hoverinfo": "text",
         "hovertext": "cnot<sub>err</sub> = 1.27⋅10<sup>-2</sup><br>&#120591;<sub>cx</sub>     = 270.22 ns",
         "line": {
          "color": "#f141ff",
          "width": 6
         },
         "mode": "lines",
         "type": "scatter",
         "x": [
          9,
          9.5,
          9.5
         ],
         "xaxis": "x2",
         "y": [
          -3,
          -3,
          -3
         ],
         "yaxis": "y2"
        },
        {
         "hoverinfo": "text",
         "hovertext": "cnot<sub>err</sub> = 1.27⋅10<sup>-2</sup><br>&#120591;<sub>cx</sub>     = 227.56 ns",
         "line": {
          "color": "#f141ff",
          "width": 6
         },
         "mode": "lines",
         "type": "scatter",
         "x": [
          10,
          9.5,
          9.5
         ],
         "xaxis": "x2",
         "y": [
          -3,
          -3,
          -3
         ],
         "yaxis": "y2"
        },
        {
         "hoverinfo": "text",
         "hovertext": [
          "<b>Qubit 0</b><br>freq = 5.03517 GHz<br>T<sub>1</sub>   = 176.45 μs<br>T<sub>2</sub>   = 130.98 μs<br>&#945;    = -0.343 GHz<br>sx<sub>err</sub> = 9.87⋅10<sup>-5</sup><br>&#120591;<sub>sx</sub>   = 21.33 ns",
          "<b>Qubit 1</b><br>freq = 5.15505 GHz<br>T<sub>1</sub>   = 204.04 μs<br>T<sub>2</sub>   = 163.17 μs<br>&#945;    = -0.342 GHz<br>sx<sub>err</sub> = 2.58⋅10<sup>-4</sup><br>&#120591;<sub>sx</sub>   = 21.33 ns",
          "<b>Qubit 2</b><br>freq = 5.2562 GHz<br>T<sub>1</sub>   = 218.82 μs<br>T<sub>2</sub>   = 235.88 μs<br>&#945;    = -0.34 GHz<br>sx<sub>err</sub> = 1.1⋅10<sup>-4</sup><br>&#120591;<sub>sx</sub>   = 21.33 ns",
          "<b>Qubit 3</b><br>freq = 5.09745 GHz<br>T<sub>1</sub>   = 58.5 μs<br>T<sub>2</sub>   = 28.83 μs<br>&#945;    = -0.341 GHz<br>sx<sub>err</sub> = 3.96⋅10<sup>-4</sup><br>&#120591;<sub>sx</sub>   = 21.33 ns",
          "<b>Qubit 4</b><br>freq = 5.07305 GHz<br>T<sub>1</sub>   = 162.69 μs<br>T<sub>2</sub>   = 26.82 μs<br>&#945;    = -0.343 GHz<br>sx<sub>err</sub> = 3.28⋅10<sup>-4</sup><br>&#120591;<sub>sx</sub>   = 21.33 ns",
          "<b>Qubit 5</b><br>freq = 5.20696 GHz<br>T<sub>1</sub>   = 195.23 μs<br>T<sub>2</sub>   = 221.56 μs<br>&#945;    = -0.341 GHz<br>sx<sub>err</sub> = 1.42⋅10<sup>-4</sup><br>&#120591;<sub>sx</sub>   = 21.33 ns",
          "<b>Qubit 6</b><br>freq = 5.02052 GHz<br>T<sub>1</sub>   = 161.42 μs<br>T<sub>2</sub>   = 156.42 μs<br>&#945;    = -0.345 GHz<br>sx<sub>err</sub> = 2.32⋅10<sup>-4</sup><br>&#120591;<sub>sx</sub>   = 21.33 ns",
          "<b>Qubit 7</b><br>freq = 4.91901 GHz<br>T<sub>1</sub>   = 214.98 μs<br>T<sub>2</sub>   = 301.25 μs<br>&#945;    = -0.346 GHz<br>sx<sub>err</sub> = 1.23⋅10<sup>-4</sup><br>&#120591;<sub>sx</sub>   = 21.33 ns",
          "<b>Qubit 8</b><br>freq = 5.03128 GHz<br>T<sub>1</sub>   = 171.37 μs<br>T<sub>2</sub>   = 233.69 μs<br>&#945;    = -0.344 GHz<br>sx<sub>err</sub> = 1.09⋅10<sup>-4</sup><br>&#120591;<sub>sx</sub>   = 21.33 ns",
          "<b>Qubit 9</b><br>freq = 4.8748 GHz<br>T<sub>1</sub>   = 170.26 μs<br>T<sub>2</sub>   = 279.54 μs<br>&#945;    = -0.346 GHz<br>sx<sub>err</sub> = 1.38⋅10<sup>-4</sup><br>&#120591;<sub>sx</sub>   = 21.33 ns",
          "<b>Qubit 10</b><br>freq = 4.82124 GHz<br>T<sub>1</sub>   = 174.35 μs<br>T<sub>2</sub>   = 347.95 μs<br>&#945;    = -0.349 GHz<br>sx<sub>err</sub> = 1.66⋅10<sup>-4</sup><br>&#120591;<sub>sx</sub>   = 21.33 ns",
          "<b>Qubit 11</b><br>freq = 5.16209 GHz<br>T<sub>1</sub>   = 205.33 μs<br>T<sub>2</sub>   = 320.69 μs<br>&#945;    = -0.342 GHz<br>sx<sub>err</sub> = 1.03⋅10<sup>-4</sup><br>&#120591;<sub>sx</sub>   = 21.33 ns",
          "<b>Qubit 12</b><br>freq = 4.71854 GHz<br>T<sub>1</sub>   = 245.58 μs<br>T<sub>2</sub>   = 194.58 μs<br>&#945;    = -0.352 GHz<br>sx<sub>err</sub> = 2.58⋅10<sup>-4</sup><br>&#120591;<sub>sx</sub>   = 21.33 ns",
          "<b>Qubit 13</b><br>freq = 4.96299 GHz<br>T<sub>1</sub>   = 162.37 μs<br>T<sub>2</sub>   = 142.92 μs<br>&#945;    = -0.346 GHz<br>sx<sub>err</sub> = 1.67⋅10<sup>-4</sup><br>&#120591;<sub>sx</sub>   = 21.33 ns",
          "<b>Qubit 14</b><br>freq = 5.04659 GHz<br>T<sub>1</sub>   = 219.06 μs<br>T<sub>2</sub>   = 27.22 μs<br>&#945;    = -0.343 GHz<br>sx<sub>err</sub> = 2.02⋅10<sup>-4</sup><br>&#120591;<sub>sx</sub>   = 21.33 ns",
          "<b>Qubit 15</b><br>freq = 4.92446 GHz<br>T<sub>1</sub>   = 184.93 μs<br>T<sub>2</sub>   = 43.69 μs<br>&#945;    = -0.318 GHz<br>sx<sub>err</sub> = 4.07⋅10<sup>-4</sup><br>&#120591;<sub>sx</sub>   = 21.33 ns",
          "<b>Qubit 16</b><br>freq = 4.88334 GHz<br>T<sub>1</sub>   = 227.75 μs<br>T<sub>2</sub>   = 166.43 μs<br>&#945;    = -0.347 GHz<br>sx<sub>err</sub> = 2.11⋅10<sup>-4</sup><br>&#120591;<sub>sx</sub>   = 21.33 ns",
          "<b>Qubit 17</b><br>freq = 5.22243 GHz<br>T<sub>1</sub>   = 112.36 μs<br>T<sub>2</sub>   = 85.84 μs<br>&#945;    = -0.339 GHz<br>sx<sub>err</sub> = 3.25⋅10<sup>-4</sup><br>&#120591;<sub>sx</sub>   = 21.33 ns",
          "<b>Qubit 18</b><br>freq = 4.96778 GHz<br>T<sub>1</sub>   = 144.02 μs<br>T<sub>2</sub>   = 148.17 μs<br>&#945;    = -0.344 GHz<br>sx<sub>err</sub> = 3.02⋅10<sup>-4</sup><br>&#120591;<sub>sx</sub>   = 21.33 ns",
          "<b>Qubit 19</b><br>freq = 5.0025 GHz<br>T<sub>1</sub>   = 140.34 μs<br>T<sub>2</sub>   = 214.34 μs<br>&#945;    = -0.343 GHz<br>sx<sub>err</sub> = 1.62⋅10<sup>-4</sup><br>&#120591;<sub>sx</sub>   = 21.33 ns",
          "<b>Qubit 20</b><br>freq = 5.09578 GHz<br>T<sub>1</sub>   = 159.87 μs<br>T<sub>2</sub>   = 109.42 μs<br>&#945;    = -0.341 GHz<br>sx<sub>err</sub> = 1.75⋅10<sup>-4</sup><br>&#120591;<sub>sx</sub>   = 21.33 ns",
          "<b>Qubit 21</b><br>freq = 4.83926 GHz<br>T<sub>1</sub>   = 140.0 μs<br>T<sub>2</sub>   = 31.48 μs<br>&#945;    = -0.346 GHz<br>sx<sub>err</sub> = 1.85⋅10<sup>-4</sup><br>&#120591;<sub>sx</sub>   = 21.33 ns",
          "<b>Qubit 22</b><br>freq = 4.91954 GHz<br>T<sub>1</sub>   = 171.29 μs<br>T<sub>2</sub>   = 80.43 μs<br>&#945;    = -0.346 GHz<br>sx<sub>err</sub> = 3.88⋅10<sup>-4</sup><br>&#120591;<sub>sx</sub>   = 21.33 ns",
          "<b>Qubit 23</b><br>freq = 4.90689 GHz<br>T<sub>1</sub>   = 156.07 μs<br>T<sub>2</sub>   = 33.57 μs<br>&#945;    = -0.328 GHz<br>sx<sub>err</sub> = 3.9⋅10<sup>-4</sup><br>&#120591;<sub>sx</sub>   = 21.33 ns",
          "<b>Qubit 24</b><br>freq = 4.99158 GHz<br>T<sub>1</sub>   = 216.28 μs<br>T<sub>2</sub>   = 29.93 μs<br>&#945;    = -0.344 GHz<br>sx<sub>err</sub> = 3.35⋅10<sup>-4</sup><br>&#120591;<sub>sx</sub>   = 21.33 ns",
          "<b>Qubit 25</b><br>freq = 4.81293 GHz<br>T<sub>1</sub>   = 191.02 μs<br>T<sub>2</sub>   = 103.76 μs<br>&#945;    = -0.349 GHz<br>sx<sub>err</sub> = 1.3⋅10<sup>-4</sup><br>&#120591;<sub>sx</sub>   = 21.33 ns",
          "<b>Qubit 26</b><br>freq = 5.01954 GHz<br>T<sub>1</sub>   = 98.75 μs<br>T<sub>2</sub>   = 43.06 μs<br>&#945;    = -0.342 GHz<br>sx<sub>err</sub> = 9.72⋅10<sup>-4</sup><br>&#120591;<sub>sx</sub>   = 21.33 ns"
         ],
         "marker": {
          "color": [
           "#000558",
           "#801fff",
           "#000a75",
           "#ea38ff",
           "#c620ff",
           "#0013bd",
           "#5620ff",
           "#000e95",
           "#000a72",
           "#0012b5",
           "#001ae1",
           "#000864",
           "#801fff",
           "#001ae3",
           "#001ffb",
           "#ee3dff",
           "#221ffe",
           "#c41fff",
           "#b11eff",
           "#0019de",
           "#001ceb",
           "#001df2",
           "#e735ff",
           "#e735ff",
           "#ca21ff",
           "#0010a4",
           "#feebfe"
          ],
          "opacity": 1,
          "size": 23
         },
         "mode": "markers+text",
         "text": [
          "0",
          "1",
          "2",
          "3",
          "4",
          "5",
          "6",
          "7",
          "8",
          "9",
          "10",
          "11",
          "12",
          "13",
          "14",
          "15",
          "16",
          "17",
          "18",
          "19",
          "20",
          "21",
          "22",
          "23",
          "24",
          "25",
          "26"
         ],
         "textfont": {
          "color": [
           "#ffffff",
           "#ffffff",
           "#ffffff",
           "#000000",
           "#ffffff",
           "#ffffff",
           "#ffffff",
           "#ffffff",
           "#ffffff",
           "#ffffff",
           "#ffffff",
           "#ffffff",
           "#ffffff",
           "#ffffff",
           "#ffffff",
           "#000000",
           "#ffffff",
           "#ffffff",
           "#ffffff",
           "#ffffff",
           "#ffffff",
           "#ffffff",
           "#000000",
           "#000000",
           "#ffffff",
           "#ffffff",
           "#000000"
          ],
          "size": 11
         },
         "textposition": "middle center",
         "type": "scatter",
         "x": [
          0,
          1,
          1,
          1,
          2,
          2,
          3,
          3,
          3,
          3,
          4,
          4,
          5,
          5,
          5,
          6,
          6,
          7,
          7,
          7,
          7,
          8,
          8,
          9,
          9,
          9,
          10
         ],
         "xaxis": "x2",
         "y": [
          -1,
          -1,
          -2,
          -3,
          -1,
          -3,
          0,
          -1,
          -3,
          -4,
          -1,
          -3,
          -1,
          -2,
          -3,
          -1,
          -3,
          0,
          -1,
          -3,
          -4,
          -1,
          -3,
          -1,
          -2,
          -3,
          -3
         ],
         "yaxis": "y2"
        },
        {
         "colorscale": [
          [
           0,
           "rgba(0, 4, 88, 1.0)"
          ],
          [
           0.003937007874015748,
           "rgba(0, 5, 90, 1.0)"
          ],
          [
           0.007874015748031496,
           "rgba(0, 5, 92, 1.0)"
          ],
          [
           0.011811023622047244,
           "rgba(0, 6, 95, 1.0)"
          ],
          [
           0.015748031496062992,
           "rgba(0, 7, 97, 1.0)"
          ],
          [
           0.01968503937007874,
           "rgba(0, 7, 100, 1.0)"
          ],
          [
           0.023622047244094488,
           "rgba(0, 8, 102, 1.0)"
          ],
          [
           0.027559055118110236,
           "rgba(0, 8, 104, 1.0)"
          ],
          [
           0.031496062992125984,
           "rgba(0, 8, 107, 1.0)"
          ],
          [
           0.03543307086614173,
           "rgba(0, 9, 109, 1.0)"
          ],
          [
           0.03937007874015748,
           "rgba(0, 9, 111, 1.0)"
          ],
          [
           0.04330708661417323,
           "rgba(0, 9, 114, 1.0)"
          ],
          [
           0.047244094488188976,
           "rgba(0, 9, 116, 1.0)"
          ],
          [
           0.051181102362204724,
           "rgba(0, 10, 119, 1.0)"
          ],
          [
           0.05511811023622047,
           "rgba(0, 10, 121, 1.0)"
          ],
          [
           0.05905511811023622,
           "rgba(0, 10, 123, 1.0)"
          ],
          [
           0.06299212598425197,
           "rgba(0, 11, 126, 1.0)"
          ],
          [
           0.06692913385826771,
           "rgba(0, 11, 128, 1.0)"
          ],
          [
           0.07086614173228346,
           "rgba(0, 11, 131, 1.0)"
          ],
          [
           0.07480314960629922,
           "rgba(0, 11, 133, 1.0)"
          ],
          [
           0.07874015748031496,
           "rgba(0, 12, 136, 1.0)"
          ],
          [
           0.0826771653543307,
           "rgba(0, 12, 138, 1.0)"
          ],
          [
           0.08661417322834646,
           "rgba(0, 12, 141, 1.0)"
          ],
          [
           0.09055118110236221,
           "rgba(0, 13, 143, 1.0)"
          ],
          [
           0.09448818897637795,
           "rgba(0, 13, 146, 1.0)"
          ],
          [
           0.09842519685039369,
           "rgba(0, 13, 148, 1.0)"
          ],
          [
           0.10236220472440945,
           "rgba(0, 14, 151, 1.0)"
          ],
          [
           0.1062992125984252,
           "rgba(0, 14, 153, 1.0)"
          ],
          [
           0.11023622047244094,
           "rgba(0, 14, 156, 1.0)"
          ],
          [
           0.11417322834645668,
           "rgba(0, 15, 158, 1.0)"
          ],
          [
           0.11811023622047244,
           "rgba(0, 15, 161, 1.0)"
          ],
          [
           0.1220472440944882,
           "rgba(0, 15, 163, 1.0)"
          ],
          [
           0.12598425196850394,
           "rgba(0, 16, 166, 1.0)"
          ],
          [
           0.12992125984251968,
           "rgba(0, 16, 168, 1.0)"
          ],
          [
           0.13385826771653542,
           "rgba(0, 16, 171, 1.0)"
          ],
          [
           0.1377952755905512,
           "rgba(0, 17, 173, 1.0)"
          ],
          [
           0.14173228346456693,
           "rgba(0, 17, 176, 1.0)"
          ],
          [
           0.14566929133858267,
           "rgba(0, 17, 178, 1.0)"
          ],
          [
           0.14960629921259844,
           "rgba(0, 18, 181, 1.0)"
          ],
          [
           0.15354330708661418,
           "rgba(0, 18, 183, 1.0)"
          ],
          [
           0.15748031496062992,
           "rgba(0, 19, 186, 1.0)"
          ],
          [
           0.16141732283464566,
           "rgba(0, 19, 188, 1.0)"
          ],
          [
           0.1653543307086614,
           "rgba(0, 19, 191, 1.0)"
          ],
          [
           0.16929133858267717,
           "rgba(0, 20, 193, 1.0)"
          ],
          [
           0.1732283464566929,
           "rgba(0, 20, 196, 1.0)"
          ],
          [
           0.17716535433070865,
           "rgba(0, 21, 198, 1.0)"
          ],
          [
           0.18110236220472442,
           "rgba(0, 21, 200, 1.0)"
          ],
          [
           0.18503937007874016,
           "rgba(0, 22, 203, 1.0)"
          ],
          [
           0.1889763779527559,
           "rgba(0, 22, 205, 1.0)"
          ],
          [
           0.19291338582677164,
           "rgba(0, 22, 207, 1.0)"
          ],
          [
           0.19685039370078738,
           "rgba(0, 23, 209, 1.0)"
          ],
          [
           0.20078740157480315,
           "rgba(0, 23, 211, 1.0)"
          ],
          [
           0.2047244094488189,
           "rgba(0, 23, 213, 1.0)"
          ],
          [
           0.20866141732283464,
           "rgba(0, 24, 215, 1.0)"
          ],
          [
           0.2125984251968504,
           "rgba(0, 24, 217, 1.0)"
          ],
          [
           0.21653543307086615,
           "rgba(0, 25, 219, 1.0)"
          ],
          [
           0.2204724409448819,
           "rgba(0, 25, 221, 1.0)"
          ],
          [
           0.22440944881889763,
           "rgba(0, 25, 223, 1.0)"
          ],
          [
           0.22834645669291337,
           "rgba(0, 25, 225, 1.0)"
          ],
          [
           0.23228346456692914,
           "rgba(0, 26, 226, 1.0)"
          ],
          [
           0.23622047244094488,
           "rgba(0, 26, 228, 1.0)"
          ],
          [
           0.24015748031496062,
           "rgba(0, 26, 230, 1.0)"
          ],
          [
           0.2440944881889764,
           "rgba(0, 27, 231, 1.0)"
          ],
          [
           0.24803149606299213,
           "rgba(0, 27, 233, 1.0)"
          ],
          [
           0.25196850393700787,
           "rgba(0, 27, 234, 1.0)"
          ],
          [
           0.2559055118110236,
           "rgba(0, 27, 235, 1.0)"
          ],
          [
           0.25984251968503935,
           "rgba(0, 28, 237, 1.0)"
          ],
          [
           0.2637795275590551,
           "rgba(0, 28, 238, 1.0)"
          ],
          [
           0.26771653543307083,
           "rgba(0, 28, 239, 1.0)"
          ],
          [
           0.27165354330708663,
           "rgba(0, 28, 240, 1.0)"
          ],
          [
           0.2755905511811024,
           "rgba(0, 29, 242, 1.0)"
          ],
          [
           0.2795275590551181,
           "rgba(0, 29, 243, 1.0)"
          ],
          [
           0.28346456692913385,
           "rgba(0, 29, 244, 1.0)"
          ],
          [
           0.2874015748031496,
           "rgba(0, 29, 245, 1.0)"
          ],
          [
           0.29133858267716534,
           "rgba(0, 29, 246, 1.0)"
          ],
          [
           0.2952755905511811,
           "rgba(0, 30, 247, 1.0)"
          ],
          [
           0.2992125984251969,
           "rgba(0, 30, 247, 1.0)"
          ],
          [
           0.3031496062992126,
           "rgba(0, 30, 248, 1.0)"
          ],
          [
           0.30708661417322836,
           "rgba(0, 30, 249, 1.0)"
          ],
          [
           0.3110236220472441,
           "rgba(0, 30, 250, 1.0)"
          ],
          [
           0.31496062992125984,
           "rgba(0, 30, 251, 1.0)"
          ],
          [
           0.3188976377952756,
           "rgba(0, 30, 251, 1.0)"
          ],
          [
           0.3228346456692913,
           "rgba(0, 31, 252, 1.0)"
          ],
          [
           0.32677165354330706,
           "rgba(10, 31, 253, 1.0)"
          ],
          [
           0.3307086614173228,
           "rgba(24, 31, 253, 1.0)"
          ],
          [
           0.3346456692913386,
           "rgba(33, 31, 254, 1.0)"
          ],
          [
           0.33858267716535434,
           "rgba(41, 31, 254, 1.0)"
          ],
          [
           0.3425196850393701,
           "rgba(47, 31, 255, 1.0)"
          ],
          [
           0.3464566929133858,
           "rgba(53, 31, 255, 1.0)"
          ],
          [
           0.35039370078740156,
           "rgba(59, 31, 255, 1.0)"
          ],
          [
           0.3543307086614173,
           "rgba(64, 31, 255, 1.0)"
          ],
          [
           0.35826771653543305,
           "rgba(69, 31, 255, 1.0)"
          ],
          [
           0.36220472440944884,
           "rgba(73, 31, 255, 1.0)"
          ],
          [
           0.3661417322834646,
           "rgba(78, 31, 255, 1.0)"
          ],
          [
           0.3700787401574803,
           "rgba(82, 31, 255, 1.0)"
          ],
          [
           0.37401574803149606,
           "rgba(86, 31, 255, 1.0)"
          ],
          [
           0.3779527559055118,
           "rgba(90, 31, 255, 1.0)"
          ],
          [
           0.38188976377952755,
           "rgba(94, 31, 255, 1.0)"
          ],
          [
           0.3858267716535433,
           "rgba(98, 31, 255, 1.0)"
          ],
          [
           0.38976377952755903,
           "rgba(101, 31, 255, 1.0)"
          ],
          [
           0.39370078740157477,
           "rgba(105, 31, 255, 1.0)"
          ],
          [
           0.39763779527559057,
           "rgba(108, 31, 255, 1.0)"
          ],
          [
           0.4015748031496063,
           "rgba(112, 31, 255, 1.0)"
          ],
          [
           0.40551181102362205,
           "rgba(115, 31, 255, 1.0)"
          ],
          [
           0.4094488188976378,
           "rgba(119, 31, 255, 1.0)"
          ],
          [
           0.41338582677165353,
           "rgba(122, 30, 255, 1.0)"
          ],
          [
           0.41732283464566927,
           "rgba(125, 30, 255, 1.0)"
          ],
          [
           0.421259842519685,
           "rgba(128, 30, 255, 1.0)"
          ],
          [
           0.4251968503937008,
           "rgba(131, 30, 255, 1.0)"
          ],
          [
           0.42913385826771655,
           "rgba(134, 30, 255, 1.0)"
          ],
          [
           0.4330708661417323,
           "rgba(137, 30, 255, 1.0)"
          ],
          [
           0.43700787401574803,
           "rgba(140, 30, 255, 1.0)"
          ],
          [
           0.4409448818897638,
           "rgba(143, 30, 255, 1.0)"
          ],
          [
           0.4448818897637795,
           "rgba(145, 30, 255, 1.0)"
          ],
          [
           0.44881889763779526,
           "rgba(148, 30, 255, 1.0)"
          ],
          [
           0.452755905511811,
           "rgba(151, 30, 255, 1.0)"
          ],
          [
           0.45669291338582674,
           "rgba(154, 30, 255, 1.0)"
          ],
          [
           0.46062992125984253,
           "rgba(156, 30, 255, 1.0)"
          ],
          [
           0.4645669291338583,
           "rgba(159, 30, 255, 1.0)"
          ],
          [
           0.468503937007874,
           "rgba(161, 30, 255, 1.0)"
          ],
          [
           0.47244094488188976,
           "rgba(164, 30, 255, 1.0)"
          ],
          [
           0.4763779527559055,
           "rgba(167, 30, 255, 1.0)"
          ],
          [
           0.48031496062992124,
           "rgba(169, 30, 255, 1.0)"
          ],
          [
           0.484251968503937,
           "rgba(172, 30, 255, 1.0)"
          ],
          [
           0.4881889763779528,
           "rgba(174, 30, 255, 1.0)"
          ],
          [
           0.4921259842519685,
           "rgba(177, 30, 255, 1.0)"
          ],
          [
           0.49606299212598426,
           "rgba(179, 30, 255, 1.0)"
          ],
          [
           0.5,
           "rgba(184, 30, 255, 1.0)"
          ],
          [
           0.5039370078740157,
           "rgba(186, 30, 255, 1.0)"
          ],
          [
           0.5078740157480315,
           "rgba(189, 30, 255, 1.0)"
          ],
          [
           0.5118110236220472,
           "rgba(191, 30, 255, 1.0)"
          ],
          [
           0.515748031496063,
           "rgba(193, 30, 255, 1.0)"
          ],
          [
           0.5196850393700787,
           "rgba(195, 31, 255, 1.0)"
          ],
          [
           0.5236220472440944,
           "rgba(197, 31, 255, 1.0)"
          ],
          [
           0.5275590551181102,
           "rgba(200, 32, 255, 1.0)"
          ],
          [
           0.5314960629921259,
           "rgba(202, 33, 255, 1.0)"
          ],
          [
           0.5354330708661417,
           "rgba(204, 33, 255, 1.0)"
          ],
          [
           0.5393700787401575,
           "rgba(206, 34, 255, 1.0)"
          ],
          [
           0.5433070866141733,
           "rgba(208, 35, 255, 1.0)"
          ],
          [
           0.547244094488189,
           "rgba(209, 36, 255, 1.0)"
          ],
          [
           0.5511811023622047,
           "rgba(211, 37, 255, 1.0)"
          ],
          [
           0.5551181102362205,
           "rgba(213, 38, 255, 1.0)"
          ],
          [
           0.5590551181102362,
           "rgba(215, 39, 255, 1.0)"
          ],
          [
           0.562992125984252,
           "rgba(217, 40, 255, 1.0)"
          ],
          [
           0.5669291338582677,
           "rgba(218, 41, 255, 1.0)"
          ],
          [
           0.5708661417322834,
           "rgba(220, 43, 255, 1.0)"
          ],
          [
           0.5748031496062992,
           "rgba(222, 44, 255, 1.0)"
          ],
          [
           0.5787401574803149,
           "rgba(223, 45, 255, 1.0)"
          ],
          [
           0.5826771653543307,
           "rgba(225, 47, 255, 1.0)"
          ],
          [
           0.5866141732283464,
           "rgba(227, 48, 255, 1.0)"
          ],
          [
           0.5905511811023622,
           "rgba(228, 50, 255, 1.0)"
          ],
          [
           0.5944881889763779,
           "rgba(230, 51, 255, 1.0)"
          ],
          [
           0.5984251968503937,
           "rgba(231, 53, 255, 1.0)"
          ],
          [
           0.6023622047244095,
           "rgba(232, 54, 255, 1.0)"
          ],
          [
           0.6062992125984252,
           "rgba(234, 56, 255, 1.0)"
          ],
          [
           0.610236220472441,
           "rgba(235, 57, 255, 1.0)"
          ],
          [
           0.6141732283464567,
           "rgba(236, 59, 255, 1.0)"
          ],
          [
           0.6181102362204725,
           "rgba(238, 61, 255, 1.0)"
          ],
          [
           0.6220472440944882,
           "rgba(239, 63, 255, 1.0)"
          ],
          [
           0.6259842519685039,
           "rgba(240, 64, 255, 1.0)"
          ],
          [
           0.6299212598425197,
           "rgba(241, 66, 255, 1.0)"
          ],
          [
           0.6338582677165354,
           "rgba(242, 68, 255, 1.0)"
          ],
          [
           0.6377952755905512,
           "rgba(243, 70, 255, 1.0)"
          ],
          [
           0.6417322834645669,
           "rgba(244, 72, 255, 1.0)"
          ],
          [
           0.6456692913385826,
           "rgba(245, 74, 255, 1.0)"
          ],
          [
           0.6496062992125984,
           "rgba(246, 76, 255, 1.0)"
          ],
          [
           0.6535433070866141,
           "rgba(247, 78, 255, 1.0)"
          ],
          [
           0.6574803149606299,
           "rgba(248, 80, 255, 1.0)"
          ],
          [
           0.6614173228346456,
           "rgba(249, 82, 255, 1.0)"
          ],
          [
           0.6653543307086615,
           "rgba(249, 84, 255, 1.0)"
          ],
          [
           0.6692913385826772,
           "rgba(250, 86, 255, 1.0)"
          ],
          [
           0.6732283464566929,
           "rgba(251, 88, 255, 1.0)"
          ],
          [
           0.6771653543307087,
           "rgba(251, 90, 255, 1.0)"
          ],
          [
           0.6811023622047244,
           "rgba(252, 92, 255, 1.0)"
          ],
          [
           0.6850393700787402,
           "rgba(252, 94, 255, 1.0)"
          ],
          [
           0.6889763779527559,
           "rgba(253, 96, 255, 1.0)"
          ],
          [
           0.6929133858267716,
           "rgba(253, 98, 255, 1.0)"
          ],
          [
           0.6968503937007874,
           "rgba(254, 100, 255, 1.0)"
          ],
          [
           0.7007874015748031,
           "rgba(254, 103, 255, 1.0)"
          ],
          [
           0.7047244094488189,
           "rgba(254, 105, 255, 1.0)"
          ],
          [
           0.7086614173228346,
           "rgba(254, 107, 255, 1.0)"
          ],
          [
           0.7125984251968503,
           "rgba(255, 109, 255, 1.0)"
          ],
          [
           0.7165354330708661,
           "rgba(255, 111, 255, 1.0)"
          ],
          [
           0.7204724409448818,
           "rgba(255, 113, 255, 1.0)"
          ],
          [
           0.7244094488188977,
           "rgba(255, 116, 255, 1.0)"
          ],
          [
           0.7283464566929134,
           "rgba(255, 118, 255, 1.0)"
          ],
          [
           0.7322834645669292,
           "rgba(255, 120, 255, 1.0)"
          ],
          [
           0.7362204724409449,
           "rgba(255, 122, 255, 1.0)"
          ],
          [
           0.7401574803149606,
           "rgba(255, 124, 255, 1.0)"
          ],
          [
           0.7440944881889764,
           "rgba(255, 126, 255, 1.0)"
          ],
          [
           0.7480314960629921,
           "rgba(255, 128, 255, 1.0)"
          ],
          [
           0.7519685039370079,
           "rgba(255, 130, 255, 1.0)"
          ],
          [
           0.7559055118110236,
           "rgba(255, 132, 255, 1.0)"
          ],
          [
           0.7598425196850394,
           "rgba(255, 134, 255, 1.0)"
          ],
          [
           0.7637795275590551,
           "rgba(255, 136, 255, 1.0)"
          ],
          [
           0.7677165354330708,
           "rgba(255, 138, 255, 1.0)"
          ],
          [
           0.7716535433070866,
           "rgba(255, 140, 255, 1.0)"
          ],
          [
           0.7755905511811023,
           "rgba(255, 142, 255, 1.0)"
          ],
          [
           0.7795275590551181,
           "rgba(255, 143, 255, 1.0)"
          ],
          [
           0.7834645669291338,
           "rgba(255, 145, 255, 1.0)"
          ],
          [
           0.7874015748031495,
           "rgba(255, 147, 255, 1.0)"
          ],
          [
           0.7913385826771654,
           "rgba(255, 149, 255, 1.0)"
          ],
          [
           0.7952755905511811,
           "rgba(255, 151, 255, 1.0)"
          ],
          [
           0.7992125984251969,
           "rgba(255, 152, 255, 1.0)"
          ],
          [
           0.8031496062992126,
           "rgba(255, 154, 255, 1.0)"
          ],
          [
           0.8070866141732284,
           "rgba(255, 156, 255, 1.0)"
          ],
          [
           0.8110236220472441,
           "rgba(255, 158, 255, 1.0)"
          ],
          [
           0.8149606299212598,
           "rgba(255, 159, 255, 1.0)"
          ],
          [
           0.8188976377952756,
           "rgba(255, 161, 255, 1.0)"
          ],
          [
           0.8228346456692913,
           "rgba(255, 163, 255, 1.0)"
          ],
          [
           0.8267716535433071,
           "rgba(255, 165, 255, 1.0)"
          ],
          [
           0.8307086614173228,
           "rgba(255, 166, 255, 1.0)"
          ],
          [
           0.8346456692913385,
           "rgba(255, 168, 255, 1.0)"
          ],
          [
           0.8385826771653543,
           "rgba(255, 170, 255, 1.0)"
          ],
          [
           0.84251968503937,
           "rgba(255, 171, 255, 1.0)"
          ],
          [
           0.8464566929133858,
           "rgba(255, 173, 255, 1.0)"
          ],
          [
           0.8503937007874016,
           "rgba(255, 175, 255, 1.0)"
          ],
          [
           0.8543307086614174,
           "rgba(255, 176, 255, 1.0)"
          ],
          [
           0.8582677165354331,
           "rgba(255, 178, 255, 1.0)"
          ],
          [
           0.8622047244094488,
           "rgba(255, 180, 255, 1.0)"
          ],
          [
           0.8661417322834646,
           "rgba(255, 181, 255, 1.0)"
          ],
          [
           0.8700787401574803,
           "rgba(255, 183, 255, 1.0)"
          ],
          [
           0.8740157480314961,
           "rgba(255, 184, 255, 1.0)"
          ],
          [
           0.8779527559055118,
           "rgba(255, 186, 255, 1.0)"
          ],
          [
           0.8818897637795275,
           "rgba(255, 188, 255, 1.0)"
          ],
          [
           0.8858267716535433,
           "rgba(255, 189, 255, 1.0)"
          ],
          [
           0.889763779527559,
           "rgba(255, 191, 255, 1.0)"
          ],
          [
           0.8937007874015748,
           "rgba(255, 192, 255, 1.0)"
          ],
          [
           0.8976377952755905,
           "rgba(255, 194, 255, 1.0)"
          ],
          [
           0.9015748031496063,
           "rgba(255, 196, 255, 1.0)"
          ],
          [
           0.905511811023622,
           "rgba(255, 197, 255, 1.0)"
          ],
          [
           0.9094488188976377,
           "rgba(255, 199, 255, 1.0)"
          ],
          [
           0.9133858267716535,
           "rgba(255, 200, 255, 1.0)"
          ],
          [
           0.9173228346456693,
           "rgba(255, 202, 255, 1.0)"
          ],
          [
           0.9212598425196851,
           "rgba(255, 203, 255, 1.0)"
          ],
          [
           0.9251968503937008,
           "rgba(255, 205, 255, 1.0)"
          ],
          [
           0.9291338582677166,
           "rgba(255, 207, 255, 1.0)"
          ],
          [
           0.9330708661417323,
           "rgba(255, 208, 255, 1.0)"
          ],
          [
           0.937007874015748,
           "rgba(255, 210, 255, 1.0)"
          ],
          [
           0.9409448818897638,
           "rgba(255, 211, 255, 1.0)"
          ],
          [
           0.9448818897637795,
           "rgba(255, 213, 255, 1.0)"
          ],
          [
           0.9488188976377953,
           "rgba(255, 214, 255, 1.0)"
          ],
          [
           0.952755905511811,
           "rgba(255, 216, 255, 1.0)"
          ],
          [
           0.9566929133858267,
           "rgba(255, 217, 255, 1.0)"
          ],
          [
           0.9606299212598425,
           "rgba(255, 219, 255, 1.0)"
          ],
          [
           0.9645669291338582,
           "rgba(255, 221, 255, 1.0)"
          ],
          [
           0.968503937007874,
           "rgba(255, 222, 254, 1.0)"
          ],
          [
           0.9724409448818897,
           "rgba(255, 224, 254, 1.0)"
          ],
          [
           0.9763779527559056,
           "rgba(255, 225, 254, 1.0)"
          ],
          [
           0.9803149606299213,
           "rgba(255, 227, 254, 1.0)"
          ],
          [
           0.984251968503937,
           "rgba(254, 228, 254, 1.0)"
          ],
          [
           0.9881889763779528,
           "rgba(254, 230, 254, 1.0)"
          ],
          [
           0.9921259842519685,
           "rgba(254, 231, 254, 1.0)"
          ],
          [
           0.9960629921259843,
           "rgba(254, 233, 254, 1.0)"
          ],
          [
           1,
           "rgba(254, 234, 254, 1.0)"
          ]
         ],
         "hoverinfo": "none",
         "showscale": false,
         "type": "heatmap",
         "xaxis": "x4",
         "yaxis": "y4",
         "z": [
          [
           -4.008773924307505,
           -3.998672914206495,
           -3.9885719041054846,
           -3.9784708940044746,
           -3.9683698839034647,
           -3.9582688738024543,
           -3.9481678637014443,
           -3.938066853600434,
           -3.927965843499424,
           -3.917864833398414,
           -3.9077638232974037,
           -3.8976628131963937,
           -3.887561803095384,
           -3.8774607929943734,
           -3.8673597828933635,
           -3.8572587727923535,
           -3.847157762691343,
           -3.837056752590333,
           -3.8269557424893232,
           -3.816854732388313,
           -3.806753722287303,
           -3.796652712186293,
           -3.7865517020852826,
           -3.7764506919842726,
           -3.7663496818832627,
           -3.7562486717822523,
           -3.7461476616812424,
           -3.736046651580232,
           -3.725945641479222,
           -3.715844631378212,
           -3.7057436212772017,
           -3.6956426111761917,
           -3.685541601075182,
           -3.6754405909741714,
           -3.6653395808731615,
           -3.655238570772151,
           -3.645137560671141,
           -3.635036550570131,
           -3.624935540469121,
           -3.614834530368111,
           -3.604733520267101,
           -3.5946325101660905,
           -3.5845315000650806,
           -3.5744304899640706,
           -3.5643294798630603,
           -3.5542284697620503,
           -3.5441274596610404,
           -3.53402644956003,
           -3.52392543945902,
           -3.51382442935801,
           -3.5037234192569997,
           -3.4936224091559898,
           -3.48352139905498,
           -3.4734203889539694,
           -3.4633193788529595,
           -3.4532183687519495,
           -3.443117358650939,
           -3.433016348549929,
           -3.4229153384489193,
           -3.412814328347909,
           -3.402713318246899,
           -3.3926123081458885,
           -3.3825112980448786,
           -3.372410287943868,
           -3.3623092778428583,
           -3.3522082677418483,
           -3.342107257640838,
           -3.332006247539828,
           -3.321905237438818,
           -3.3118042273378077,
           -3.3017032172367977,
           -3.2916022071357878,
           -3.2815011970347774,
           -3.2714001869337674,
           -3.2612991768327575,
           -3.251198166731747,
           -3.241097156630737,
           -3.230996146529727,
           -3.220895136428717,
           -3.210794126327707,
           -3.200693116226697,
           -3.1905921061256866,
           -3.1804910960246766,
           -3.1703900859236667,
           -3.1602890758226563,
           -3.1501880657216463,
           -3.1400870556206364,
           -3.129986045519626,
           -3.119885035418616,
           -3.1097840253176057,
           -3.0996830152165957,
           -3.089582005115586,
           -3.0794809950145754,
           -3.0693799849135655,
           -3.059278974812555,
           -3.049177964711545,
           -3.039076954610535,
           -3.028975944509525,
           -3.018874934408515,
           -3.008773924307505
          ],
          [
           -4.008773924307505,
           -3.998672914206495,
           -3.9885719041054846,
           -3.9784708940044746,
           -3.9683698839034647,
           -3.9582688738024543,
           -3.9481678637014443,
           -3.938066853600434,
           -3.927965843499424,
           -3.917864833398414,
           -3.9077638232974037,
           -3.8976628131963937,
           -3.887561803095384,
           -3.8774607929943734,
           -3.8673597828933635,
           -3.8572587727923535,
           -3.847157762691343,
           -3.837056752590333,
           -3.8269557424893232,
           -3.816854732388313,
           -3.806753722287303,
           -3.796652712186293,
           -3.7865517020852826,
           -3.7764506919842726,
           -3.7663496818832627,
           -3.7562486717822523,
           -3.7461476616812424,
           -3.736046651580232,
           -3.725945641479222,
           -3.715844631378212,
           -3.7057436212772017,
           -3.6956426111761917,
           -3.685541601075182,
           -3.6754405909741714,
           -3.6653395808731615,
           -3.655238570772151,
           -3.645137560671141,
           -3.635036550570131,
           -3.624935540469121,
           -3.614834530368111,
           -3.604733520267101,
           -3.5946325101660905,
           -3.5845315000650806,
           -3.5744304899640706,
           -3.5643294798630603,
           -3.5542284697620503,
           -3.5441274596610404,
           -3.53402644956003,
           -3.52392543945902,
           -3.51382442935801,
           -3.5037234192569997,
           -3.4936224091559898,
           -3.48352139905498,
           -3.4734203889539694,
           -3.4633193788529595,
           -3.4532183687519495,
           -3.443117358650939,
           -3.433016348549929,
           -3.4229153384489193,
           -3.412814328347909,
           -3.402713318246899,
           -3.3926123081458885,
           -3.3825112980448786,
           -3.372410287943868,
           -3.3623092778428583,
           -3.3522082677418483,
           -3.342107257640838,
           -3.332006247539828,
           -3.321905237438818,
           -3.3118042273378077,
           -3.3017032172367977,
           -3.2916022071357878,
           -3.2815011970347774,
           -3.2714001869337674,
           -3.2612991768327575,
           -3.251198166731747,
           -3.241097156630737,
           -3.230996146529727,
           -3.220895136428717,
           -3.210794126327707,
           -3.200693116226697,
           -3.1905921061256866,
           -3.1804910960246766,
           -3.1703900859236667,
           -3.1602890758226563,
           -3.1501880657216463,
           -3.1400870556206364,
           -3.129986045519626,
           -3.119885035418616,
           -3.1097840253176057,
           -3.0996830152165957,
           -3.089582005115586,
           -3.0794809950145754,
           -3.0693799849135655,
           -3.059278974812555,
           -3.049177964711545,
           -3.039076954610535,
           -3.028975944509525,
           -3.018874934408515,
           -3.008773924307505
          ]
         ]
        },
        {
         "colorscale": [
          [
           0,
           "rgba(0, 4, 88, 1.0)"
          ],
          [
           0.003937007874015748,
           "rgba(0, 5, 90, 1.0)"
          ],
          [
           0.007874015748031496,
           "rgba(0, 5, 92, 1.0)"
          ],
          [
           0.011811023622047244,
           "rgba(0, 6, 95, 1.0)"
          ],
          [
           0.015748031496062992,
           "rgba(0, 7, 97, 1.0)"
          ],
          [
           0.01968503937007874,
           "rgba(0, 7, 100, 1.0)"
          ],
          [
           0.023622047244094488,
           "rgba(0, 8, 102, 1.0)"
          ],
          [
           0.027559055118110236,
           "rgba(0, 8, 104, 1.0)"
          ],
          [
           0.031496062992125984,
           "rgba(0, 8, 107, 1.0)"
          ],
          [
           0.03543307086614173,
           "rgba(0, 9, 109, 1.0)"
          ],
          [
           0.03937007874015748,
           "rgba(0, 9, 111, 1.0)"
          ],
          [
           0.04330708661417323,
           "rgba(0, 9, 114, 1.0)"
          ],
          [
           0.047244094488188976,
           "rgba(0, 9, 116, 1.0)"
          ],
          [
           0.051181102362204724,
           "rgba(0, 10, 119, 1.0)"
          ],
          [
           0.05511811023622047,
           "rgba(0, 10, 121, 1.0)"
          ],
          [
           0.05905511811023622,
           "rgba(0, 10, 123, 1.0)"
          ],
          [
           0.06299212598425197,
           "rgba(0, 11, 126, 1.0)"
          ],
          [
           0.06692913385826771,
           "rgba(0, 11, 128, 1.0)"
          ],
          [
           0.07086614173228346,
           "rgba(0, 11, 131, 1.0)"
          ],
          [
           0.07480314960629922,
           "rgba(0, 11, 133, 1.0)"
          ],
          [
           0.07874015748031496,
           "rgba(0, 12, 136, 1.0)"
          ],
          [
           0.0826771653543307,
           "rgba(0, 12, 138, 1.0)"
          ],
          [
           0.08661417322834646,
           "rgba(0, 12, 141, 1.0)"
          ],
          [
           0.09055118110236221,
           "rgba(0, 13, 143, 1.0)"
          ],
          [
           0.09448818897637795,
           "rgba(0, 13, 146, 1.0)"
          ],
          [
           0.09842519685039369,
           "rgba(0, 13, 148, 1.0)"
          ],
          [
           0.10236220472440945,
           "rgba(0, 14, 151, 1.0)"
          ],
          [
           0.1062992125984252,
           "rgba(0, 14, 153, 1.0)"
          ],
          [
           0.11023622047244094,
           "rgba(0, 14, 156, 1.0)"
          ],
          [
           0.11417322834645668,
           "rgba(0, 15, 158, 1.0)"
          ],
          [
           0.11811023622047244,
           "rgba(0, 15, 161, 1.0)"
          ],
          [
           0.1220472440944882,
           "rgba(0, 15, 163, 1.0)"
          ],
          [
           0.12598425196850394,
           "rgba(0, 16, 166, 1.0)"
          ],
          [
           0.12992125984251968,
           "rgba(0, 16, 168, 1.0)"
          ],
          [
           0.13385826771653542,
           "rgba(0, 16, 171, 1.0)"
          ],
          [
           0.1377952755905512,
           "rgba(0, 17, 173, 1.0)"
          ],
          [
           0.14173228346456693,
           "rgba(0, 17, 176, 1.0)"
          ],
          [
           0.14566929133858267,
           "rgba(0, 17, 178, 1.0)"
          ],
          [
           0.14960629921259844,
           "rgba(0, 18, 181, 1.0)"
          ],
          [
           0.15354330708661418,
           "rgba(0, 18, 183, 1.0)"
          ],
          [
           0.15748031496062992,
           "rgba(0, 19, 186, 1.0)"
          ],
          [
           0.16141732283464566,
           "rgba(0, 19, 188, 1.0)"
          ],
          [
           0.1653543307086614,
           "rgba(0, 19, 191, 1.0)"
          ],
          [
           0.16929133858267717,
           "rgba(0, 20, 193, 1.0)"
          ],
          [
           0.1732283464566929,
           "rgba(0, 20, 196, 1.0)"
          ],
          [
           0.17716535433070865,
           "rgba(0, 21, 198, 1.0)"
          ],
          [
           0.18110236220472442,
           "rgba(0, 21, 200, 1.0)"
          ],
          [
           0.18503937007874016,
           "rgba(0, 22, 203, 1.0)"
          ],
          [
           0.1889763779527559,
           "rgba(0, 22, 205, 1.0)"
          ],
          [
           0.19291338582677164,
           "rgba(0, 22, 207, 1.0)"
          ],
          [
           0.19685039370078738,
           "rgba(0, 23, 209, 1.0)"
          ],
          [
           0.20078740157480315,
           "rgba(0, 23, 211, 1.0)"
          ],
          [
           0.2047244094488189,
           "rgba(0, 23, 213, 1.0)"
          ],
          [
           0.20866141732283464,
           "rgba(0, 24, 215, 1.0)"
          ],
          [
           0.2125984251968504,
           "rgba(0, 24, 217, 1.0)"
          ],
          [
           0.21653543307086615,
           "rgba(0, 25, 219, 1.0)"
          ],
          [
           0.2204724409448819,
           "rgba(0, 25, 221, 1.0)"
          ],
          [
           0.22440944881889763,
           "rgba(0, 25, 223, 1.0)"
          ],
          [
           0.22834645669291337,
           "rgba(0, 25, 225, 1.0)"
          ],
          [
           0.23228346456692914,
           "rgba(0, 26, 226, 1.0)"
          ],
          [
           0.23622047244094488,
           "rgba(0, 26, 228, 1.0)"
          ],
          [
           0.24015748031496062,
           "rgba(0, 26, 230, 1.0)"
          ],
          [
           0.2440944881889764,
           "rgba(0, 27, 231, 1.0)"
          ],
          [
           0.24803149606299213,
           "rgba(0, 27, 233, 1.0)"
          ],
          [
           0.25196850393700787,
           "rgba(0, 27, 234, 1.0)"
          ],
          [
           0.2559055118110236,
           "rgba(0, 27, 235, 1.0)"
          ],
          [
           0.25984251968503935,
           "rgba(0, 28, 237, 1.0)"
          ],
          [
           0.2637795275590551,
           "rgba(0, 28, 238, 1.0)"
          ],
          [
           0.26771653543307083,
           "rgba(0, 28, 239, 1.0)"
          ],
          [
           0.27165354330708663,
           "rgba(0, 28, 240, 1.0)"
          ],
          [
           0.2755905511811024,
           "rgba(0, 29, 242, 1.0)"
          ],
          [
           0.2795275590551181,
           "rgba(0, 29, 243, 1.0)"
          ],
          [
           0.28346456692913385,
           "rgba(0, 29, 244, 1.0)"
          ],
          [
           0.2874015748031496,
           "rgba(0, 29, 245, 1.0)"
          ],
          [
           0.29133858267716534,
           "rgba(0, 29, 246, 1.0)"
          ],
          [
           0.2952755905511811,
           "rgba(0, 30, 247, 1.0)"
          ],
          [
           0.2992125984251969,
           "rgba(0, 30, 247, 1.0)"
          ],
          [
           0.3031496062992126,
           "rgba(0, 30, 248, 1.0)"
          ],
          [
           0.30708661417322836,
           "rgba(0, 30, 249, 1.0)"
          ],
          [
           0.3110236220472441,
           "rgba(0, 30, 250, 1.0)"
          ],
          [
           0.31496062992125984,
           "rgba(0, 30, 251, 1.0)"
          ],
          [
           0.3188976377952756,
           "rgba(0, 30, 251, 1.0)"
          ],
          [
           0.3228346456692913,
           "rgba(0, 31, 252, 1.0)"
          ],
          [
           0.32677165354330706,
           "rgba(10, 31, 253, 1.0)"
          ],
          [
           0.3307086614173228,
           "rgba(24, 31, 253, 1.0)"
          ],
          [
           0.3346456692913386,
           "rgba(33, 31, 254, 1.0)"
          ],
          [
           0.33858267716535434,
           "rgba(41, 31, 254, 1.0)"
          ],
          [
           0.3425196850393701,
           "rgba(47, 31, 255, 1.0)"
          ],
          [
           0.3464566929133858,
           "rgba(53, 31, 255, 1.0)"
          ],
          [
           0.35039370078740156,
           "rgba(59, 31, 255, 1.0)"
          ],
          [
           0.3543307086614173,
           "rgba(64, 31, 255, 1.0)"
          ],
          [
           0.35826771653543305,
           "rgba(69, 31, 255, 1.0)"
          ],
          [
           0.36220472440944884,
           "rgba(73, 31, 255, 1.0)"
          ],
          [
           0.3661417322834646,
           "rgba(78, 31, 255, 1.0)"
          ],
          [
           0.3700787401574803,
           "rgba(82, 31, 255, 1.0)"
          ],
          [
           0.37401574803149606,
           "rgba(86, 31, 255, 1.0)"
          ],
          [
           0.3779527559055118,
           "rgba(90, 31, 255, 1.0)"
          ],
          [
           0.38188976377952755,
           "rgba(94, 31, 255, 1.0)"
          ],
          [
           0.3858267716535433,
           "rgba(98, 31, 255, 1.0)"
          ],
          [
           0.38976377952755903,
           "rgba(101, 31, 255, 1.0)"
          ],
          [
           0.39370078740157477,
           "rgba(105, 31, 255, 1.0)"
          ],
          [
           0.39763779527559057,
           "rgba(108, 31, 255, 1.0)"
          ],
          [
           0.4015748031496063,
           "rgba(112, 31, 255, 1.0)"
          ],
          [
           0.40551181102362205,
           "rgba(115, 31, 255, 1.0)"
          ],
          [
           0.4094488188976378,
           "rgba(119, 31, 255, 1.0)"
          ],
          [
           0.41338582677165353,
           "rgba(122, 30, 255, 1.0)"
          ],
          [
           0.41732283464566927,
           "rgba(125, 30, 255, 1.0)"
          ],
          [
           0.421259842519685,
           "rgba(128, 30, 255, 1.0)"
          ],
          [
           0.4251968503937008,
           "rgba(131, 30, 255, 1.0)"
          ],
          [
           0.42913385826771655,
           "rgba(134, 30, 255, 1.0)"
          ],
          [
           0.4330708661417323,
           "rgba(137, 30, 255, 1.0)"
          ],
          [
           0.43700787401574803,
           "rgba(140, 30, 255, 1.0)"
          ],
          [
           0.4409448818897638,
           "rgba(143, 30, 255, 1.0)"
          ],
          [
           0.4448818897637795,
           "rgba(145, 30, 255, 1.0)"
          ],
          [
           0.44881889763779526,
           "rgba(148, 30, 255, 1.0)"
          ],
          [
           0.452755905511811,
           "rgba(151, 30, 255, 1.0)"
          ],
          [
           0.45669291338582674,
           "rgba(154, 30, 255, 1.0)"
          ],
          [
           0.46062992125984253,
           "rgba(156, 30, 255, 1.0)"
          ],
          [
           0.4645669291338583,
           "rgba(159, 30, 255, 1.0)"
          ],
          [
           0.468503937007874,
           "rgba(161, 30, 255, 1.0)"
          ],
          [
           0.47244094488188976,
           "rgba(164, 30, 255, 1.0)"
          ],
          [
           0.4763779527559055,
           "rgba(167, 30, 255, 1.0)"
          ],
          [
           0.48031496062992124,
           "rgba(169, 30, 255, 1.0)"
          ],
          [
           0.484251968503937,
           "rgba(172, 30, 255, 1.0)"
          ],
          [
           0.4881889763779528,
           "rgba(174, 30, 255, 1.0)"
          ],
          [
           0.4921259842519685,
           "rgba(177, 30, 255, 1.0)"
          ],
          [
           0.49606299212598426,
           "rgba(179, 30, 255, 1.0)"
          ],
          [
           0.5,
           "rgba(184, 30, 255, 1.0)"
          ],
          [
           0.5039370078740157,
           "rgba(186, 30, 255, 1.0)"
          ],
          [
           0.5078740157480315,
           "rgba(189, 30, 255, 1.0)"
          ],
          [
           0.5118110236220472,
           "rgba(191, 30, 255, 1.0)"
          ],
          [
           0.515748031496063,
           "rgba(193, 30, 255, 1.0)"
          ],
          [
           0.5196850393700787,
           "rgba(195, 31, 255, 1.0)"
          ],
          [
           0.5236220472440944,
           "rgba(197, 31, 255, 1.0)"
          ],
          [
           0.5275590551181102,
           "rgba(200, 32, 255, 1.0)"
          ],
          [
           0.5314960629921259,
           "rgba(202, 33, 255, 1.0)"
          ],
          [
           0.5354330708661417,
           "rgba(204, 33, 255, 1.0)"
          ],
          [
           0.5393700787401575,
           "rgba(206, 34, 255, 1.0)"
          ],
          [
           0.5433070866141733,
           "rgba(208, 35, 255, 1.0)"
          ],
          [
           0.547244094488189,
           "rgba(209, 36, 255, 1.0)"
          ],
          [
           0.5511811023622047,
           "rgba(211, 37, 255, 1.0)"
          ],
          [
           0.5551181102362205,
           "rgba(213, 38, 255, 1.0)"
          ],
          [
           0.5590551181102362,
           "rgba(215, 39, 255, 1.0)"
          ],
          [
           0.562992125984252,
           "rgba(217, 40, 255, 1.0)"
          ],
          [
           0.5669291338582677,
           "rgba(218, 41, 255, 1.0)"
          ],
          [
           0.5708661417322834,
           "rgba(220, 43, 255, 1.0)"
          ],
          [
           0.5748031496062992,
           "rgba(222, 44, 255, 1.0)"
          ],
          [
           0.5787401574803149,
           "rgba(223, 45, 255, 1.0)"
          ],
          [
           0.5826771653543307,
           "rgba(225, 47, 255, 1.0)"
          ],
          [
           0.5866141732283464,
           "rgba(227, 48, 255, 1.0)"
          ],
          [
           0.5905511811023622,
           "rgba(228, 50, 255, 1.0)"
          ],
          [
           0.5944881889763779,
           "rgba(230, 51, 255, 1.0)"
          ],
          [
           0.5984251968503937,
           "rgba(231, 53, 255, 1.0)"
          ],
          [
           0.6023622047244095,
           "rgba(232, 54, 255, 1.0)"
          ],
          [
           0.6062992125984252,
           "rgba(234, 56, 255, 1.0)"
          ],
          [
           0.610236220472441,
           "rgba(235, 57, 255, 1.0)"
          ],
          [
           0.6141732283464567,
           "rgba(236, 59, 255, 1.0)"
          ],
          [
           0.6181102362204725,
           "rgba(238, 61, 255, 1.0)"
          ],
          [
           0.6220472440944882,
           "rgba(239, 63, 255, 1.0)"
          ],
          [
           0.6259842519685039,
           "rgba(240, 64, 255, 1.0)"
          ],
          [
           0.6299212598425197,
           "rgba(241, 66, 255, 1.0)"
          ],
          [
           0.6338582677165354,
           "rgba(242, 68, 255, 1.0)"
          ],
          [
           0.6377952755905512,
           "rgba(243, 70, 255, 1.0)"
          ],
          [
           0.6417322834645669,
           "rgba(244, 72, 255, 1.0)"
          ],
          [
           0.6456692913385826,
           "rgba(245, 74, 255, 1.0)"
          ],
          [
           0.6496062992125984,
           "rgba(246, 76, 255, 1.0)"
          ],
          [
           0.6535433070866141,
           "rgba(247, 78, 255, 1.0)"
          ],
          [
           0.6574803149606299,
           "rgba(248, 80, 255, 1.0)"
          ],
          [
           0.6614173228346456,
           "rgba(249, 82, 255, 1.0)"
          ],
          [
           0.6653543307086615,
           "rgba(249, 84, 255, 1.0)"
          ],
          [
           0.6692913385826772,
           "rgba(250, 86, 255, 1.0)"
          ],
          [
           0.6732283464566929,
           "rgba(251, 88, 255, 1.0)"
          ],
          [
           0.6771653543307087,
           "rgba(251, 90, 255, 1.0)"
          ],
          [
           0.6811023622047244,
           "rgba(252, 92, 255, 1.0)"
          ],
          [
           0.6850393700787402,
           "rgba(252, 94, 255, 1.0)"
          ],
          [
           0.6889763779527559,
           "rgba(253, 96, 255, 1.0)"
          ],
          [
           0.6929133858267716,
           "rgba(253, 98, 255, 1.0)"
          ],
          [
           0.6968503937007874,
           "rgba(254, 100, 255, 1.0)"
          ],
          [
           0.7007874015748031,
           "rgba(254, 103, 255, 1.0)"
          ],
          [
           0.7047244094488189,
           "rgba(254, 105, 255, 1.0)"
          ],
          [
           0.7086614173228346,
           "rgba(254, 107, 255, 1.0)"
          ],
          [
           0.7125984251968503,
           "rgba(255, 109, 255, 1.0)"
          ],
          [
           0.7165354330708661,
           "rgba(255, 111, 255, 1.0)"
          ],
          [
           0.7204724409448818,
           "rgba(255, 113, 255, 1.0)"
          ],
          [
           0.7244094488188977,
           "rgba(255, 116, 255, 1.0)"
          ],
          [
           0.7283464566929134,
           "rgba(255, 118, 255, 1.0)"
          ],
          [
           0.7322834645669292,
           "rgba(255, 120, 255, 1.0)"
          ],
          [
           0.7362204724409449,
           "rgba(255, 122, 255, 1.0)"
          ],
          [
           0.7401574803149606,
           "rgba(255, 124, 255, 1.0)"
          ],
          [
           0.7440944881889764,
           "rgba(255, 126, 255, 1.0)"
          ],
          [
           0.7480314960629921,
           "rgba(255, 128, 255, 1.0)"
          ],
          [
           0.7519685039370079,
           "rgba(255, 130, 255, 1.0)"
          ],
          [
           0.7559055118110236,
           "rgba(255, 132, 255, 1.0)"
          ],
          [
           0.7598425196850394,
           "rgba(255, 134, 255, 1.0)"
          ],
          [
           0.7637795275590551,
           "rgba(255, 136, 255, 1.0)"
          ],
          [
           0.7677165354330708,
           "rgba(255, 138, 255, 1.0)"
          ],
          [
           0.7716535433070866,
           "rgba(255, 140, 255, 1.0)"
          ],
          [
           0.7755905511811023,
           "rgba(255, 142, 255, 1.0)"
          ],
          [
           0.7795275590551181,
           "rgba(255, 143, 255, 1.0)"
          ],
          [
           0.7834645669291338,
           "rgba(255, 145, 255, 1.0)"
          ],
          [
           0.7874015748031495,
           "rgba(255, 147, 255, 1.0)"
          ],
          [
           0.7913385826771654,
           "rgba(255, 149, 255, 1.0)"
          ],
          [
           0.7952755905511811,
           "rgba(255, 151, 255, 1.0)"
          ],
          [
           0.7992125984251969,
           "rgba(255, 152, 255, 1.0)"
          ],
          [
           0.8031496062992126,
           "rgba(255, 154, 255, 1.0)"
          ],
          [
           0.8070866141732284,
           "rgba(255, 156, 255, 1.0)"
          ],
          [
           0.8110236220472441,
           "rgba(255, 158, 255, 1.0)"
          ],
          [
           0.8149606299212598,
           "rgba(255, 159, 255, 1.0)"
          ],
          [
           0.8188976377952756,
           "rgba(255, 161, 255, 1.0)"
          ],
          [
           0.8228346456692913,
           "rgba(255, 163, 255, 1.0)"
          ],
          [
           0.8267716535433071,
           "rgba(255, 165, 255, 1.0)"
          ],
          [
           0.8307086614173228,
           "rgba(255, 166, 255, 1.0)"
          ],
          [
           0.8346456692913385,
           "rgba(255, 168, 255, 1.0)"
          ],
          [
           0.8385826771653543,
           "rgba(255, 170, 255, 1.0)"
          ],
          [
           0.84251968503937,
           "rgba(255, 171, 255, 1.0)"
          ],
          [
           0.8464566929133858,
           "rgba(255, 173, 255, 1.0)"
          ],
          [
           0.8503937007874016,
           "rgba(255, 175, 255, 1.0)"
          ],
          [
           0.8543307086614174,
           "rgba(255, 176, 255, 1.0)"
          ],
          [
           0.8582677165354331,
           "rgba(255, 178, 255, 1.0)"
          ],
          [
           0.8622047244094488,
           "rgba(255, 180, 255, 1.0)"
          ],
          [
           0.8661417322834646,
           "rgba(255, 181, 255, 1.0)"
          ],
          [
           0.8700787401574803,
           "rgba(255, 183, 255, 1.0)"
          ],
          [
           0.8740157480314961,
           "rgba(255, 184, 255, 1.0)"
          ],
          [
           0.8779527559055118,
           "rgba(255, 186, 255, 1.0)"
          ],
          [
           0.8818897637795275,
           "rgba(255, 188, 255, 1.0)"
          ],
          [
           0.8858267716535433,
           "rgba(255, 189, 255, 1.0)"
          ],
          [
           0.889763779527559,
           "rgba(255, 191, 255, 1.0)"
          ],
          [
           0.8937007874015748,
           "rgba(255, 192, 255, 1.0)"
          ],
          [
           0.8976377952755905,
           "rgba(255, 194, 255, 1.0)"
          ],
          [
           0.9015748031496063,
           "rgba(255, 196, 255, 1.0)"
          ],
          [
           0.905511811023622,
           "rgba(255, 197, 255, 1.0)"
          ],
          [
           0.9094488188976377,
           "rgba(255, 199, 255, 1.0)"
          ],
          [
           0.9133858267716535,
           "rgba(255, 200, 255, 1.0)"
          ],
          [
           0.9173228346456693,
           "rgba(255, 202, 255, 1.0)"
          ],
          [
           0.9212598425196851,
           "rgba(255, 203, 255, 1.0)"
          ],
          [
           0.9251968503937008,
           "rgba(255, 205, 255, 1.0)"
          ],
          [
           0.9291338582677166,
           "rgba(255, 207, 255, 1.0)"
          ],
          [
           0.9330708661417323,
           "rgba(255, 208, 255, 1.0)"
          ],
          [
           0.937007874015748,
           "rgba(255, 210, 255, 1.0)"
          ],
          [
           0.9409448818897638,
           "rgba(255, 211, 255, 1.0)"
          ],
          [
           0.9448818897637795,
           "rgba(255, 213, 255, 1.0)"
          ],
          [
           0.9488188976377953,
           "rgba(255, 214, 255, 1.0)"
          ],
          [
           0.952755905511811,
           "rgba(255, 216, 255, 1.0)"
          ],
          [
           0.9566929133858267,
           "rgba(255, 217, 255, 1.0)"
          ],
          [
           0.9606299212598425,
           "rgba(255, 219, 255, 1.0)"
          ],
          [
           0.9645669291338582,
           "rgba(255, 221, 255, 1.0)"
          ],
          [
           0.968503937007874,
           "rgba(255, 222, 254, 1.0)"
          ],
          [
           0.9724409448818897,
           "rgba(255, 224, 254, 1.0)"
          ],
          [
           0.9763779527559056,
           "rgba(255, 225, 254, 1.0)"
          ],
          [
           0.9803149606299213,
           "rgba(255, 227, 254, 1.0)"
          ],
          [
           0.984251968503937,
           "rgba(254, 228, 254, 1.0)"
          ],
          [
           0.9881889763779528,
           "rgba(254, 230, 254, 1.0)"
          ],
          [
           0.9921259842519685,
           "rgba(254, 231, 254, 1.0)"
          ],
          [
           0.9960629921259843,
           "rgba(254, 233, 254, 1.0)"
          ],
          [
           1,
           "rgba(254, 234, 254, 1.0)"
          ]
         ],
         "hoverinfo": "none",
         "showscale": false,
         "type": "heatmap",
         "xaxis": "x5",
         "yaxis": "y5",
         "z": [
          [
           -2.4436974992327127,
           -2.4348584965721907,
           -2.426019493911668,
           -2.417180491251146,
           -2.408341488590624,
           -2.3995024859301015,
           -2.3906634832695794,
           -2.3818244806090574,
           -2.372985477948535,
           -2.364146475288013,
           -2.3553074726274903,
           -2.3464684699669682,
           -2.337629467306446,
           -2.3287904646459237,
           -2.3199514619854016,
           -2.3111124593248795,
           -2.302273456664357,
           -2.293434454003835,
           -2.284595451343313,
           -2.2757564486827904,
           -2.2669174460222683,
           -2.2580784433617462,
           -2.2492394407012237,
           -2.2404004380407017,
           -2.231561435380179,
           -2.222722432719657,
           -2.213883430059135,
           -2.2050444273986125,
           -2.1962054247380904,
           -2.1873664220775684,
           -2.178527419417046,
           -2.169688416756524,
           -2.1608494140960017,
           -2.152010411435479,
           -2.143171408774957,
           -2.134332406114435,
           -2.1254934034539126,
           -2.1166544007933905,
           -2.1078153981328684,
           -2.098976395472346,
           -2.090137392811824,
           -2.0812983901513014,
           -2.0724593874907793,
           -2.0636203848302572,
           -2.0547813821697347,
           -2.0459423795092126,
           -2.0371033768486906,
           -2.028264374188168,
           -2.019425371527646,
           -2.010586368867124,
           -2.0017473662066014,
           -1.9929083635460794,
           -1.984069360885557,
           -1.9752303582250348,
           -1.9663913555645127,
           -1.9575523529039904,
           -1.9487133502434681,
           -1.939874347582946,
           -1.9310353449224238,
           -1.9221963422619015,
           -1.9133573396013794,
           -1.904518336940857,
           -1.8956793342803349,
           -1.8868403316198126,
           -1.8780013289592903,
           -1.8691623262987682,
           -1.860323323638246,
           -1.8514843209777236,
           -1.8426453183172016,
           -1.8338063156566793,
           -1.824967312996157,
           -1.816128310335635,
           -1.8072893076751126,
           -1.7984503050145904,
           -1.7896113023540683,
           -1.7807722996935458,
           -1.7719332970330237,
           -1.7630942943725016,
           -1.7542552917119791,
           -1.745416289051457,
           -1.7365772863909348,
           -1.7277382837304125,
           -1.7188992810698904,
           -1.7100602784093681,
           -1.7012212757488459,
           -1.6923822730883238,
           -1.6835432704278015,
           -1.6747042677672792,
           -1.6658652651067571,
           -1.6570262624462346,
           -1.6481872597857126,
           -1.6393482571251905,
           -1.630509254464668,
           -1.621670251804146,
           -1.6128312491436236,
           -1.6039922464831013,
           -1.5951532438225793,
           -1.586314241162057,
           -1.5774752385015347,
           -1.5686362358410126
          ],
          [
           -2.4436974992327127,
           -2.4348584965721907,
           -2.426019493911668,
           -2.417180491251146,
           -2.408341488590624,
           -2.3995024859301015,
           -2.3906634832695794,
           -2.3818244806090574,
           -2.372985477948535,
           -2.364146475288013,
           -2.3553074726274903,
           -2.3464684699669682,
           -2.337629467306446,
           -2.3287904646459237,
           -2.3199514619854016,
           -2.3111124593248795,
           -2.302273456664357,
           -2.293434454003835,
           -2.284595451343313,
           -2.2757564486827904,
           -2.2669174460222683,
           -2.2580784433617462,
           -2.2492394407012237,
           -2.2404004380407017,
           -2.231561435380179,
           -2.222722432719657,
           -2.213883430059135,
           -2.2050444273986125,
           -2.1962054247380904,
           -2.1873664220775684,
           -2.178527419417046,
           -2.169688416756524,
           -2.1608494140960017,
           -2.152010411435479,
           -2.143171408774957,
           -2.134332406114435,
           -2.1254934034539126,
           -2.1166544007933905,
           -2.1078153981328684,
           -2.098976395472346,
           -2.090137392811824,
           -2.0812983901513014,
           -2.0724593874907793,
           -2.0636203848302572,
           -2.0547813821697347,
           -2.0459423795092126,
           -2.0371033768486906,
           -2.028264374188168,
           -2.019425371527646,
           -2.010586368867124,
           -2.0017473662066014,
           -1.9929083635460794,
           -1.984069360885557,
           -1.9752303582250348,
           -1.9663913555645127,
           -1.9575523529039904,
           -1.9487133502434681,
           -1.939874347582946,
           -1.9310353449224238,
           -1.9221963422619015,
           -1.9133573396013794,
           -1.904518336940857,
           -1.8956793342803349,
           -1.8868403316198126,
           -1.8780013289592903,
           -1.8691623262987682,
           -1.860323323638246,
           -1.8514843209777236,
           -1.8426453183172016,
           -1.8338063156566793,
           -1.824967312996157,
           -1.816128310335635,
           -1.8072893076751126,
           -1.7984503050145904,
           -1.7896113023540683,
           -1.7807722996935458,
           -1.7719332970330237,
           -1.7630942943725016,
           -1.7542552917119791,
           -1.745416289051457,
           -1.7365772863909348,
           -1.7277382837304125,
           -1.7188992810698904,
           -1.7100602784093681,
           -1.7012212757488459,
           -1.6923822730883238,
           -1.6835432704278015,
           -1.6747042677672792,
           -1.6658652651067571,
           -1.6570262624462346,
           -1.6481872597857126,
           -1.6393482571251905,
           -1.630509254464668,
           -1.621670251804146,
           -1.6128312491436236,
           -1.6039922464831013,
           -1.5951532438225793,
           -1.586314241162057,
           -1.5774752385015347,
           -1.5686362358410126
          ]
         ]
        },
        {
         "hoverinfo": "text",
         "hoverlabel": {
          "font": {
           "color": "#000000"
          }
         },
         "hovertext": [
          "<b>Qubit 13</b><br>M<sub>err</sub> = 0.0198<br>P<sub>0|1</sub> = 0.0196<br>P<sub>1|0</sub> = 0.02"
         ],
         "marker": {
          "color": "#c7c7c5"
         },
         "orientation": "h",
         "type": "bar",
         "x": [
          0.01980000000000004
         ],
         "xaxis": "x",
         "y": [
          13
         ],
         "yaxis": "y"
        },
        {
         "hoverinfo": "text",
         "hoverlabel": {
          "font": {
           "color": "#000000"
          }
         },
         "hovertext": [
          "<b>Qubit 12</b><br>M<sub>err</sub> = 0.055<br>P<sub>0|1</sub> = 0.0352<br>P<sub>1|0</sub> = 0.0748"
         ],
         "marker": {
          "color": "#c7c7c5"
         },
         "orientation": "h",
         "type": "bar",
         "x": [
          0.05499999999999994
         ],
         "xaxis": "x",
         "y": [
          12
         ],
         "yaxis": "y"
        },
        {
         "hoverinfo": "text",
         "hoverlabel": {
          "font": {
           "color": "#000000"
          }
         },
         "hovertext": [
          "<b>Qubit 11</b><br>M<sub>err</sub> = 0.015<br>P<sub>0|1</sub> = 0.0154<br>P<sub>1|0</sub> = 0.0146"
         ],
         "marker": {
          "color": "#c7c7c5"
         },
         "orientation": "h",
         "type": "bar",
         "x": [
          0.014999999999999902
         ],
         "xaxis": "x",
         "y": [
          11
         ],
         "yaxis": "y"
        },
        {
         "hoverinfo": "text",
         "hoverlabel": {
          "font": {
           "color": "#000000"
          }
         },
         "hovertext": [
          "<b>Qubit 10</b><br>M<sub>err</sub> = 0.0212<br>P<sub>0|1</sub> = 0.0218<br>P<sub>1|0</sub> = 0.0206"
         ],
         "marker": {
          "color": "#c7c7c5"
         },
         "orientation": "h",
         "type": "bar",
         "x": [
          0.021199999999999997
         ],
         "xaxis": "x",
         "y": [
          10
         ],
         "yaxis": "y"
        },
        {
         "hoverinfo": "text",
         "hoverlabel": {
          "font": {
           "color": "#000000"
          }
         },
         "hovertext": [
          "<b>Qubit 9</b><br>M<sub>err</sub> = 0.0101<br>P<sub>0|1</sub> = 0.014<br>P<sub>1|0</sub> = 0.0062"
         ],
         "marker": {
          "color": "#c7c7c5"
         },
         "orientation": "h",
         "type": "bar",
         "x": [
          0.010099999999999998
         ],
         "xaxis": "x",
         "y": [
          9
         ],
         "yaxis": "y"
        },
        {
         "hoverinfo": "text",
         "hoverlabel": {
          "font": {
           "color": "#000000"
          }
         },
         "hovertext": [
          "<b>Qubit 8</b><br>M<sub>err</sub> = 0.0111<br>P<sub>0|1</sub> = 0.011<br>P<sub>1|0</sub> = 0.0112"
         ],
         "marker": {
          "color": "#c7c7c5"
         },
         "orientation": "h",
         "type": "bar",
         "x": [
          0.011099999999999999
         ],
         "xaxis": "x",
         "y": [
          8
         ],
         "yaxis": "y"
        },
        {
         "hoverinfo": "text",
         "hoverlabel": {
          "font": {
           "color": "#000000"
          }
         },
         "hovertext": [
          "<b>Qubit 7</b><br>M<sub>err</sub> = 0.0125<br>P<sub>0|1</sub> = 0.0118<br>P<sub>1|0</sub> = 0.0132"
         ],
         "marker": {
          "color": "#c7c7c5"
         },
         "orientation": "h",
         "type": "bar",
         "x": [
          0.012499999999999956
         ],
         "xaxis": "x",
         "y": [
          7
         ],
         "yaxis": "y"
        },
        {
         "hoverinfo": "text",
         "hoverlabel": {
          "font": {
           "color": "#000000"
          }
         },
         "hovertext": [
          "<b>Qubit 6</b><br>M<sub>err</sub> = 0.0115<br>P<sub>0|1</sub> = 0.0162<br>P<sub>1|0</sub> = 0.0068"
         ],
         "marker": {
          "color": "#c7c7c5"
         },
         "orientation": "h",
         "type": "bar",
         "x": [
          0.011500000000000066
         ],
         "xaxis": "x",
         "y": [
          6
         ],
         "yaxis": "y"
        },
        {
         "hoverinfo": "text",
         "hoverlabel": {
          "font": {
           "color": "#000000"
          }
         },
         "hovertext": [
          "<b>Qubit 5</b><br>M<sub>err</sub> = 0.0054<br>P<sub>0|1</sub> = 0.0062<br>P<sub>1|0</sub> = 0.0046"
         ],
         "marker": {
          "color": "#c7c7c5"
         },
         "orientation": "h",
         "type": "bar",
         "x": [
          0.005400000000000071
         ],
         "xaxis": "x",
         "y": [
          5
         ],
         "yaxis": "y"
        },
        {
         "hoverinfo": "text",
         "hoverlabel": {
          "font": {
           "color": "#000000"
          }
         },
         "hovertext": [
          "<b>Qubit 4</b><br>M<sub>err</sub> = 0.0096<br>P<sub>0|1</sub> = 0.0138<br>P<sub>1|0</sub> = 0.0054"
         ],
         "marker": {
          "color": "#c7c7c5"
         },
         "orientation": "h",
         "type": "bar",
         "x": [
          0.009600000000000053
         ],
         "xaxis": "x",
         "y": [
          4
         ],
         "yaxis": "y"
        },
        {
         "hoverinfo": "text",
         "hoverlabel": {
          "font": {
           "color": "#000000"
          }
         },
         "hovertext": [
          "<b>Qubit 3</b><br>M<sub>err</sub> = 0.0055<br>P<sub>0|1</sub> = 0.007<br>P<sub>1|0</sub> = 0.004"
         ],
         "marker": {
          "color": "#c7c7c5"
         },
         "orientation": "h",
         "type": "bar",
         "x": [
          0.00550000000000006
         ],
         "xaxis": "x",
         "y": [
          3
         ],
         "yaxis": "y"
        },
        {
         "hoverinfo": "text",
         "hoverlabel": {
          "font": {
           "color": "#000000"
          }
         },
         "hovertext": [
          "<b>Qubit 2</b><br>M<sub>err</sub> = 0.0225<br>P<sub>0|1</sub> = 0.021<br>P<sub>1|0</sub> = 0.024"
         ],
         "marker": {
          "color": "#c7c7c5"
         },
         "orientation": "h",
         "type": "bar",
         "x": [
          0.022499999999999964
         ],
         "xaxis": "x",
         "y": [
          2
         ],
         "yaxis": "y"
        },
        {
         "hoverinfo": "text",
         "hoverlabel": {
          "font": {
           "color": "#000000"
          }
         },
         "hovertext": [
          "<b>Qubit 1</b><br>M<sub>err</sub> = 0.0094<br>P<sub>0|1</sub> = 0.0102<br>P<sub>1|0</sub> = 0.0086"
         ],
         "marker": {
          "color": "#c7c7c5"
         },
         "orientation": "h",
         "type": "bar",
         "x": [
          0.009400000000000075
         ],
         "xaxis": "x",
         "y": [
          1
         ],
         "yaxis": "y"
        },
        {
         "hoverinfo": "text",
         "hoverlabel": {
          "font": {
           "color": "#000000"
          }
         },
         "hovertext": [
          "<b>Qubit 0</b><br>M<sub>err</sub> = 0.0071<br>P<sub>0|1</sub> = 0.009<br>P<sub>1|0</sub> = 0.0052"
         ],
         "marker": {
          "color": "#c7c7c5"
         },
         "orientation": "h",
         "type": "bar",
         "x": [
          0.007099999999999995
         ],
         "xaxis": "x",
         "y": [
          0
         ],
         "yaxis": "y"
        },
        {
         "hoverinfo": "none",
         "line": {
          "color": "#000000",
          "dash": "dot",
          "width": 2
         },
         "mode": "lines",
         "type": "scatter",
         "x": [
          0.015125925925925942,
          0.015125925925925942
         ],
         "xaxis": "x",
         "y": [
          -0.25,
          13.25
         ],
         "yaxis": "y"
        },
        {
         "hoverinfo": "text",
         "hoverlabel": {
          "font": {
           "color": "#000000"
          }
         },
         "hovertext": [
          "<b>Qubit 26</b><br>M<sub>err</sub> = 0.0098<br>P<sub>0|1</sub> = 0.0138<br>P<sub>1|0</sub> = 0.0058"
         ],
         "marker": {
          "color": "#c7c7c5"
         },
         "orientation": "h",
         "type": "bar",
         "x": [
          -0.009800000000000031
         ],
         "xaxis": "x3",
         "y": [
          26
         ],
         "yaxis": "y3"
        },
        {
         "hoverinfo": "text",
         "hoverlabel": {
          "font": {
           "color": "#000000"
          }
         },
         "hovertext": [
          "<b>Qubit 25</b><br>M<sub>err</sub> = 0.0147<br>P<sub>0|1</sub> = 0.0144<br>P<sub>1|0</sub> = 0.015"
         ],
         "marker": {
          "color": "#c7c7c5"
         },
         "orientation": "h",
         "type": "bar",
         "x": [
          -0.014699999999999935
         ],
         "xaxis": "x3",
         "y": [
          25
         ],
         "yaxis": "y3"
        },
        {
         "hoverinfo": "text",
         "hoverlabel": {
          "font": {
           "color": "#000000"
          }
         },
         "hovertext": [
          "<b>Qubit 24</b><br>M<sub>err</sub> = 0.0132<br>P<sub>0|1</sub> = 0.0148<br>P<sub>1|0</sub> = 0.0116"
         ],
         "marker": {
          "color": "#c7c7c5"
         },
         "orientation": "h",
         "type": "bar",
         "x": [
          -0.01319999999999999
         ],
         "xaxis": "x3",
         "y": [
          24
         ],
         "yaxis": "y3"
        },
        {
         "hoverinfo": "text",
         "hoverlabel": {
          "font": {
           "color": "#000000"
          }
         },
         "hovertext": [
          "<b>Qubit 23</b><br>M<sub>err</sub> = 0.0221<br>P<sub>0|1</sub> = 0.0224<br>P<sub>1|0</sub> = 0.0218"
         ],
         "marker": {
          "color": "#c7c7c5"
         },
         "orientation": "h",
         "type": "bar",
         "x": [
          -0.02210000000000001
         ],
         "xaxis": "x3",
         "y": [
          23
         ],
         "yaxis": "y3"
        },
        {
         "hoverinfo": "text",
         "hoverlabel": {
          "font": {
           "color": "#000000"
          }
         },
         "hovertext": [
          "<b>Qubit 22</b><br>M<sub>err</sub> = 0.0115<br>P<sub>0|1</sub> = 0.014<br>P<sub>1|0</sub> = 0.009"
         ],
         "marker": {
          "color": "#c7c7c5"
         },
         "orientation": "h",
         "type": "bar",
         "x": [
          -0.011500000000000066
         ],
         "xaxis": "x3",
         "y": [
          22
         ],
         "yaxis": "y3"
        },
        {
         "hoverinfo": "text",
         "hoverlabel": {
          "font": {
           "color": "#000000"
          }
         },
         "hovertext": [
          "<b>Qubit 21</b><br>M<sub>err</sub> = 0.0099<br>P<sub>0|1</sub> = 0.0122<br>P<sub>1|0</sub> = 0.0076"
         ],
         "marker": {
          "color": "#c7c7c5"
         },
         "orientation": "h",
         "type": "bar",
         "x": [
          -0.00990000000000002
         ],
         "xaxis": "x3",
         "y": [
          21
         ],
         "yaxis": "y3"
        },
        {
         "hoverinfo": "text",
         "hoverlabel": {
          "font": {
           "color": "#000000"
          }
         },
         "hovertext": [
          "<b>Qubit 20</b><br>M<sub>err</sub> = 0.0172<br>P<sub>0|1</sub> = 0.0162<br>P<sub>1|0</sub> = 0.0182"
         ],
         "marker": {
          "color": "#c7c7c5"
         },
         "orientation": "h",
         "type": "bar",
         "x": [
          -0.017199999999999993
         ],
         "xaxis": "x3",
         "y": [
          20
         ],
         "yaxis": "y3"
        },
        {
         "hoverinfo": "text",
         "hoverlabel": {
          "font": {
           "color": "#000000"
          }
         },
         "hovertext": [
          "<b>Qubit 19</b><br>M<sub>err</sub> = 0.0101<br>P<sub>0|1</sub> = 0.0144<br>P<sub>1|0</sub> = 0.0058"
         ],
         "marker": {
          "color": "#c7c7c5"
         },
         "orientation": "h",
         "type": "bar",
         "x": [
          -0.010099999999999998
         ],
         "xaxis": "x3",
         "y": [
          19
         ],
         "yaxis": "y3"
        },
        {
         "hoverinfo": "text",
         "hoverlabel": {
          "font": {
           "color": "#000000"
          }
         },
         "hovertext": [
          "<b>Qubit 18</b><br>M<sub>err</sub> = 0.0113<br>P<sub>0|1</sub> = 0.0128<br>P<sub>1|0</sub> = 0.0098"
         ],
         "marker": {
          "color": "#c7c7c5"
         },
         "orientation": "h",
         "type": "bar",
         "x": [
          -0.011300000000000088
         ],
         "xaxis": "x3",
         "y": [
          18
         ],
         "yaxis": "y3"
        },
        {
         "hoverinfo": "text",
         "hoverlabel": {
          "font": {
           "color": "#000000"
          }
         },
         "hovertext": [
          "<b>Qubit 17</b><br>M<sub>err</sub> = 0.0114<br>P<sub>0|1</sub> = 0.0108<br>P<sub>1|0</sub> = 0.012"
         ],
         "marker": {
          "color": "#c7c7c5"
         },
         "orientation": "h",
         "type": "bar",
         "x": [
          -0.011400000000000077
         ],
         "xaxis": "x3",
         "y": [
          17
         ],
         "yaxis": "y3"
        },
        {
         "hoverinfo": "text",
         "hoverlabel": {
          "font": {
           "color": "#000000"
          }
         },
         "hovertext": [
          "<b>Qubit 16</b><br>M<sub>err</sub> = 0.0155<br>P<sub>0|1</sub> = 0.0198<br>P<sub>1|0</sub> = 0.0112"
         ],
         "marker": {
          "color": "#c7c7c5"
         },
         "orientation": "h",
         "type": "bar",
         "x": [
          -0.01550000000000007
         ],
         "xaxis": "x3",
         "y": [
          16
         ],
         "yaxis": "y3"
        },
        {
         "hoverinfo": "text",
         "hoverlabel": {
          "font": {
           "color": "#000000"
          }
         },
         "hovertext": [
          "<b>Qubit 15</b><br>M<sub>err</sub> = 0.0354<br>P<sub>0|1</sub> = 0.0338<br>P<sub>1|0</sub> = 0.037"
         ],
         "marker": {
          "color": "#c7c7c5"
         },
         "orientation": "h",
         "type": "bar",
         "x": [
          -0.0354000000000001
         ],
         "xaxis": "x3",
         "y": [
          15
         ],
         "yaxis": "y3"
        },
        {
         "hoverinfo": "text",
         "hoverlabel": {
          "font": {
           "color": "#000000"
          }
         },
         "hovertext": [
          "<b>Qubit 14</b><br>M<sub>err</sub> = 0.0106<br>P<sub>0|1</sub> = 0.0132<br>P<sub>1|0</sub> = 0.008"
         ],
         "marker": {
          "color": "#c7c7c5"
         },
         "orientation": "h",
         "type": "bar",
         "x": [
          -0.010599999999999943
         ],
         "xaxis": "x3",
         "y": [
          14
         ],
         "yaxis": "y3"
        },
        {
         "hoverinfo": "none",
         "line": {
          "color": "#000000",
          "dash": "dot",
          "width": 2
         },
         "mode": "lines",
         "type": "scatter",
         "x": [
          -0.015125925925925942,
          -0.015125925925925942
         ],
         "xaxis": "x3",
         "y": [
          13.75,
          26.25
         ],
         "yaxis": "y3"
        }
       ],
       "layout": {
        "annotations": [
         {
          "font": {
           "size": 13
          },
          "showarrow": false,
          "text": "Readout error",
          "x": 0.08347107438016528,
          "xanchor": "center",
          "xref": "paper",
          "y": 1,
          "yanchor": "bottom",
          "yref": "paper"
         },
         {
          "font": {
           "size": 13
          },
          "showarrow": false,
          "text": "Readout error",
          "x": 0.8239669421487603,
          "xanchor": "center",
          "xref": "paper",
          "y": 1,
          "yanchor": "bottom",
          "yref": "paper"
         },
         {
          "font": {
           "size": 13
          },
          "showarrow": false,
          "text": "SX error rate [Avg. 2.1⋅10<sup>-4</sup>]",
          "x": 0.17603305785123965,
          "xanchor": "center",
          "xref": "paper",
          "y": 0.0425,
          "yanchor": "bottom",
          "yref": "paper"
         },
         {
          "font": {
           "size": 13
          },
          "showarrow": false,
          "text": "CNOT error rate [Avg. 7.3⋅10<sup>-3</sup>]",
          "x": 0.7314049586776858,
          "xanchor": "center",
          "xref": "paper",
          "y": 0.0425,
          "yanchor": "bottom",
          "yref": "paper"
         }
        ],
        "font": {
         "color": "#000000"
        },
        "hoverlabel": {
         "align": "left",
         "font": {
          "family": "courier,monospace",
          "size": 14
         }
        },
        "margin": {
         "b": 0,
         "l": 0,
         "r": 0,
         "t": 60
        },
        "paper_bgcolor": "white",
        "plot_bgcolor": "white",
        "showlegend": false,
        "template": {
         "data": {
          "bar": [
           {
            "error_x": {
             "color": "#2a3f5f"
            },
            "error_y": {
             "color": "#2a3f5f"
            },
            "marker": {
             "line": {
              "color": "#E5ECF6",
              "width": 0.5
             },
             "pattern": {
              "fillmode": "overlay",
              "size": 10,
              "solidity": 0.2
             }
            },
            "type": "bar"
           }
          ],
          "barpolar": [
           {
            "marker": {
             "line": {
              "color": "#E5ECF6",
              "width": 0.5
             },
             "pattern": {
              "fillmode": "overlay",
              "size": 10,
              "solidity": 0.2
             }
            },
            "type": "barpolar"
           }
          ],
          "carpet": [
           {
            "aaxis": {
             "endlinecolor": "#2a3f5f",
             "gridcolor": "white",
             "linecolor": "white",
             "minorgridcolor": "white",
             "startlinecolor": "#2a3f5f"
            },
            "baxis": {
             "endlinecolor": "#2a3f5f",
             "gridcolor": "white",
             "linecolor": "white",
             "minorgridcolor": "white",
             "startlinecolor": "#2a3f5f"
            },
            "type": "carpet"
           }
          ],
          "choropleth": [
           {
            "colorbar": {
             "outlinewidth": 0,
             "ticks": ""
            },
            "type": "choropleth"
           }
          ],
          "contour": [
           {
            "colorbar": {
             "outlinewidth": 0,
             "ticks": ""
            },
            "colorscale": [
             [
              0,
              "#0d0887"
             ],
             [
              0.1111111111111111,
              "#46039f"
             ],
             [
              0.2222222222222222,
              "#7201a8"
             ],
             [
              0.3333333333333333,
              "#9c179e"
             ],
             [
              0.4444444444444444,
              "#bd3786"
             ],
             [
              0.5555555555555556,
              "#d8576b"
             ],
             [
              0.6666666666666666,
              "#ed7953"
             ],
             [
              0.7777777777777778,
              "#fb9f3a"
             ],
             [
              0.8888888888888888,
              "#fdca26"
             ],
             [
              1,
              "#f0f921"
             ]
            ],
            "type": "contour"
           }
          ],
          "contourcarpet": [
           {
            "colorbar": {
             "outlinewidth": 0,
             "ticks": ""
            },
            "type": "contourcarpet"
           }
          ],
          "heatmap": [
           {
            "colorbar": {
             "outlinewidth": 0,
             "ticks": ""
            },
            "colorscale": [
             [
              0,
              "#0d0887"
             ],
             [
              0.1111111111111111,
              "#46039f"
             ],
             [
              0.2222222222222222,
              "#7201a8"
             ],
             [
              0.3333333333333333,
              "#9c179e"
             ],
             [
              0.4444444444444444,
              "#bd3786"
             ],
             [
              0.5555555555555556,
              "#d8576b"
             ],
             [
              0.6666666666666666,
              "#ed7953"
             ],
             [
              0.7777777777777778,
              "#fb9f3a"
             ],
             [
              0.8888888888888888,
              "#fdca26"
             ],
             [
              1,
              "#f0f921"
             ]
            ],
            "type": "heatmap"
           }
          ],
          "heatmapgl": [
           {
            "colorbar": {
             "outlinewidth": 0,
             "ticks": ""
            },
            "colorscale": [
             [
              0,
              "#0d0887"
             ],
             [
              0.1111111111111111,
              "#46039f"
             ],
             [
              0.2222222222222222,
              "#7201a8"
             ],
             [
              0.3333333333333333,
              "#9c179e"
             ],
             [
              0.4444444444444444,
              "#bd3786"
             ],
             [
              0.5555555555555556,
              "#d8576b"
             ],
             [
              0.6666666666666666,
              "#ed7953"
             ],
             [
              0.7777777777777778,
              "#fb9f3a"
             ],
             [
              0.8888888888888888,
              "#fdca26"
             ],
             [
              1,
              "#f0f921"
             ]
            ],
            "type": "heatmapgl"
           }
          ],
          "histogram": [
           {
            "marker": {
             "pattern": {
              "fillmode": "overlay",
              "size": 10,
              "solidity": 0.2
             }
            },
            "type": "histogram"
           }
          ],
          "histogram2d": [
           {
            "colorbar": {
             "outlinewidth": 0,
             "ticks": ""
            },
            "colorscale": [
             [
              0,
              "#0d0887"
             ],
             [
              0.1111111111111111,
              "#46039f"
             ],
             [
              0.2222222222222222,
              "#7201a8"
             ],
             [
              0.3333333333333333,
              "#9c179e"
             ],
             [
              0.4444444444444444,
              "#bd3786"
             ],
             [
              0.5555555555555556,
              "#d8576b"
             ],
             [
              0.6666666666666666,
              "#ed7953"
             ],
             [
              0.7777777777777778,
              "#fb9f3a"
             ],
             [
              0.8888888888888888,
              "#fdca26"
             ],
             [
              1,
              "#f0f921"
             ]
            ],
            "type": "histogram2d"
           }
          ],
          "histogram2dcontour": [
           {
            "colorbar": {
             "outlinewidth": 0,
             "ticks": ""
            },
            "colorscale": [
             [
              0,
              "#0d0887"
             ],
             [
              0.1111111111111111,
              "#46039f"
             ],
             [
              0.2222222222222222,
              "#7201a8"
             ],
             [
              0.3333333333333333,
              "#9c179e"
             ],
             [
              0.4444444444444444,
              "#bd3786"
             ],
             [
              0.5555555555555556,
              "#d8576b"
             ],
             [
              0.6666666666666666,
              "#ed7953"
             ],
             [
              0.7777777777777778,
              "#fb9f3a"
             ],
             [
              0.8888888888888888,
              "#fdca26"
             ],
             [
              1,
              "#f0f921"
             ]
            ],
            "type": "histogram2dcontour"
           }
          ],
          "mesh3d": [
           {
            "colorbar": {
             "outlinewidth": 0,
             "ticks": ""
            },
            "type": "mesh3d"
           }
          ],
          "parcoords": [
           {
            "line": {
             "colorbar": {
              "outlinewidth": 0,
              "ticks": ""
             }
            },
            "type": "parcoords"
           }
          ],
          "pie": [
           {
            "automargin": true,
            "type": "pie"
           }
          ],
          "scatter": [
           {
            "marker": {
             "colorbar": {
              "outlinewidth": 0,
              "ticks": ""
             }
            },
            "type": "scatter"
           }
          ],
          "scatter3d": [
           {
            "line": {
             "colorbar": {
              "outlinewidth": 0,
              "ticks": ""
             }
            },
            "marker": {
             "colorbar": {
              "outlinewidth": 0,
              "ticks": ""
             }
            },
            "type": "scatter3d"
           }
          ],
          "scattercarpet": [
           {
            "marker": {
             "colorbar": {
              "outlinewidth": 0,
              "ticks": ""
             }
            },
            "type": "scattercarpet"
           }
          ],
          "scattergeo": [
           {
            "marker": {
             "colorbar": {
              "outlinewidth": 0,
              "ticks": ""
             }
            },
            "type": "scattergeo"
           }
          ],
          "scattergl": [
           {
            "marker": {
             "colorbar": {
              "outlinewidth": 0,
              "ticks": ""
             }
            },
            "type": "scattergl"
           }
          ],
          "scattermapbox": [
           {
            "marker": {
             "colorbar": {
              "outlinewidth": 0,
              "ticks": ""
             }
            },
            "type": "scattermapbox"
           }
          ],
          "scatterpolar": [
           {
            "marker": {
             "colorbar": {
              "outlinewidth": 0,
              "ticks": ""
             }
            },
            "type": "scatterpolar"
           }
          ],
          "scatterpolargl": [
           {
            "marker": {
             "colorbar": {
              "outlinewidth": 0,
              "ticks": ""
             }
            },
            "type": "scatterpolargl"
           }
          ],
          "scatterternary": [
           {
            "marker": {
             "colorbar": {
              "outlinewidth": 0,
              "ticks": ""
             }
            },
            "type": "scatterternary"
           }
          ],
          "surface": [
           {
            "colorbar": {
             "outlinewidth": 0,
             "ticks": ""
            },
            "colorscale": [
             [
              0,
              "#0d0887"
             ],
             [
              0.1111111111111111,
              "#46039f"
             ],
             [
              0.2222222222222222,
              "#7201a8"
             ],
             [
              0.3333333333333333,
              "#9c179e"
             ],
             [
              0.4444444444444444,
              "#bd3786"
             ],
             [
              0.5555555555555556,
              "#d8576b"
             ],
             [
              0.6666666666666666,
              "#ed7953"
             ],
             [
              0.7777777777777778,
              "#fb9f3a"
             ],
             [
              0.8888888888888888,
              "#fdca26"
             ],
             [
              1,
              "#f0f921"
             ]
            ],
            "type": "surface"
           }
          ],
          "table": [
           {
            "cells": {
             "fill": {
              "color": "#EBF0F8"
             },
             "line": {
              "color": "white"
             }
            },
            "header": {
             "fill": {
              "color": "#C8D4E3"
             },
             "line": {
              "color": "white"
             }
            },
            "type": "table"
           }
          ]
         },
         "layout": {
          "annotationdefaults": {
           "arrowcolor": "#2a3f5f",
           "arrowhead": 0,
           "arrowwidth": 1
          },
          "autotypenumbers": "strict",
          "coloraxis": {
           "colorbar": {
            "outlinewidth": 0,
            "ticks": ""
           }
          },
          "colorscale": {
           "diverging": [
            [
             0,
             "#8e0152"
            ],
            [
             0.1,
             "#c51b7d"
            ],
            [
             0.2,
             "#de77ae"
            ],
            [
             0.3,
             "#f1b6da"
            ],
            [
             0.4,
             "#fde0ef"
            ],
            [
             0.5,
             "#f7f7f7"
            ],
            [
             0.6,
             "#e6f5d0"
            ],
            [
             0.7,
             "#b8e186"
            ],
            [
             0.8,
             "#7fbc41"
            ],
            [
             0.9,
             "#4d9221"
            ],
            [
             1,
             "#276419"
            ]
           ],
           "sequential": [
            [
             0,
             "#0d0887"
            ],
            [
             0.1111111111111111,
             "#46039f"
            ],
            [
             0.2222222222222222,
             "#7201a8"
            ],
            [
             0.3333333333333333,
             "#9c179e"
            ],
            [
             0.4444444444444444,
             "#bd3786"
            ],
            [
             0.5555555555555556,
             "#d8576b"
            ],
            [
             0.6666666666666666,
             "#ed7953"
            ],
            [
             0.7777777777777778,
             "#fb9f3a"
            ],
            [
             0.8888888888888888,
             "#fdca26"
            ],
            [
             1,
             "#f0f921"
            ]
           ],
           "sequentialminus": [
            [
             0,
             "#0d0887"
            ],
            [
             0.1111111111111111,
             "#46039f"
            ],
            [
             0.2222222222222222,
             "#7201a8"
            ],
            [
             0.3333333333333333,
             "#9c179e"
            ],
            [
             0.4444444444444444,
             "#bd3786"
            ],
            [
             0.5555555555555556,
             "#d8576b"
            ],
            [
             0.6666666666666666,
             "#ed7953"
            ],
            [
             0.7777777777777778,
             "#fb9f3a"
            ],
            [
             0.8888888888888888,
             "#fdca26"
            ],
            [
             1,
             "#f0f921"
            ]
           ]
          },
          "colorway": [
           "#636efa",
           "#EF553B",
           "#00cc96",
           "#ab63fa",
           "#FFA15A",
           "#19d3f3",
           "#FF6692",
           "#B6E880",
           "#FF97FF",
           "#FECB52"
          ],
          "font": {
           "color": "#2a3f5f"
          },
          "geo": {
           "bgcolor": "white",
           "lakecolor": "white",
           "landcolor": "#E5ECF6",
           "showlakes": true,
           "showland": true,
           "subunitcolor": "white"
          },
          "hoverlabel": {
           "align": "left"
          },
          "hovermode": "closest",
          "mapbox": {
           "style": "light"
          },
          "paper_bgcolor": "white",
          "plot_bgcolor": "#E5ECF6",
          "polar": {
           "angularaxis": {
            "gridcolor": "white",
            "linecolor": "white",
            "ticks": ""
           },
           "bgcolor": "#E5ECF6",
           "radialaxis": {
            "gridcolor": "white",
            "linecolor": "white",
            "ticks": ""
           }
          },
          "scene": {
           "xaxis": {
            "backgroundcolor": "#E5ECF6",
            "gridcolor": "white",
            "gridwidth": 2,
            "linecolor": "white",
            "showbackground": true,
            "ticks": "",
            "zerolinecolor": "white"
           },
           "yaxis": {
            "backgroundcolor": "#E5ECF6",
            "gridcolor": "white",
            "gridwidth": 2,
            "linecolor": "white",
            "showbackground": true,
            "ticks": "",
            "zerolinecolor": "white"
           },
           "zaxis": {
            "backgroundcolor": "#E5ECF6",
            "gridcolor": "white",
            "gridwidth": 2,
            "linecolor": "white",
            "showbackground": true,
            "ticks": "",
            "zerolinecolor": "white"
           }
          },
          "shapedefaults": {
           "line": {
            "color": "#2a3f5f"
           }
          },
          "ternary": {
           "aaxis": {
            "gridcolor": "white",
            "linecolor": "white",
            "ticks": ""
           },
           "baxis": {
            "gridcolor": "white",
            "linecolor": "white",
            "ticks": ""
           },
           "bgcolor": "#E5ECF6",
           "caxis": {
            "gridcolor": "white",
            "linecolor": "white",
            "ticks": ""
           }
          },
          "title": {
           "x": 0.05
          },
          "xaxis": {
           "automargin": true,
           "gridcolor": "white",
           "linecolor": "white",
           "ticks": "",
           "title": {
            "standoff": 15
           },
           "zerolinecolor": "white",
           "zerolinewidth": 2
          },
          "yaxis": {
           "automargin": true,
           "gridcolor": "white",
           "linecolor": "white",
           "ticks": "",
           "title": {
            "standoff": 15
           },
           "zerolinecolor": "white",
           "zerolinewidth": 2
          }
         }
        },
        "title": {
         "font": {
          "size": 20
         },
         "text": "ibm_hanoi error map",
         "x": 0.452
        },
        "xaxis": {
         "anchor": "y",
         "domain": [
          0,
          0.16694214876033056
         ],
         "linecolor": "#000000",
         "linewidth": 1,
         "range": [
          0,
          0.060499999999999936
         ],
         "showgrid": false,
         "showline": true,
         "tickcolor": "#000000",
         "ticks": "outside",
         "tickvals": [
          0,
          0.02,
          0.05
         ],
         "zeroline": false
        },
        "xaxis2": {
         "anchor": "y2",
         "domain": [
          0.18512396694214875,
          0.7223140495867768
         ],
         "visible": false
        },
        "xaxis3": {
         "anchor": "y3",
         "domain": [
          0.740495867768595,
          0.9074380165289255
         ],
         "linecolor": "#000000",
         "linewidth": 1,
         "range": [
          -0.060499999999999936,
          0
         ],
         "showgrid": false,
         "showline": true,
         "tickcolor": "#000000",
         "ticks": "outside",
         "ticktext": [
          0,
          0.02,
          0.05
         ],
         "tickvals": [
          0,
          -0.02,
          -0.05
         ],
         "zeroline": false
        },
        "xaxis4": {
         "anchor": "y4",
         "domain": [
          0,
          0.3520661157024793
         ],
         "tickfont": {
          "size": 13
         },
         "ticktext": [
          "9.8⋅10<sup>-5</sup>",
          "3.1⋅10<sup>-4</sup>",
          "9.8⋅10<sup>-4</sup>"
         ],
         "tickvals": [
          0,
          49,
          99
         ]
        },
        "xaxis5": {
         "anchor": "y5",
         "domain": [
          0.5553719008264462,
          0.9074380165289255
         ],
         "tickfont": {
          "size": 13
         },
         "ticktext": [
          "3.6⋅10<sup>-3</sup>",
          "9.9⋅10<sup>-3</sup>",
          "2.7⋅10<sup>-2</sup>"
         ],
         "tickvals": [
          0,
          49,
          99
         ]
        },
        "yaxis": {
         "anchor": "x",
         "autorange": "reversed",
         "domain": [
          0.1925,
          1
         ],
         "tickvals": [
          0,
          1,
          2,
          3,
          4,
          5,
          6,
          7,
          8,
          9,
          10,
          11,
          12,
          13
         ]
        },
        "yaxis2": {
         "anchor": "x2",
         "domain": [
          0.1925,
          1
         ],
         "visible": false
        },
        "yaxis3": {
         "anchor": "x3",
         "autorange": "reversed",
         "domain": [
          0.1925,
          1
         ],
         "side": "right",
         "tickvals": [
          26,
          25,
          24,
          23,
          22,
          21,
          20,
          19,
          18,
          17,
          16,
          15,
          14
         ]
        },
        "yaxis4": {
         "anchor": "x4",
         "domain": [
          0,
          0.0425
         ],
         "visible": false
        },
        "yaxis5": {
         "anchor": "x5",
         "domain": [
          0,
          0.0425
         ],
         "visible": false
        }
       }
      },
      "text/html": [
       "<div>                            <div id=\"07c2357c-f399-4ae7-9b10-270cb1a46685\" class=\"plotly-graph-div\" style=\"height:525px; width:100%;\"></div>            <script type=\"text/javascript\">                require([\"plotly\"], function(Plotly) {                    window.PLOTLYENV=window.PLOTLYENV || {};                                    if (document.getElementById(\"07c2357c-f399-4ae7-9b10-270cb1a46685\")) {                    Plotly.newPlot(                        \"07c2357c-f399-4ae7-9b10-270cb1a46685\",                        [{\"hoverinfo\":\"text\",\"hovertext\":\"cnot<sub>err</sub> = 6.02⋅10<sup>-3</sup><br>&#120591;<sub>cx</sub>     = 305.78 ns\",\"line\":{\"color\":\"#001cec\",\"width\":6},\"mode\":\"lines\",\"x\":[0,0.5,0.5],\"y\":[-1,-1,-1],\"type\":\"scatter\",\"xaxis\":\"x2\",\"yaxis\":\"y2\"},{\"hoverinfo\":\"text\",\"hovertext\":\"cnot<sub>err</sub> = 6.02⋅10<sup>-3</sup><br>&#120591;<sub>cx</sub>     = 327.11 ns\",\"line\":{\"color\":\"#001cec\",\"width\":6},\"mode\":\"lines\",\"x\":[1,0.5,0.5],\"y\":[-1,-1,-1],\"type\":\"scatter\",\"xaxis\":\"x2\",\"yaxis\":\"y2\"},{\"hoverinfo\":\"text\",\"hovertext\":\"cnot<sub>err</sub> = 4.2⋅10<sup>-3</sup><br>&#120591;<sub>cx</sub>     = 241.78 ns\",\"line\":{\"color\":\"#000c86\",\"width\":6},\"mode\":\"lines\",\"x\":[1,1,1],\"y\":[-1,-1.5,-1.5],\"type\":\"scatter\",\"xaxis\":\"x2\",\"yaxis\":\"y2\"},{\"hoverinfo\":\"text\",\"hovertext\":\"cnot<sub>err</sub> = 8.34⋅10<sup>-3</sup><br>&#120591;<sub>cx</sub>     = 181.33 ns\",\"line\":{\"color\":\"#7d1fff\",\"width\":6},\"mode\":\"lines\",\"x\":[1,1.5,1.5],\"y\":[-1,-1,-1],\"type\":\"scatter\",\"xaxis\":\"x2\",\"yaxis\":\"y2\"},{\"hoverinfo\":\"text\",\"hovertext\":\"cnot<sub>err</sub> = 4.2⋅10<sup>-3</sup><br>&#120591;<sub>cx</sub>     = 199.11 ns\",\"line\":{\"color\":\"#000c86\",\"width\":6},\"mode\":\"lines\",\"x\":[1,1,1],\"y\":[-2,-1.5,-1.5],\"type\":\"scatter\",\"xaxis\":\"x2\",\"yaxis\":\"y2\"},{\"hoverinfo\":\"text\",\"hovertext\":\"cnot<sub>err</sub> = 7.39⋅10<sup>-3</sup><br>&#120591;<sub>cx</sub>     = 337.78 ns\",\"line\":{\"color\":\"#4520ff\",\"width\":6},\"mode\":\"lines\",\"x\":[1,1,1],\"y\":[-2,-2.5,-2.5],\"type\":\"scatter\",\"xaxis\":\"x2\",\"yaxis\":\"y2\"},{\"hoverinfo\":\"text\",\"hovertext\":\"cnot<sub>err</sub> = 7.39⋅10<sup>-3</sup><br>&#120591;<sub>cx</sub>     = 380.44 ns\",\"line\":{\"color\":\"#4520ff\",\"width\":6},\"mode\":\"lines\",\"x\":[1,1,1],\"y\":[-3,-2.5,-2.5],\"type\":\"scatter\",\"xaxis\":\"x2\",\"yaxis\":\"y2\"},{\"hoverinfo\":\"text\",\"hovertext\":\"cnot<sub>err</sub> = 3.65⋅10<sup>-3</sup><br>&#120591;<sub>cx</sub>     = 227.56 ns\",\"line\":{\"color\":\"#00055b\",\"width\":6},\"mode\":\"lines\",\"x\":[1,1.5,1.5],\"y\":[-3,-3,-3],\"type\":\"scatter\",\"xaxis\":\"x2\",\"yaxis\":\"y2\"},{\"hoverinfo\":\"text\",\"hovertext\":\"cnot<sub>err</sub> = 8.34⋅10<sup>-3</sup><br>&#120591;<sub>cx</sub>     = 224 ns\",\"line\":{\"color\":\"#7d1fff\",\"width\":6},\"mode\":\"lines\",\"x\":[2,1.5,1.5],\"y\":[-1,-1,-1],\"type\":\"scatter\",\"xaxis\":\"x2\",\"yaxis\":\"y2\"},{\"hoverinfo\":\"text\",\"hovertext\":\"cnot<sub>err</sub> = 9.24⋅10<sup>-3</sup><br>&#120591;<sub>cx</sub>     = 256 ns\",\"line\":{\"color\":\"#a21eff\",\"width\":6},\"mode\":\"lines\",\"x\":[2,2.5,2.5],\"y\":[-1,-1,-1],\"type\":\"scatter\",\"xaxis\":\"x2\",\"yaxis\":\"y2\"},{\"hoverinfo\":\"text\",\"hovertext\":\"cnot<sub>err</sub> = 3.65⋅10<sup>-3</sup><br>&#120591;<sub>cx</sub>     = 184.89 ns\",\"line\":{\"color\":\"#00055b\",\"width\":6},\"mode\":\"lines\",\"x\":[2,1.5,1.5],\"y\":[-3,-3,-3],\"type\":\"scatter\",\"xaxis\":\"x2\",\"yaxis\":\"y2\"},{\"hoverinfo\":\"text\",\"hovertext\":\"cnot<sub>err</sub> = 1.0⋅10<sup>0</sup><br>&#120591;<sub>cx</sub>     = 561.78 ns\",\"line\":{\"color\":\"#ff0000\",\"width\":6},\"mode\":\"lines\",\"x\":[2,2.5,2.5],\"y\":[-3,-3,-3],\"type\":\"scatter\",\"xaxis\":\"x2\",\"yaxis\":\"y2\"},{\"hoverinfo\":\"text\",\"hovertext\":\"cnot<sub>err</sub> = 4.63⋅10<sup>-3</sup><br>&#120591;<sub>cx</sub>     = 263.11 ns\",\"line\":{\"color\":\"#0010a4\",\"width\":6},\"mode\":\"lines\",\"x\":[3,3,3],\"y\":[0,-0.5,-0.5],\"type\":\"scatter\",\"xaxis\":\"x2\",\"yaxis\":\"y2\"},{\"hoverinfo\":\"text\",\"hovertext\":\"cnot<sub>err</sub> = 9.24⋅10<sup>-3</sup><br>&#120591;<sub>cx</sub>     = 298.67 ns\",\"line\":{\"color\":\"#a21eff\",\"width\":6},\"mode\":\"lines\",\"x\":[3,2.5,2.5],\"y\":[-1,-1,-1],\"type\":\"scatter\",\"xaxis\":\"x2\",\"yaxis\":\"y2\"},{\"hoverinfo\":\"text\",\"hovertext\":\"cnot<sub>err</sub> = 4.63⋅10<sup>-3</sup><br>&#120591;<sub>cx</sub>     = 284.44 ns\",\"line\":{\"color\":\"#0010a4\",\"width\":6},\"mode\":\"lines\",\"x\":[3,3,3],\"y\":[-1,-0.5,-0.5],\"type\":\"scatter\",\"xaxis\":\"x2\",\"yaxis\":\"y2\"},{\"hoverinfo\":\"text\",\"hovertext\":\"cnot<sub>err</sub> = 7.94⋅10<sup>-3</sup><br>&#120591;<sub>cx</sub>     = 206.22 ns\",\"line\":{\"color\":\"#691fff\",\"width\":6},\"mode\":\"lines\",\"x\":[3,3.5,3.5],\"y\":[-1,-1,-1],\"type\":\"scatter\",\"xaxis\":\"x2\",\"yaxis\":\"y2\"},{\"hoverinfo\":\"text\",\"hovertext\":\"cnot<sub>err</sub> = 1.0⋅10<sup>0</sup><br>&#120591;<sub>cx</sub>     = 540.44 ns\",\"line\":{\"color\":\"#ff0000\",\"width\":6},\"mode\":\"lines\",\"x\":[3,2.5,2.5],\"y\":[-3,-3,-3],\"type\":\"scatter\",\"xaxis\":\"x2\",\"yaxis\":\"y2\"},{\"hoverinfo\":\"text\",\"hovertext\":\"cnot<sub>err</sub> = 6.3⋅10<sup>-3</sup><br>&#120591;<sub>cx</sub>     = 540.44 ns\",\"line\":{\"color\":\"#001df3\",\"width\":6},\"mode\":\"lines\",\"x\":[3,3,3],\"y\":[-3,-3.5,-3.5],\"type\":\"scatter\",\"xaxis\":\"x2\",\"yaxis\":\"y2\"},{\"hoverinfo\":\"text\",\"hovertext\":\"cnot<sub>err</sub> = 3.89⋅10<sup>-3</sup><br>&#120591;<sub>cx</sub>     = 320 ns\",\"line\":{\"color\":\"#00096e\",\"width\":6},\"mode\":\"lines\",\"x\":[3,3.5,3.5],\"y\":[-3,-3,-3],\"type\":\"scatter\",\"xaxis\":\"x2\",\"yaxis\":\"y2\"},{\"hoverinfo\":\"text\",\"hovertext\":\"cnot<sub>err</sub> = 6.3⋅10<sup>-3</sup><br>&#120591;<sub>cx</sub>     = 519.11 ns\",\"line\":{\"color\":\"#001df3\",\"width\":6},\"mode\":\"lines\",\"x\":[3,3,3],\"y\":[-4,-3.5,-3.5],\"type\":\"scatter\",\"xaxis\":\"x2\",\"yaxis\":\"y2\"},{\"hoverinfo\":\"text\",\"hovertext\":\"cnot<sub>err</sub> = 7.94⋅10<sup>-3</sup><br>&#120591;<sub>cx</sub>     = 248.89 ns\",\"line\":{\"color\":\"#691fff\",\"width\":6},\"mode\":\"lines\",\"x\":[4,3.5,3.5],\"y\":[-1,-1,-1],\"type\":\"scatter\",\"xaxis\":\"x2\",\"yaxis\":\"y2\"},{\"hoverinfo\":\"text\",\"hovertext\":\"cnot<sub>err</sub> = 6.29⋅10<sup>-3</sup><br>&#120591;<sub>cx</sub>     = 277.33 ns\",\"line\":{\"color\":\"#001df2\",\"width\":6},\"mode\":\"lines\",\"x\":[4,4.5,4.5],\"y\":[-1,-1,-1],\"type\":\"scatter\",\"xaxis\":\"x2\",\"yaxis\":\"y2\"},{\"hoverinfo\":\"text\",\"hovertext\":\"cnot<sub>err</sub> = 3.89⋅10<sup>-3</sup><br>&#120591;<sub>cx</sub>     = 277.33 ns\",\"line\":{\"color\":\"#00096e\",\"width\":6},\"mode\":\"lines\",\"x\":[4,3.5,3.5],\"y\":[-3,-3,-3],\"type\":\"scatter\",\"xaxis\":\"x2\",\"yaxis\":\"y2\"},{\"hoverinfo\":\"text\",\"hovertext\":\"cnot<sub>err</sub> = 4.87⋅10<sup>-3</sup><br>&#120591;<sub>cx</sub>     = 426.67 ns\",\"line\":{\"color\":\"#0012b5\",\"width\":6},\"mode\":\"lines\",\"x\":[4,4.5,4.5],\"y\":[-3,-3,-3],\"type\":\"scatter\",\"xaxis\":\"x2\",\"yaxis\":\"y2\"},{\"hoverinfo\":\"text\",\"hovertext\":\"cnot<sub>err</sub> = 6.29⋅10<sup>-3</sup><br>&#120591;<sub>cx</sub>     = 298.67 ns\",\"line\":{\"color\":\"#001df2\",\"width\":6},\"mode\":\"lines\",\"x\":[5,4.5,4.5],\"y\":[-1,-1,-1],\"type\":\"scatter\",\"xaxis\":\"x2\",\"yaxis\":\"y2\"},{\"hoverinfo\":\"text\",\"hovertext\":\"cnot<sub>err</sub> = 7.91⋅10<sup>-3</sup><br>&#120591;<sub>cx</sub>     = 405.33 ns\",\"line\":{\"color\":\"#691fff\",\"width\":6},\"mode\":\"lines\",\"x\":[5,5,5],\"y\":[-1,-1.5,-1.5],\"type\":\"scatter\",\"xaxis\":\"x2\",\"yaxis\":\"y2\"},{\"hoverinfo\":\"text\",\"hovertext\":\"cnot<sub>err</sub> = 1.03⋅10<sup>-2</sup><br>&#120591;<sub>cx</sub>     = 405.33 ns\",\"line\":{\"color\":\"#c41fff\",\"width\":6},\"mode\":\"lines\",\"x\":[5,5.5,5.5],\"y\":[-1,-1,-1],\"type\":\"scatter\",\"xaxis\":\"x2\",\"yaxis\":\"y2\"},{\"hoverinfo\":\"text\",\"hovertext\":\"cnot<sub>err</sub> = 7.91⋅10<sup>-3</sup><br>&#120591;<sub>cx</sub>     = 384 ns\",\"line\":{\"color\":\"#691fff\",\"width\":6},\"mode\":\"lines\",\"x\":[5,5,5],\"y\":[-2,-1.5,-1.5],\"type\":\"scatter\",\"xaxis\":\"x2\",\"yaxis\":\"y2\"},{\"hoverinfo\":\"text\",\"hovertext\":\"cnot<sub>err</sub> = 5.01⋅10<sup>-3</sup><br>&#120591;<sub>cx</sub>     = 256 ns\",\"line\":{\"color\":\"#0013bd\",\"width\":6},\"mode\":\"lines\",\"x\":[5,5,5],\"y\":[-2,-2.5,-2.5],\"type\":\"scatter\",\"xaxis\":\"x2\",\"yaxis\":\"y2\"},{\"hoverinfo\":\"text\",\"hovertext\":\"cnot<sub>err</sub> = 4.87⋅10<sup>-3</sup><br>&#120591;<sub>cx</sub>     = 405.33 ns\",\"line\":{\"color\":\"#0012b5\",\"width\":6},\"mode\":\"lines\",\"x\":[5,4.5,4.5],\"y\":[-3,-3,-3],\"type\":\"scatter\",\"xaxis\":\"x2\",\"yaxis\":\"y2\"},{\"hoverinfo\":\"text\",\"hovertext\":\"cnot<sub>err</sub> = 5.01⋅10<sup>-3</sup><br>&#120591;<sub>cx</sub>     = 234.67 ns\",\"line\":{\"color\":\"#0013bd\",\"width\":6},\"mode\":\"lines\",\"x\":[5,5,5],\"y\":[-3,-2.5,-2.5],\"type\":\"scatter\",\"xaxis\":\"x2\",\"yaxis\":\"y2\"},{\"hoverinfo\":\"text\",\"hovertext\":\"cnot<sub>err</sub> = 1.65⋅10<sup>-2</sup><br>&#120591;<sub>cx</sub>     = 419.56 ns\",\"line\":{\"color\":\"#ff85ff\",\"width\":6},\"mode\":\"lines\",\"x\":[5,5.5,5.5],\"y\":[-3,-3,-3],\"type\":\"scatter\",\"xaxis\":\"x2\",\"yaxis\":\"y2\"},{\"hoverinfo\":\"text\",\"hovertext\":\"cnot<sub>err</sub> = 1.03⋅10<sup>-2</sup><br>&#120591;<sub>cx</sub>     = 384 ns\",\"line\":{\"color\":\"#c41fff\",\"width\":6},\"mode\":\"lines\",\"x\":[6,5.5,5.5],\"y\":[-1,-1,-1],\"type\":\"scatter\",\"xaxis\":\"x2\",\"yaxis\":\"y2\"},{\"hoverinfo\":\"text\",\"hovertext\":\"cnot<sub>err</sub> = 7.65⋅10<sup>-3</sup><br>&#120591;<sub>cx</sub>     = 327.11 ns\",\"line\":{\"color\":\"#5620ff\",\"width\":6},\"mode\":\"lines\",\"x\":[6,6.5,6.5],\"y\":[-1,-1,-1],\"type\":\"scatter\",\"xaxis\":\"x2\",\"yaxis\":\"y2\"},{\"hoverinfo\":\"text\",\"hovertext\":\"cnot<sub>err</sub> = 1.65⋅10<sup>-2</sup><br>&#120591;<sub>cx</sub>     = 440.89 ns\",\"line\":{\"color\":\"#ff85ff\",\"width\":6},\"mode\":\"lines\",\"x\":[6,5.5,5.5],\"y\":[-3,-3,-3],\"type\":\"scatter\",\"xaxis\":\"x2\",\"yaxis\":\"y2\"},{\"hoverinfo\":\"text\",\"hovertext\":\"cnot<sub>err</sub> = 7.63⋅10<sup>-3</sup><br>&#120591;<sub>cx</sub>     = 327.11 ns\",\"line\":{\"color\":\"#5620ff\",\"width\":6},\"mode\":\"lines\",\"x\":[6,6.5,6.5],\"y\":[-3,-3,-3],\"type\":\"scatter\",\"xaxis\":\"x2\",\"yaxis\":\"y2\"},{\"hoverinfo\":\"text\",\"hovertext\":\"cnot<sub>err</sub> = 5.04⋅10<sup>-3</sup><br>&#120591;<sub>cx</sub>     = 419.56 ns\",\"line\":{\"color\":\"#0014bf\",\"width\":6},\"mode\":\"lines\",\"x\":[7,7,7],\"y\":[0,-0.5,-0.5],\"type\":\"scatter\",\"xaxis\":\"x2\",\"yaxis\":\"y2\"},{\"hoverinfo\":\"text\",\"hovertext\":\"cnot<sub>err</sub> = 7.65⋅10<sup>-3</sup><br>&#120591;<sub>cx</sub>     = 305.78 ns\",\"line\":{\"color\":\"#5620ff\",\"width\":6},\"mode\":\"lines\",\"x\":[7,6.5,6.5],\"y\":[-1,-1,-1],\"type\":\"scatter\",\"xaxis\":\"x2\",\"yaxis\":\"y2\"},{\"hoverinfo\":\"text\",\"hovertext\":\"cnot<sub>err</sub> = 5.04⋅10<sup>-3</sup><br>&#120591;<sub>cx</sub>     = 440.89 ns\",\"line\":{\"color\":\"#0014bf\",\"width\":6},\"mode\":\"lines\",\"x\":[7,7,7],\"y\":[-1,-0.5,-0.5],\"type\":\"scatter\",\"xaxis\":\"x2\",\"yaxis\":\"y2\"},{\"hoverinfo\":\"text\",\"hovertext\":\"cnot<sub>err</sub> = 4.14⋅10<sup>-3</sup><br>&#120591;<sub>cx</sub>     = 238.22 ns\",\"line\":{\"color\":\"#000b81\",\"width\":6},\"mode\":\"lines\",\"x\":[7,7.5,7.5],\"y\":[-1,-1,-1],\"type\":\"scatter\",\"xaxis\":\"x2\",\"yaxis\":\"y2\"},{\"hoverinfo\":\"text\",\"hovertext\":\"cnot<sub>err</sub> = 7.63⋅10<sup>-3</sup><br>&#120591;<sub>cx</sub>     = 305.78 ns\",\"line\":{\"color\":\"#5620ff\",\"width\":6},\"mode\":\"lines\",\"x\":[7,6.5,6.5],\"y\":[-3,-3,-3],\"type\":\"scatter\",\"xaxis\":\"x2\",\"yaxis\":\"y2\"},{\"hoverinfo\":\"text\",\"hovertext\":\"cnot<sub>err</sub> = 7.33⋅10<sup>-3</sup><br>&#120591;<sub>cx</sub>     = 291.56 ns\",\"line\":{\"color\":\"#4020ff\",\"width\":6},\"mode\":\"lines\",\"x\":[7,7,7],\"y\":[-3,-3.5,-3.5],\"type\":\"scatter\",\"xaxis\":\"x2\",\"yaxis\":\"y2\"},{\"hoverinfo\":\"text\",\"hovertext\":\"cnot<sub>err</sub> = 8.56⋅10<sup>-3</sup><br>&#120591;<sub>cx</sub>     = 227.56 ns\",\"line\":{\"color\":\"#891fff\",\"width\":6},\"mode\":\"lines\",\"x\":[7,7.5,7.5],\"y\":[-3,-3,-3],\"type\":\"scatter\",\"xaxis\":\"x2\",\"yaxis\":\"y2\"},{\"hoverinfo\":\"text\",\"hovertext\":\"cnot<sub>err</sub> = 7.33⋅10<sup>-3</sup><br>&#120591;<sub>cx</sub>     = 312.89 ns\",\"line\":{\"color\":\"#4020ff\",\"width\":6},\"mode\":\"lines\",\"x\":[7,7,7],\"y\":[-4,-3.5,-3.5],\"type\":\"scatter\",\"xaxis\":\"x2\",\"yaxis\":\"y2\"},{\"hoverinfo\":\"text\",\"hovertext\":\"cnot<sub>err</sub> = 4.14⋅10<sup>-3</sup><br>&#120591;<sub>cx</sub>     = 280.89 ns\",\"line\":{\"color\":\"#000b81\",\"width\":6},\"mode\":\"lines\",\"x\":[8,7.5,7.5],\"y\":[-1,-1,-1],\"type\":\"scatter\",\"xaxis\":\"x2\",\"yaxis\":\"y2\"},{\"hoverinfo\":\"text\",\"hovertext\":\"cnot<sub>err</sub> = 1.27⋅10<sup>-2</sup><br>&#120591;<sub>cx</sub>     = 256 ns\",\"line\":{\"color\":\"#f141ff\",\"width\":6},\"mode\":\"lines\",\"x\":[8,8.5,8.5],\"y\":[-1,-1,-1],\"type\":\"scatter\",\"xaxis\":\"x2\",\"yaxis\":\"y2\"},{\"hoverinfo\":\"text\",\"hovertext\":\"cnot<sub>err</sub> = 8.56⋅10<sup>-3</sup><br>&#120591;<sub>cx</sub>     = 248.89 ns\",\"line\":{\"color\":\"#891fff\",\"width\":6},\"mode\":\"lines\",\"x\":[8,7.5,7.5],\"y\":[-3,-3,-3],\"type\":\"scatter\",\"xaxis\":\"x2\",\"yaxis\":\"y2\"},{\"hoverinfo\":\"text\",\"hovertext\":\"cnot<sub>err</sub> = 6.34⋅10<sup>-3</sup><br>&#120591;<sub>cx</sub>     = 312.89 ns\",\"line\":{\"color\":\"#001df3\",\"width\":6},\"mode\":\"lines\",\"x\":[8,8.5,8.5],\"y\":[-3,-3,-3],\"type\":\"scatter\",\"xaxis\":\"x2\",\"yaxis\":\"y2\"},{\"hoverinfo\":\"text\",\"hovertext\":\"cnot<sub>err</sub> = 1.27⋅10<sup>-2</sup><br>&#120591;<sub>cx</sub>     = 277.33 ns\",\"line\":{\"color\":\"#f141ff\",\"width\":6},\"mode\":\"lines\",\"x\":[9,8.5,8.5],\"y\":[-1,-1,-1],\"type\":\"scatter\",\"xaxis\":\"x2\",\"yaxis\":\"y2\"},{\"hoverinfo\":\"text\",\"hovertext\":\"cnot<sub>err</sub> = 2.62⋅10<sup>-2</sup><br>&#120591;<sub>cx</sub>     = 270.22 ns\",\"line\":{\"color\":\"#ffe6ff\",\"width\":6},\"mode\":\"lines\",\"x\":[9,9,9],\"y\":[-1,-1.5,-1.5],\"type\":\"scatter\",\"xaxis\":\"x2\",\"yaxis\":\"y2\"},{\"hoverinfo\":\"text\",\"hovertext\":\"cnot<sub>err</sub> = 2.62⋅10<sup>-2</sup><br>&#120591;<sub>cx</sub>     = 248.89 ns\",\"line\":{\"color\":\"#ffe6ff\",\"width\":6},\"mode\":\"lines\",\"x\":[9,9,9],\"y\":[-2,-1.5,-1.5],\"type\":\"scatter\",\"xaxis\":\"x2\",\"yaxis\":\"y2\"},{\"hoverinfo\":\"text\",\"hovertext\":\"cnot<sub>err</sub> = 1.21⋅10<sup>-2</sup><br>&#120591;<sub>cx</sub>     = 327.11 ns\",\"line\":{\"color\":\"#e735ff\",\"width\":6},\"mode\":\"lines\",\"x\":[9,9,9],\"y\":[-2,-2.5,-2.5],\"type\":\"scatter\",\"xaxis\":\"x2\",\"yaxis\":\"y2\"},{\"hoverinfo\":\"text\",\"hovertext\":\"cnot<sub>err</sub> = 6.34⋅10<sup>-3</sup><br>&#120591;<sub>cx</sub>     = 291.56 ns\",\"line\":{\"color\":\"#001df3\",\"width\":6},\"mode\":\"lines\",\"x\":[9,8.5,8.5],\"y\":[-3,-3,-3],\"type\":\"scatter\",\"xaxis\":\"x2\",\"yaxis\":\"y2\"},{\"hoverinfo\":\"text\",\"hovertext\":\"cnot<sub>err</sub> = 1.21⋅10<sup>-2</sup><br>&#120591;<sub>cx</sub>     = 369.78 ns\",\"line\":{\"color\":\"#e735ff\",\"width\":6},\"mode\":\"lines\",\"x\":[9,9,9],\"y\":[-3,-2.5,-2.5],\"type\":\"scatter\",\"xaxis\":\"x2\",\"yaxis\":\"y2\"},{\"hoverinfo\":\"text\",\"hovertext\":\"cnot<sub>err</sub> = 1.27⋅10<sup>-2</sup><br>&#120591;<sub>cx</sub>     = 270.22 ns\",\"line\":{\"color\":\"#f141ff\",\"width\":6},\"mode\":\"lines\",\"x\":[9,9.5,9.5],\"y\":[-3,-3,-3],\"type\":\"scatter\",\"xaxis\":\"x2\",\"yaxis\":\"y2\"},{\"hoverinfo\":\"text\",\"hovertext\":\"cnot<sub>err</sub> = 1.27⋅10<sup>-2</sup><br>&#120591;<sub>cx</sub>     = 227.56 ns\",\"line\":{\"color\":\"#f141ff\",\"width\":6},\"mode\":\"lines\",\"x\":[10,9.5,9.5],\"y\":[-3,-3,-3],\"type\":\"scatter\",\"xaxis\":\"x2\",\"yaxis\":\"y2\"},{\"hoverinfo\":\"text\",\"hovertext\":[\"<b>Qubit 0</b><br>freq = 5.03517 GHz<br>T<sub>1</sub>   = 176.45 μs<br>T<sub>2</sub>   = 130.98 μs<br>&#945;    = -0.343 GHz<br>sx<sub>err</sub> = 9.87⋅10<sup>-5</sup><br>&#120591;<sub>sx</sub>   = 21.33 ns\",\"<b>Qubit 1</b><br>freq = 5.15505 GHz<br>T<sub>1</sub>   = 204.04 μs<br>T<sub>2</sub>   = 163.17 μs<br>&#945;    = -0.342 GHz<br>sx<sub>err</sub> = 2.58⋅10<sup>-4</sup><br>&#120591;<sub>sx</sub>   = 21.33 ns\",\"<b>Qubit 2</b><br>freq = 5.2562 GHz<br>T<sub>1</sub>   = 218.82 μs<br>T<sub>2</sub>   = 235.88 μs<br>&#945;    = -0.34 GHz<br>sx<sub>err</sub> = 1.1⋅10<sup>-4</sup><br>&#120591;<sub>sx</sub>   = 21.33 ns\",\"<b>Qubit 3</b><br>freq = 5.09745 GHz<br>T<sub>1</sub>   = 58.5 μs<br>T<sub>2</sub>   = 28.83 μs<br>&#945;    = -0.341 GHz<br>sx<sub>err</sub> = 3.96⋅10<sup>-4</sup><br>&#120591;<sub>sx</sub>   = 21.33 ns\",\"<b>Qubit 4</b><br>freq = 5.07305 GHz<br>T<sub>1</sub>   = 162.69 μs<br>T<sub>2</sub>   = 26.82 μs<br>&#945;    = -0.343 GHz<br>sx<sub>err</sub> = 3.28⋅10<sup>-4</sup><br>&#120591;<sub>sx</sub>   = 21.33 ns\",\"<b>Qubit 5</b><br>freq = 5.20696 GHz<br>T<sub>1</sub>   = 195.23 μs<br>T<sub>2</sub>   = 221.56 μs<br>&#945;    = -0.341 GHz<br>sx<sub>err</sub> = 1.42⋅10<sup>-4</sup><br>&#120591;<sub>sx</sub>   = 21.33 ns\",\"<b>Qubit 6</b><br>freq = 5.02052 GHz<br>T<sub>1</sub>   = 161.42 μs<br>T<sub>2</sub>   = 156.42 μs<br>&#945;    = -0.345 GHz<br>sx<sub>err</sub> = 2.32⋅10<sup>-4</sup><br>&#120591;<sub>sx</sub>   = 21.33 ns\",\"<b>Qubit 7</b><br>freq = 4.91901 GHz<br>T<sub>1</sub>   = 214.98 μs<br>T<sub>2</sub>   = 301.25 μs<br>&#945;    = -0.346 GHz<br>sx<sub>err</sub> = 1.23⋅10<sup>-4</sup><br>&#120591;<sub>sx</sub>   = 21.33 ns\",\"<b>Qubit 8</b><br>freq = 5.03128 GHz<br>T<sub>1</sub>   = 171.37 μs<br>T<sub>2</sub>   = 233.69 μs<br>&#945;    = -0.344 GHz<br>sx<sub>err</sub> = 1.09⋅10<sup>-4</sup><br>&#120591;<sub>sx</sub>   = 21.33 ns\",\"<b>Qubit 9</b><br>freq = 4.8748 GHz<br>T<sub>1</sub>   = 170.26 μs<br>T<sub>2</sub>   = 279.54 μs<br>&#945;    = -0.346 GHz<br>sx<sub>err</sub> = 1.38⋅10<sup>-4</sup><br>&#120591;<sub>sx</sub>   = 21.33 ns\",\"<b>Qubit 10</b><br>freq = 4.82124 GHz<br>T<sub>1</sub>   = 174.35 μs<br>T<sub>2</sub>   = 347.95 μs<br>&#945;    = -0.349 GHz<br>sx<sub>err</sub> = 1.66⋅10<sup>-4</sup><br>&#120591;<sub>sx</sub>   = 21.33 ns\",\"<b>Qubit 11</b><br>freq = 5.16209 GHz<br>T<sub>1</sub>   = 205.33 μs<br>T<sub>2</sub>   = 320.69 μs<br>&#945;    = -0.342 GHz<br>sx<sub>err</sub> = 1.03⋅10<sup>-4</sup><br>&#120591;<sub>sx</sub>   = 21.33 ns\",\"<b>Qubit 12</b><br>freq = 4.71854 GHz<br>T<sub>1</sub>   = 245.58 μs<br>T<sub>2</sub>   = 194.58 μs<br>&#945;    = -0.352 GHz<br>sx<sub>err</sub> = 2.58⋅10<sup>-4</sup><br>&#120591;<sub>sx</sub>   = 21.33 ns\",\"<b>Qubit 13</b><br>freq = 4.96299 GHz<br>T<sub>1</sub>   = 162.37 μs<br>T<sub>2</sub>   = 142.92 μs<br>&#945;    = -0.346 GHz<br>sx<sub>err</sub> = 1.67⋅10<sup>-4</sup><br>&#120591;<sub>sx</sub>   = 21.33 ns\",\"<b>Qubit 14</b><br>freq = 5.04659 GHz<br>T<sub>1</sub>   = 219.06 μs<br>T<sub>2</sub>   = 27.22 μs<br>&#945;    = -0.343 GHz<br>sx<sub>err</sub> = 2.02⋅10<sup>-4</sup><br>&#120591;<sub>sx</sub>   = 21.33 ns\",\"<b>Qubit 15</b><br>freq = 4.92446 GHz<br>T<sub>1</sub>   = 184.93 μs<br>T<sub>2</sub>   = 43.69 μs<br>&#945;    = -0.318 GHz<br>sx<sub>err</sub> = 4.07⋅10<sup>-4</sup><br>&#120591;<sub>sx</sub>   = 21.33 ns\",\"<b>Qubit 16</b><br>freq = 4.88334 GHz<br>T<sub>1</sub>   = 227.75 μs<br>T<sub>2</sub>   = 166.43 μs<br>&#945;    = -0.347 GHz<br>sx<sub>err</sub> = 2.11⋅10<sup>-4</sup><br>&#120591;<sub>sx</sub>   = 21.33 ns\",\"<b>Qubit 17</b><br>freq = 5.22243 GHz<br>T<sub>1</sub>   = 112.36 μs<br>T<sub>2</sub>   = 85.84 μs<br>&#945;    = -0.339 GHz<br>sx<sub>err</sub> = 3.25⋅10<sup>-4</sup><br>&#120591;<sub>sx</sub>   = 21.33 ns\",\"<b>Qubit 18</b><br>freq = 4.96778 GHz<br>T<sub>1</sub>   = 144.02 μs<br>T<sub>2</sub>   = 148.17 μs<br>&#945;    = -0.344 GHz<br>sx<sub>err</sub> = 3.02⋅10<sup>-4</sup><br>&#120591;<sub>sx</sub>   = 21.33 ns\",\"<b>Qubit 19</b><br>freq = 5.0025 GHz<br>T<sub>1</sub>   = 140.34 μs<br>T<sub>2</sub>   = 214.34 μs<br>&#945;    = -0.343 GHz<br>sx<sub>err</sub> = 1.62⋅10<sup>-4</sup><br>&#120591;<sub>sx</sub>   = 21.33 ns\",\"<b>Qubit 20</b><br>freq = 5.09578 GHz<br>T<sub>1</sub>   = 159.87 μs<br>T<sub>2</sub>   = 109.42 μs<br>&#945;    = -0.341 GHz<br>sx<sub>err</sub> = 1.75⋅10<sup>-4</sup><br>&#120591;<sub>sx</sub>   = 21.33 ns\",\"<b>Qubit 21</b><br>freq = 4.83926 GHz<br>T<sub>1</sub>   = 140.0 μs<br>T<sub>2</sub>   = 31.48 μs<br>&#945;    = -0.346 GHz<br>sx<sub>err</sub> = 1.85⋅10<sup>-4</sup><br>&#120591;<sub>sx</sub>   = 21.33 ns\",\"<b>Qubit 22</b><br>freq = 4.91954 GHz<br>T<sub>1</sub>   = 171.29 μs<br>T<sub>2</sub>   = 80.43 μs<br>&#945;    = -0.346 GHz<br>sx<sub>err</sub> = 3.88⋅10<sup>-4</sup><br>&#120591;<sub>sx</sub>   = 21.33 ns\",\"<b>Qubit 23</b><br>freq = 4.90689 GHz<br>T<sub>1</sub>   = 156.07 μs<br>T<sub>2</sub>   = 33.57 μs<br>&#945;    = -0.328 GHz<br>sx<sub>err</sub> = 3.9⋅10<sup>-4</sup><br>&#120591;<sub>sx</sub>   = 21.33 ns\",\"<b>Qubit 24</b><br>freq = 4.99158 GHz<br>T<sub>1</sub>   = 216.28 μs<br>T<sub>2</sub>   = 29.93 μs<br>&#945;    = -0.344 GHz<br>sx<sub>err</sub> = 3.35⋅10<sup>-4</sup><br>&#120591;<sub>sx</sub>   = 21.33 ns\",\"<b>Qubit 25</b><br>freq = 4.81293 GHz<br>T<sub>1</sub>   = 191.02 μs<br>T<sub>2</sub>   = 103.76 μs<br>&#945;    = -0.349 GHz<br>sx<sub>err</sub> = 1.3⋅10<sup>-4</sup><br>&#120591;<sub>sx</sub>   = 21.33 ns\",\"<b>Qubit 26</b><br>freq = 5.01954 GHz<br>T<sub>1</sub>   = 98.75 μs<br>T<sub>2</sub>   = 43.06 μs<br>&#945;    = -0.342 GHz<br>sx<sub>err</sub> = 9.72⋅10<sup>-4</sup><br>&#120591;<sub>sx</sub>   = 21.33 ns\"],\"marker\":{\"color\":[\"#000558\",\"#801fff\",\"#000a75\",\"#ea38ff\",\"#c620ff\",\"#0013bd\",\"#5620ff\",\"#000e95\",\"#000a72\",\"#0012b5\",\"#001ae1\",\"#000864\",\"#801fff\",\"#001ae3\",\"#001ffb\",\"#ee3dff\",\"#221ffe\",\"#c41fff\",\"#b11eff\",\"#0019de\",\"#001ceb\",\"#001df2\",\"#e735ff\",\"#e735ff\",\"#ca21ff\",\"#0010a4\",\"#feebfe\"],\"opacity\":1,\"size\":23},\"mode\":\"markers+text\",\"text\":[\"0\",\"1\",\"2\",\"3\",\"4\",\"5\",\"6\",\"7\",\"8\",\"9\",\"10\",\"11\",\"12\",\"13\",\"14\",\"15\",\"16\",\"17\",\"18\",\"19\",\"20\",\"21\",\"22\",\"23\",\"24\",\"25\",\"26\"],\"textfont\":{\"color\":[\"#ffffff\",\"#ffffff\",\"#ffffff\",\"#000000\",\"#ffffff\",\"#ffffff\",\"#ffffff\",\"#ffffff\",\"#ffffff\",\"#ffffff\",\"#ffffff\",\"#ffffff\",\"#ffffff\",\"#ffffff\",\"#ffffff\",\"#000000\",\"#ffffff\",\"#ffffff\",\"#ffffff\",\"#ffffff\",\"#ffffff\",\"#ffffff\",\"#000000\",\"#000000\",\"#ffffff\",\"#ffffff\",\"#000000\"],\"size\":11},\"textposition\":\"middle center\",\"x\":[0,1,1,1,2,2,3,3,3,3,4,4,5,5,5,6,6,7,7,7,7,8,8,9,9,9,10],\"y\":[-1,-1,-2,-3,-1,-3,0,-1,-3,-4,-1,-3,-1,-2,-3,-1,-3,0,-1,-3,-4,-1,-3,-1,-2,-3,-3],\"type\":\"scatter\",\"xaxis\":\"x2\",\"yaxis\":\"y2\"},{\"colorscale\":[[0.0,\"rgba(0, 4, 88, 1.0)\"],[0.003937007874015748,\"rgba(0, 5, 90, 1.0)\"],[0.007874015748031496,\"rgba(0, 5, 92, 1.0)\"],[0.011811023622047244,\"rgba(0, 6, 95, 1.0)\"],[0.015748031496062992,\"rgba(0, 7, 97, 1.0)\"],[0.01968503937007874,\"rgba(0, 7, 100, 1.0)\"],[0.023622047244094488,\"rgba(0, 8, 102, 1.0)\"],[0.027559055118110236,\"rgba(0, 8, 104, 1.0)\"],[0.031496062992125984,\"rgba(0, 8, 107, 1.0)\"],[0.03543307086614173,\"rgba(0, 9, 109, 1.0)\"],[0.03937007874015748,\"rgba(0, 9, 111, 1.0)\"],[0.04330708661417323,\"rgba(0, 9, 114, 1.0)\"],[0.047244094488188976,\"rgba(0, 9, 116, 1.0)\"],[0.051181102362204724,\"rgba(0, 10, 119, 1.0)\"],[0.05511811023622047,\"rgba(0, 10, 121, 1.0)\"],[0.05905511811023622,\"rgba(0, 10, 123, 1.0)\"],[0.06299212598425197,\"rgba(0, 11, 126, 1.0)\"],[0.06692913385826771,\"rgba(0, 11, 128, 1.0)\"],[0.07086614173228346,\"rgba(0, 11, 131, 1.0)\"],[0.07480314960629922,\"rgba(0, 11, 133, 1.0)\"],[0.07874015748031496,\"rgba(0, 12, 136, 1.0)\"],[0.0826771653543307,\"rgba(0, 12, 138, 1.0)\"],[0.08661417322834646,\"rgba(0, 12, 141, 1.0)\"],[0.09055118110236221,\"rgba(0, 13, 143, 1.0)\"],[0.09448818897637795,\"rgba(0, 13, 146, 1.0)\"],[0.09842519685039369,\"rgba(0, 13, 148, 1.0)\"],[0.10236220472440945,\"rgba(0, 14, 151, 1.0)\"],[0.1062992125984252,\"rgba(0, 14, 153, 1.0)\"],[0.11023622047244094,\"rgba(0, 14, 156, 1.0)\"],[0.11417322834645668,\"rgba(0, 15, 158, 1.0)\"],[0.11811023622047244,\"rgba(0, 15, 161, 1.0)\"],[0.1220472440944882,\"rgba(0, 15, 163, 1.0)\"],[0.12598425196850394,\"rgba(0, 16, 166, 1.0)\"],[0.12992125984251968,\"rgba(0, 16, 168, 1.0)\"],[0.13385826771653542,\"rgba(0, 16, 171, 1.0)\"],[0.1377952755905512,\"rgba(0, 17, 173, 1.0)\"],[0.14173228346456693,\"rgba(0, 17, 176, 1.0)\"],[0.14566929133858267,\"rgba(0, 17, 178, 1.0)\"],[0.14960629921259844,\"rgba(0, 18, 181, 1.0)\"],[0.15354330708661418,\"rgba(0, 18, 183, 1.0)\"],[0.15748031496062992,\"rgba(0, 19, 186, 1.0)\"],[0.16141732283464566,\"rgba(0, 19, 188, 1.0)\"],[0.1653543307086614,\"rgba(0, 19, 191, 1.0)\"],[0.16929133858267717,\"rgba(0, 20, 193, 1.0)\"],[0.1732283464566929,\"rgba(0, 20, 196, 1.0)\"],[0.17716535433070865,\"rgba(0, 21, 198, 1.0)\"],[0.18110236220472442,\"rgba(0, 21, 200, 1.0)\"],[0.18503937007874016,\"rgba(0, 22, 203, 1.0)\"],[0.1889763779527559,\"rgba(0, 22, 205, 1.0)\"],[0.19291338582677164,\"rgba(0, 22, 207, 1.0)\"],[0.19685039370078738,\"rgba(0, 23, 209, 1.0)\"],[0.20078740157480315,\"rgba(0, 23, 211, 1.0)\"],[0.2047244094488189,\"rgba(0, 23, 213, 1.0)\"],[0.20866141732283464,\"rgba(0, 24, 215, 1.0)\"],[0.2125984251968504,\"rgba(0, 24, 217, 1.0)\"],[0.21653543307086615,\"rgba(0, 25, 219, 1.0)\"],[0.2204724409448819,\"rgba(0, 25, 221, 1.0)\"],[0.22440944881889763,\"rgba(0, 25, 223, 1.0)\"],[0.22834645669291337,\"rgba(0, 25, 225, 1.0)\"],[0.23228346456692914,\"rgba(0, 26, 226, 1.0)\"],[0.23622047244094488,\"rgba(0, 26, 228, 1.0)\"],[0.24015748031496062,\"rgba(0, 26, 230, 1.0)\"],[0.2440944881889764,\"rgba(0, 27, 231, 1.0)\"],[0.24803149606299213,\"rgba(0, 27, 233, 1.0)\"],[0.25196850393700787,\"rgba(0, 27, 234, 1.0)\"],[0.2559055118110236,\"rgba(0, 27, 235, 1.0)\"],[0.25984251968503935,\"rgba(0, 28, 237, 1.0)\"],[0.2637795275590551,\"rgba(0, 28, 238, 1.0)\"],[0.26771653543307083,\"rgba(0, 28, 239, 1.0)\"],[0.27165354330708663,\"rgba(0, 28, 240, 1.0)\"],[0.2755905511811024,\"rgba(0, 29, 242, 1.0)\"],[0.2795275590551181,\"rgba(0, 29, 243, 1.0)\"],[0.28346456692913385,\"rgba(0, 29, 244, 1.0)\"],[0.2874015748031496,\"rgba(0, 29, 245, 1.0)\"],[0.29133858267716534,\"rgba(0, 29, 246, 1.0)\"],[0.2952755905511811,\"rgba(0, 30, 247, 1.0)\"],[0.2992125984251969,\"rgba(0, 30, 247, 1.0)\"],[0.3031496062992126,\"rgba(0, 30, 248, 1.0)\"],[0.30708661417322836,\"rgba(0, 30, 249, 1.0)\"],[0.3110236220472441,\"rgba(0, 30, 250, 1.0)\"],[0.31496062992125984,\"rgba(0, 30, 251, 1.0)\"],[0.3188976377952756,\"rgba(0, 30, 251, 1.0)\"],[0.3228346456692913,\"rgba(0, 31, 252, 1.0)\"],[0.32677165354330706,\"rgba(10, 31, 253, 1.0)\"],[0.3307086614173228,\"rgba(24, 31, 253, 1.0)\"],[0.3346456692913386,\"rgba(33, 31, 254, 1.0)\"],[0.33858267716535434,\"rgba(41, 31, 254, 1.0)\"],[0.3425196850393701,\"rgba(47, 31, 255, 1.0)\"],[0.3464566929133858,\"rgba(53, 31, 255, 1.0)\"],[0.35039370078740156,\"rgba(59, 31, 255, 1.0)\"],[0.3543307086614173,\"rgba(64, 31, 255, 1.0)\"],[0.35826771653543305,\"rgba(69, 31, 255, 1.0)\"],[0.36220472440944884,\"rgba(73, 31, 255, 1.0)\"],[0.3661417322834646,\"rgba(78, 31, 255, 1.0)\"],[0.3700787401574803,\"rgba(82, 31, 255, 1.0)\"],[0.37401574803149606,\"rgba(86, 31, 255, 1.0)\"],[0.3779527559055118,\"rgba(90, 31, 255, 1.0)\"],[0.38188976377952755,\"rgba(94, 31, 255, 1.0)\"],[0.3858267716535433,\"rgba(98, 31, 255, 1.0)\"],[0.38976377952755903,\"rgba(101, 31, 255, 1.0)\"],[0.39370078740157477,\"rgba(105, 31, 255, 1.0)\"],[0.39763779527559057,\"rgba(108, 31, 255, 1.0)\"],[0.4015748031496063,\"rgba(112, 31, 255, 1.0)\"],[0.40551181102362205,\"rgba(115, 31, 255, 1.0)\"],[0.4094488188976378,\"rgba(119, 31, 255, 1.0)\"],[0.41338582677165353,\"rgba(122, 30, 255, 1.0)\"],[0.41732283464566927,\"rgba(125, 30, 255, 1.0)\"],[0.421259842519685,\"rgba(128, 30, 255, 1.0)\"],[0.4251968503937008,\"rgba(131, 30, 255, 1.0)\"],[0.42913385826771655,\"rgba(134, 30, 255, 1.0)\"],[0.4330708661417323,\"rgba(137, 30, 255, 1.0)\"],[0.43700787401574803,\"rgba(140, 30, 255, 1.0)\"],[0.4409448818897638,\"rgba(143, 30, 255, 1.0)\"],[0.4448818897637795,\"rgba(145, 30, 255, 1.0)\"],[0.44881889763779526,\"rgba(148, 30, 255, 1.0)\"],[0.452755905511811,\"rgba(151, 30, 255, 1.0)\"],[0.45669291338582674,\"rgba(154, 30, 255, 1.0)\"],[0.46062992125984253,\"rgba(156, 30, 255, 1.0)\"],[0.4645669291338583,\"rgba(159, 30, 255, 1.0)\"],[0.468503937007874,\"rgba(161, 30, 255, 1.0)\"],[0.47244094488188976,\"rgba(164, 30, 255, 1.0)\"],[0.4763779527559055,\"rgba(167, 30, 255, 1.0)\"],[0.48031496062992124,\"rgba(169, 30, 255, 1.0)\"],[0.484251968503937,\"rgba(172, 30, 255, 1.0)\"],[0.4881889763779528,\"rgba(174, 30, 255, 1.0)\"],[0.4921259842519685,\"rgba(177, 30, 255, 1.0)\"],[0.49606299212598426,\"rgba(179, 30, 255, 1.0)\"],[0.5,\"rgba(184, 30, 255, 1.0)\"],[0.5039370078740157,\"rgba(186, 30, 255, 1.0)\"],[0.5078740157480315,\"rgba(189, 30, 255, 1.0)\"],[0.5118110236220472,\"rgba(191, 30, 255, 1.0)\"],[0.515748031496063,\"rgba(193, 30, 255, 1.0)\"],[0.5196850393700787,\"rgba(195, 31, 255, 1.0)\"],[0.5236220472440944,\"rgba(197, 31, 255, 1.0)\"],[0.5275590551181102,\"rgba(200, 32, 255, 1.0)\"],[0.5314960629921259,\"rgba(202, 33, 255, 1.0)\"],[0.5354330708661417,\"rgba(204, 33, 255, 1.0)\"],[0.5393700787401575,\"rgba(206, 34, 255, 1.0)\"],[0.5433070866141733,\"rgba(208, 35, 255, 1.0)\"],[0.547244094488189,\"rgba(209, 36, 255, 1.0)\"],[0.5511811023622047,\"rgba(211, 37, 255, 1.0)\"],[0.5551181102362205,\"rgba(213, 38, 255, 1.0)\"],[0.5590551181102362,\"rgba(215, 39, 255, 1.0)\"],[0.562992125984252,\"rgba(217, 40, 255, 1.0)\"],[0.5669291338582677,\"rgba(218, 41, 255, 1.0)\"],[0.5708661417322834,\"rgba(220, 43, 255, 1.0)\"],[0.5748031496062992,\"rgba(222, 44, 255, 1.0)\"],[0.5787401574803149,\"rgba(223, 45, 255, 1.0)\"],[0.5826771653543307,\"rgba(225, 47, 255, 1.0)\"],[0.5866141732283464,\"rgba(227, 48, 255, 1.0)\"],[0.5905511811023622,\"rgba(228, 50, 255, 1.0)\"],[0.5944881889763779,\"rgba(230, 51, 255, 1.0)\"],[0.5984251968503937,\"rgba(231, 53, 255, 1.0)\"],[0.6023622047244095,\"rgba(232, 54, 255, 1.0)\"],[0.6062992125984252,\"rgba(234, 56, 255, 1.0)\"],[0.610236220472441,\"rgba(235, 57, 255, 1.0)\"],[0.6141732283464567,\"rgba(236, 59, 255, 1.0)\"],[0.6181102362204725,\"rgba(238, 61, 255, 1.0)\"],[0.6220472440944882,\"rgba(239, 63, 255, 1.0)\"],[0.6259842519685039,\"rgba(240, 64, 255, 1.0)\"],[0.6299212598425197,\"rgba(241, 66, 255, 1.0)\"],[0.6338582677165354,\"rgba(242, 68, 255, 1.0)\"],[0.6377952755905512,\"rgba(243, 70, 255, 1.0)\"],[0.6417322834645669,\"rgba(244, 72, 255, 1.0)\"],[0.6456692913385826,\"rgba(245, 74, 255, 1.0)\"],[0.6496062992125984,\"rgba(246, 76, 255, 1.0)\"],[0.6535433070866141,\"rgba(247, 78, 255, 1.0)\"],[0.6574803149606299,\"rgba(248, 80, 255, 1.0)\"],[0.6614173228346456,\"rgba(249, 82, 255, 1.0)\"],[0.6653543307086615,\"rgba(249, 84, 255, 1.0)\"],[0.6692913385826772,\"rgba(250, 86, 255, 1.0)\"],[0.6732283464566929,\"rgba(251, 88, 255, 1.0)\"],[0.6771653543307087,\"rgba(251, 90, 255, 1.0)\"],[0.6811023622047244,\"rgba(252, 92, 255, 1.0)\"],[0.6850393700787402,\"rgba(252, 94, 255, 1.0)\"],[0.6889763779527559,\"rgba(253, 96, 255, 1.0)\"],[0.6929133858267716,\"rgba(253, 98, 255, 1.0)\"],[0.6968503937007874,\"rgba(254, 100, 255, 1.0)\"],[0.7007874015748031,\"rgba(254, 103, 255, 1.0)\"],[0.7047244094488189,\"rgba(254, 105, 255, 1.0)\"],[0.7086614173228346,\"rgba(254, 107, 255, 1.0)\"],[0.7125984251968503,\"rgba(255, 109, 255, 1.0)\"],[0.7165354330708661,\"rgba(255, 111, 255, 1.0)\"],[0.7204724409448818,\"rgba(255, 113, 255, 1.0)\"],[0.7244094488188977,\"rgba(255, 116, 255, 1.0)\"],[0.7283464566929134,\"rgba(255, 118, 255, 1.0)\"],[0.7322834645669292,\"rgba(255, 120, 255, 1.0)\"],[0.7362204724409449,\"rgba(255, 122, 255, 1.0)\"],[0.7401574803149606,\"rgba(255, 124, 255, 1.0)\"],[0.7440944881889764,\"rgba(255, 126, 255, 1.0)\"],[0.7480314960629921,\"rgba(255, 128, 255, 1.0)\"],[0.7519685039370079,\"rgba(255, 130, 255, 1.0)\"],[0.7559055118110236,\"rgba(255, 132, 255, 1.0)\"],[0.7598425196850394,\"rgba(255, 134, 255, 1.0)\"],[0.7637795275590551,\"rgba(255, 136, 255, 1.0)\"],[0.7677165354330708,\"rgba(255, 138, 255, 1.0)\"],[0.7716535433070866,\"rgba(255, 140, 255, 1.0)\"],[0.7755905511811023,\"rgba(255, 142, 255, 1.0)\"],[0.7795275590551181,\"rgba(255, 143, 255, 1.0)\"],[0.7834645669291338,\"rgba(255, 145, 255, 1.0)\"],[0.7874015748031495,\"rgba(255, 147, 255, 1.0)\"],[0.7913385826771654,\"rgba(255, 149, 255, 1.0)\"],[0.7952755905511811,\"rgba(255, 151, 255, 1.0)\"],[0.7992125984251969,\"rgba(255, 152, 255, 1.0)\"],[0.8031496062992126,\"rgba(255, 154, 255, 1.0)\"],[0.8070866141732284,\"rgba(255, 156, 255, 1.0)\"],[0.8110236220472441,\"rgba(255, 158, 255, 1.0)\"],[0.8149606299212598,\"rgba(255, 159, 255, 1.0)\"],[0.8188976377952756,\"rgba(255, 161, 255, 1.0)\"],[0.8228346456692913,\"rgba(255, 163, 255, 1.0)\"],[0.8267716535433071,\"rgba(255, 165, 255, 1.0)\"],[0.8307086614173228,\"rgba(255, 166, 255, 1.0)\"],[0.8346456692913385,\"rgba(255, 168, 255, 1.0)\"],[0.8385826771653543,\"rgba(255, 170, 255, 1.0)\"],[0.84251968503937,\"rgba(255, 171, 255, 1.0)\"],[0.8464566929133858,\"rgba(255, 173, 255, 1.0)\"],[0.8503937007874016,\"rgba(255, 175, 255, 1.0)\"],[0.8543307086614174,\"rgba(255, 176, 255, 1.0)\"],[0.8582677165354331,\"rgba(255, 178, 255, 1.0)\"],[0.8622047244094488,\"rgba(255, 180, 255, 1.0)\"],[0.8661417322834646,\"rgba(255, 181, 255, 1.0)\"],[0.8700787401574803,\"rgba(255, 183, 255, 1.0)\"],[0.8740157480314961,\"rgba(255, 184, 255, 1.0)\"],[0.8779527559055118,\"rgba(255, 186, 255, 1.0)\"],[0.8818897637795275,\"rgba(255, 188, 255, 1.0)\"],[0.8858267716535433,\"rgba(255, 189, 255, 1.0)\"],[0.889763779527559,\"rgba(255, 191, 255, 1.0)\"],[0.8937007874015748,\"rgba(255, 192, 255, 1.0)\"],[0.8976377952755905,\"rgba(255, 194, 255, 1.0)\"],[0.9015748031496063,\"rgba(255, 196, 255, 1.0)\"],[0.905511811023622,\"rgba(255, 197, 255, 1.0)\"],[0.9094488188976377,\"rgba(255, 199, 255, 1.0)\"],[0.9133858267716535,\"rgba(255, 200, 255, 1.0)\"],[0.9173228346456693,\"rgba(255, 202, 255, 1.0)\"],[0.9212598425196851,\"rgba(255, 203, 255, 1.0)\"],[0.9251968503937008,\"rgba(255, 205, 255, 1.0)\"],[0.9291338582677166,\"rgba(255, 207, 255, 1.0)\"],[0.9330708661417323,\"rgba(255, 208, 255, 1.0)\"],[0.937007874015748,\"rgba(255, 210, 255, 1.0)\"],[0.9409448818897638,\"rgba(255, 211, 255, 1.0)\"],[0.9448818897637795,\"rgba(255, 213, 255, 1.0)\"],[0.9488188976377953,\"rgba(255, 214, 255, 1.0)\"],[0.952755905511811,\"rgba(255, 216, 255, 1.0)\"],[0.9566929133858267,\"rgba(255, 217, 255, 1.0)\"],[0.9606299212598425,\"rgba(255, 219, 255, 1.0)\"],[0.9645669291338582,\"rgba(255, 221, 255, 1.0)\"],[0.968503937007874,\"rgba(255, 222, 254, 1.0)\"],[0.9724409448818897,\"rgba(255, 224, 254, 1.0)\"],[0.9763779527559056,\"rgba(255, 225, 254, 1.0)\"],[0.9803149606299213,\"rgba(255, 227, 254, 1.0)\"],[0.984251968503937,\"rgba(254, 228, 254, 1.0)\"],[0.9881889763779528,\"rgba(254, 230, 254, 1.0)\"],[0.9921259842519685,\"rgba(254, 231, 254, 1.0)\"],[0.9960629921259843,\"rgba(254, 233, 254, 1.0)\"],[1.0,\"rgba(254, 234, 254, 1.0)\"]],\"hoverinfo\":\"none\",\"showscale\":false,\"z\":[[-4.008773924307505,-3.998672914206495,-3.9885719041054846,-3.9784708940044746,-3.9683698839034647,-3.9582688738024543,-3.9481678637014443,-3.938066853600434,-3.927965843499424,-3.917864833398414,-3.9077638232974037,-3.8976628131963937,-3.887561803095384,-3.8774607929943734,-3.8673597828933635,-3.8572587727923535,-3.847157762691343,-3.837056752590333,-3.8269557424893232,-3.816854732388313,-3.806753722287303,-3.796652712186293,-3.7865517020852826,-3.7764506919842726,-3.7663496818832627,-3.7562486717822523,-3.7461476616812424,-3.736046651580232,-3.725945641479222,-3.715844631378212,-3.7057436212772017,-3.6956426111761917,-3.685541601075182,-3.6754405909741714,-3.6653395808731615,-3.655238570772151,-3.645137560671141,-3.635036550570131,-3.624935540469121,-3.614834530368111,-3.604733520267101,-3.5946325101660905,-3.5845315000650806,-3.5744304899640706,-3.5643294798630603,-3.5542284697620503,-3.5441274596610404,-3.53402644956003,-3.52392543945902,-3.51382442935801,-3.5037234192569997,-3.4936224091559898,-3.48352139905498,-3.4734203889539694,-3.4633193788529595,-3.4532183687519495,-3.443117358650939,-3.433016348549929,-3.4229153384489193,-3.412814328347909,-3.402713318246899,-3.3926123081458885,-3.3825112980448786,-3.372410287943868,-3.3623092778428583,-3.3522082677418483,-3.342107257640838,-3.332006247539828,-3.321905237438818,-3.3118042273378077,-3.3017032172367977,-3.2916022071357878,-3.2815011970347774,-3.2714001869337674,-3.2612991768327575,-3.251198166731747,-3.241097156630737,-3.230996146529727,-3.220895136428717,-3.210794126327707,-3.200693116226697,-3.1905921061256866,-3.1804910960246766,-3.1703900859236667,-3.1602890758226563,-3.1501880657216463,-3.1400870556206364,-3.129986045519626,-3.119885035418616,-3.1097840253176057,-3.0996830152165957,-3.089582005115586,-3.0794809950145754,-3.0693799849135655,-3.059278974812555,-3.049177964711545,-3.039076954610535,-3.028975944509525,-3.018874934408515,-3.008773924307505],[-4.008773924307505,-3.998672914206495,-3.9885719041054846,-3.9784708940044746,-3.9683698839034647,-3.9582688738024543,-3.9481678637014443,-3.938066853600434,-3.927965843499424,-3.917864833398414,-3.9077638232974037,-3.8976628131963937,-3.887561803095384,-3.8774607929943734,-3.8673597828933635,-3.8572587727923535,-3.847157762691343,-3.837056752590333,-3.8269557424893232,-3.816854732388313,-3.806753722287303,-3.796652712186293,-3.7865517020852826,-3.7764506919842726,-3.7663496818832627,-3.7562486717822523,-3.7461476616812424,-3.736046651580232,-3.725945641479222,-3.715844631378212,-3.7057436212772017,-3.6956426111761917,-3.685541601075182,-3.6754405909741714,-3.6653395808731615,-3.655238570772151,-3.645137560671141,-3.635036550570131,-3.624935540469121,-3.614834530368111,-3.604733520267101,-3.5946325101660905,-3.5845315000650806,-3.5744304899640706,-3.5643294798630603,-3.5542284697620503,-3.5441274596610404,-3.53402644956003,-3.52392543945902,-3.51382442935801,-3.5037234192569997,-3.4936224091559898,-3.48352139905498,-3.4734203889539694,-3.4633193788529595,-3.4532183687519495,-3.443117358650939,-3.433016348549929,-3.4229153384489193,-3.412814328347909,-3.402713318246899,-3.3926123081458885,-3.3825112980448786,-3.372410287943868,-3.3623092778428583,-3.3522082677418483,-3.342107257640838,-3.332006247539828,-3.321905237438818,-3.3118042273378077,-3.3017032172367977,-3.2916022071357878,-3.2815011970347774,-3.2714001869337674,-3.2612991768327575,-3.251198166731747,-3.241097156630737,-3.230996146529727,-3.220895136428717,-3.210794126327707,-3.200693116226697,-3.1905921061256866,-3.1804910960246766,-3.1703900859236667,-3.1602890758226563,-3.1501880657216463,-3.1400870556206364,-3.129986045519626,-3.119885035418616,-3.1097840253176057,-3.0996830152165957,-3.089582005115586,-3.0794809950145754,-3.0693799849135655,-3.059278974812555,-3.049177964711545,-3.039076954610535,-3.028975944509525,-3.018874934408515,-3.008773924307505]],\"type\":\"heatmap\",\"xaxis\":\"x4\",\"yaxis\":\"y4\"},{\"colorscale\":[[0.0,\"rgba(0, 4, 88, 1.0)\"],[0.003937007874015748,\"rgba(0, 5, 90, 1.0)\"],[0.007874015748031496,\"rgba(0, 5, 92, 1.0)\"],[0.011811023622047244,\"rgba(0, 6, 95, 1.0)\"],[0.015748031496062992,\"rgba(0, 7, 97, 1.0)\"],[0.01968503937007874,\"rgba(0, 7, 100, 1.0)\"],[0.023622047244094488,\"rgba(0, 8, 102, 1.0)\"],[0.027559055118110236,\"rgba(0, 8, 104, 1.0)\"],[0.031496062992125984,\"rgba(0, 8, 107, 1.0)\"],[0.03543307086614173,\"rgba(0, 9, 109, 1.0)\"],[0.03937007874015748,\"rgba(0, 9, 111, 1.0)\"],[0.04330708661417323,\"rgba(0, 9, 114, 1.0)\"],[0.047244094488188976,\"rgba(0, 9, 116, 1.0)\"],[0.051181102362204724,\"rgba(0, 10, 119, 1.0)\"],[0.05511811023622047,\"rgba(0, 10, 121, 1.0)\"],[0.05905511811023622,\"rgba(0, 10, 123, 1.0)\"],[0.06299212598425197,\"rgba(0, 11, 126, 1.0)\"],[0.06692913385826771,\"rgba(0, 11, 128, 1.0)\"],[0.07086614173228346,\"rgba(0, 11, 131, 1.0)\"],[0.07480314960629922,\"rgba(0, 11, 133, 1.0)\"],[0.07874015748031496,\"rgba(0, 12, 136, 1.0)\"],[0.0826771653543307,\"rgba(0, 12, 138, 1.0)\"],[0.08661417322834646,\"rgba(0, 12, 141, 1.0)\"],[0.09055118110236221,\"rgba(0, 13, 143, 1.0)\"],[0.09448818897637795,\"rgba(0, 13, 146, 1.0)\"],[0.09842519685039369,\"rgba(0, 13, 148, 1.0)\"],[0.10236220472440945,\"rgba(0, 14, 151, 1.0)\"],[0.1062992125984252,\"rgba(0, 14, 153, 1.0)\"],[0.11023622047244094,\"rgba(0, 14, 156, 1.0)\"],[0.11417322834645668,\"rgba(0, 15, 158, 1.0)\"],[0.11811023622047244,\"rgba(0, 15, 161, 1.0)\"],[0.1220472440944882,\"rgba(0, 15, 163, 1.0)\"],[0.12598425196850394,\"rgba(0, 16, 166, 1.0)\"],[0.12992125984251968,\"rgba(0, 16, 168, 1.0)\"],[0.13385826771653542,\"rgba(0, 16, 171, 1.0)\"],[0.1377952755905512,\"rgba(0, 17, 173, 1.0)\"],[0.14173228346456693,\"rgba(0, 17, 176, 1.0)\"],[0.14566929133858267,\"rgba(0, 17, 178, 1.0)\"],[0.14960629921259844,\"rgba(0, 18, 181, 1.0)\"],[0.15354330708661418,\"rgba(0, 18, 183, 1.0)\"],[0.15748031496062992,\"rgba(0, 19, 186, 1.0)\"],[0.16141732283464566,\"rgba(0, 19, 188, 1.0)\"],[0.1653543307086614,\"rgba(0, 19, 191, 1.0)\"],[0.16929133858267717,\"rgba(0, 20, 193, 1.0)\"],[0.1732283464566929,\"rgba(0, 20, 196, 1.0)\"],[0.17716535433070865,\"rgba(0, 21, 198, 1.0)\"],[0.18110236220472442,\"rgba(0, 21, 200, 1.0)\"],[0.18503937007874016,\"rgba(0, 22, 203, 1.0)\"],[0.1889763779527559,\"rgba(0, 22, 205, 1.0)\"],[0.19291338582677164,\"rgba(0, 22, 207, 1.0)\"],[0.19685039370078738,\"rgba(0, 23, 209, 1.0)\"],[0.20078740157480315,\"rgba(0, 23, 211, 1.0)\"],[0.2047244094488189,\"rgba(0, 23, 213, 1.0)\"],[0.20866141732283464,\"rgba(0, 24, 215, 1.0)\"],[0.2125984251968504,\"rgba(0, 24, 217, 1.0)\"],[0.21653543307086615,\"rgba(0, 25, 219, 1.0)\"],[0.2204724409448819,\"rgba(0, 25, 221, 1.0)\"],[0.22440944881889763,\"rgba(0, 25, 223, 1.0)\"],[0.22834645669291337,\"rgba(0, 25, 225, 1.0)\"],[0.23228346456692914,\"rgba(0, 26, 226, 1.0)\"],[0.23622047244094488,\"rgba(0, 26, 228, 1.0)\"],[0.24015748031496062,\"rgba(0, 26, 230, 1.0)\"],[0.2440944881889764,\"rgba(0, 27, 231, 1.0)\"],[0.24803149606299213,\"rgba(0, 27, 233, 1.0)\"],[0.25196850393700787,\"rgba(0, 27, 234, 1.0)\"],[0.2559055118110236,\"rgba(0, 27, 235, 1.0)\"],[0.25984251968503935,\"rgba(0, 28, 237, 1.0)\"],[0.2637795275590551,\"rgba(0, 28, 238, 1.0)\"],[0.26771653543307083,\"rgba(0, 28, 239, 1.0)\"],[0.27165354330708663,\"rgba(0, 28, 240, 1.0)\"],[0.2755905511811024,\"rgba(0, 29, 242, 1.0)\"],[0.2795275590551181,\"rgba(0, 29, 243, 1.0)\"],[0.28346456692913385,\"rgba(0, 29, 244, 1.0)\"],[0.2874015748031496,\"rgba(0, 29, 245, 1.0)\"],[0.29133858267716534,\"rgba(0, 29, 246, 1.0)\"],[0.2952755905511811,\"rgba(0, 30, 247, 1.0)\"],[0.2992125984251969,\"rgba(0, 30, 247, 1.0)\"],[0.3031496062992126,\"rgba(0, 30, 248, 1.0)\"],[0.30708661417322836,\"rgba(0, 30, 249, 1.0)\"],[0.3110236220472441,\"rgba(0, 30, 250, 1.0)\"],[0.31496062992125984,\"rgba(0, 30, 251, 1.0)\"],[0.3188976377952756,\"rgba(0, 30, 251, 1.0)\"],[0.3228346456692913,\"rgba(0, 31, 252, 1.0)\"],[0.32677165354330706,\"rgba(10, 31, 253, 1.0)\"],[0.3307086614173228,\"rgba(24, 31, 253, 1.0)\"],[0.3346456692913386,\"rgba(33, 31, 254, 1.0)\"],[0.33858267716535434,\"rgba(41, 31, 254, 1.0)\"],[0.3425196850393701,\"rgba(47, 31, 255, 1.0)\"],[0.3464566929133858,\"rgba(53, 31, 255, 1.0)\"],[0.35039370078740156,\"rgba(59, 31, 255, 1.0)\"],[0.3543307086614173,\"rgba(64, 31, 255, 1.0)\"],[0.35826771653543305,\"rgba(69, 31, 255, 1.0)\"],[0.36220472440944884,\"rgba(73, 31, 255, 1.0)\"],[0.3661417322834646,\"rgba(78, 31, 255, 1.0)\"],[0.3700787401574803,\"rgba(82, 31, 255, 1.0)\"],[0.37401574803149606,\"rgba(86, 31, 255, 1.0)\"],[0.3779527559055118,\"rgba(90, 31, 255, 1.0)\"],[0.38188976377952755,\"rgba(94, 31, 255, 1.0)\"],[0.3858267716535433,\"rgba(98, 31, 255, 1.0)\"],[0.38976377952755903,\"rgba(101, 31, 255, 1.0)\"],[0.39370078740157477,\"rgba(105, 31, 255, 1.0)\"],[0.39763779527559057,\"rgba(108, 31, 255, 1.0)\"],[0.4015748031496063,\"rgba(112, 31, 255, 1.0)\"],[0.40551181102362205,\"rgba(115, 31, 255, 1.0)\"],[0.4094488188976378,\"rgba(119, 31, 255, 1.0)\"],[0.41338582677165353,\"rgba(122, 30, 255, 1.0)\"],[0.41732283464566927,\"rgba(125, 30, 255, 1.0)\"],[0.421259842519685,\"rgba(128, 30, 255, 1.0)\"],[0.4251968503937008,\"rgba(131, 30, 255, 1.0)\"],[0.42913385826771655,\"rgba(134, 30, 255, 1.0)\"],[0.4330708661417323,\"rgba(137, 30, 255, 1.0)\"],[0.43700787401574803,\"rgba(140, 30, 255, 1.0)\"],[0.4409448818897638,\"rgba(143, 30, 255, 1.0)\"],[0.4448818897637795,\"rgba(145, 30, 255, 1.0)\"],[0.44881889763779526,\"rgba(148, 30, 255, 1.0)\"],[0.452755905511811,\"rgba(151, 30, 255, 1.0)\"],[0.45669291338582674,\"rgba(154, 30, 255, 1.0)\"],[0.46062992125984253,\"rgba(156, 30, 255, 1.0)\"],[0.4645669291338583,\"rgba(159, 30, 255, 1.0)\"],[0.468503937007874,\"rgba(161, 30, 255, 1.0)\"],[0.47244094488188976,\"rgba(164, 30, 255, 1.0)\"],[0.4763779527559055,\"rgba(167, 30, 255, 1.0)\"],[0.48031496062992124,\"rgba(169, 30, 255, 1.0)\"],[0.484251968503937,\"rgba(172, 30, 255, 1.0)\"],[0.4881889763779528,\"rgba(174, 30, 255, 1.0)\"],[0.4921259842519685,\"rgba(177, 30, 255, 1.0)\"],[0.49606299212598426,\"rgba(179, 30, 255, 1.0)\"],[0.5,\"rgba(184, 30, 255, 1.0)\"],[0.5039370078740157,\"rgba(186, 30, 255, 1.0)\"],[0.5078740157480315,\"rgba(189, 30, 255, 1.0)\"],[0.5118110236220472,\"rgba(191, 30, 255, 1.0)\"],[0.515748031496063,\"rgba(193, 30, 255, 1.0)\"],[0.5196850393700787,\"rgba(195, 31, 255, 1.0)\"],[0.5236220472440944,\"rgba(197, 31, 255, 1.0)\"],[0.5275590551181102,\"rgba(200, 32, 255, 1.0)\"],[0.5314960629921259,\"rgba(202, 33, 255, 1.0)\"],[0.5354330708661417,\"rgba(204, 33, 255, 1.0)\"],[0.5393700787401575,\"rgba(206, 34, 255, 1.0)\"],[0.5433070866141733,\"rgba(208, 35, 255, 1.0)\"],[0.547244094488189,\"rgba(209, 36, 255, 1.0)\"],[0.5511811023622047,\"rgba(211, 37, 255, 1.0)\"],[0.5551181102362205,\"rgba(213, 38, 255, 1.0)\"],[0.5590551181102362,\"rgba(215, 39, 255, 1.0)\"],[0.562992125984252,\"rgba(217, 40, 255, 1.0)\"],[0.5669291338582677,\"rgba(218, 41, 255, 1.0)\"],[0.5708661417322834,\"rgba(220, 43, 255, 1.0)\"],[0.5748031496062992,\"rgba(222, 44, 255, 1.0)\"],[0.5787401574803149,\"rgba(223, 45, 255, 1.0)\"],[0.5826771653543307,\"rgba(225, 47, 255, 1.0)\"],[0.5866141732283464,\"rgba(227, 48, 255, 1.0)\"],[0.5905511811023622,\"rgba(228, 50, 255, 1.0)\"],[0.5944881889763779,\"rgba(230, 51, 255, 1.0)\"],[0.5984251968503937,\"rgba(231, 53, 255, 1.0)\"],[0.6023622047244095,\"rgba(232, 54, 255, 1.0)\"],[0.6062992125984252,\"rgba(234, 56, 255, 1.0)\"],[0.610236220472441,\"rgba(235, 57, 255, 1.0)\"],[0.6141732283464567,\"rgba(236, 59, 255, 1.0)\"],[0.6181102362204725,\"rgba(238, 61, 255, 1.0)\"],[0.6220472440944882,\"rgba(239, 63, 255, 1.0)\"],[0.6259842519685039,\"rgba(240, 64, 255, 1.0)\"],[0.6299212598425197,\"rgba(241, 66, 255, 1.0)\"],[0.6338582677165354,\"rgba(242, 68, 255, 1.0)\"],[0.6377952755905512,\"rgba(243, 70, 255, 1.0)\"],[0.6417322834645669,\"rgba(244, 72, 255, 1.0)\"],[0.6456692913385826,\"rgba(245, 74, 255, 1.0)\"],[0.6496062992125984,\"rgba(246, 76, 255, 1.0)\"],[0.6535433070866141,\"rgba(247, 78, 255, 1.0)\"],[0.6574803149606299,\"rgba(248, 80, 255, 1.0)\"],[0.6614173228346456,\"rgba(249, 82, 255, 1.0)\"],[0.6653543307086615,\"rgba(249, 84, 255, 1.0)\"],[0.6692913385826772,\"rgba(250, 86, 255, 1.0)\"],[0.6732283464566929,\"rgba(251, 88, 255, 1.0)\"],[0.6771653543307087,\"rgba(251, 90, 255, 1.0)\"],[0.6811023622047244,\"rgba(252, 92, 255, 1.0)\"],[0.6850393700787402,\"rgba(252, 94, 255, 1.0)\"],[0.6889763779527559,\"rgba(253, 96, 255, 1.0)\"],[0.6929133858267716,\"rgba(253, 98, 255, 1.0)\"],[0.6968503937007874,\"rgba(254, 100, 255, 1.0)\"],[0.7007874015748031,\"rgba(254, 103, 255, 1.0)\"],[0.7047244094488189,\"rgba(254, 105, 255, 1.0)\"],[0.7086614173228346,\"rgba(254, 107, 255, 1.0)\"],[0.7125984251968503,\"rgba(255, 109, 255, 1.0)\"],[0.7165354330708661,\"rgba(255, 111, 255, 1.0)\"],[0.7204724409448818,\"rgba(255, 113, 255, 1.0)\"],[0.7244094488188977,\"rgba(255, 116, 255, 1.0)\"],[0.7283464566929134,\"rgba(255, 118, 255, 1.0)\"],[0.7322834645669292,\"rgba(255, 120, 255, 1.0)\"],[0.7362204724409449,\"rgba(255, 122, 255, 1.0)\"],[0.7401574803149606,\"rgba(255, 124, 255, 1.0)\"],[0.7440944881889764,\"rgba(255, 126, 255, 1.0)\"],[0.7480314960629921,\"rgba(255, 128, 255, 1.0)\"],[0.7519685039370079,\"rgba(255, 130, 255, 1.0)\"],[0.7559055118110236,\"rgba(255, 132, 255, 1.0)\"],[0.7598425196850394,\"rgba(255, 134, 255, 1.0)\"],[0.7637795275590551,\"rgba(255, 136, 255, 1.0)\"],[0.7677165354330708,\"rgba(255, 138, 255, 1.0)\"],[0.7716535433070866,\"rgba(255, 140, 255, 1.0)\"],[0.7755905511811023,\"rgba(255, 142, 255, 1.0)\"],[0.7795275590551181,\"rgba(255, 143, 255, 1.0)\"],[0.7834645669291338,\"rgba(255, 145, 255, 1.0)\"],[0.7874015748031495,\"rgba(255, 147, 255, 1.0)\"],[0.7913385826771654,\"rgba(255, 149, 255, 1.0)\"],[0.7952755905511811,\"rgba(255, 151, 255, 1.0)\"],[0.7992125984251969,\"rgba(255, 152, 255, 1.0)\"],[0.8031496062992126,\"rgba(255, 154, 255, 1.0)\"],[0.8070866141732284,\"rgba(255, 156, 255, 1.0)\"],[0.8110236220472441,\"rgba(255, 158, 255, 1.0)\"],[0.8149606299212598,\"rgba(255, 159, 255, 1.0)\"],[0.8188976377952756,\"rgba(255, 161, 255, 1.0)\"],[0.8228346456692913,\"rgba(255, 163, 255, 1.0)\"],[0.8267716535433071,\"rgba(255, 165, 255, 1.0)\"],[0.8307086614173228,\"rgba(255, 166, 255, 1.0)\"],[0.8346456692913385,\"rgba(255, 168, 255, 1.0)\"],[0.8385826771653543,\"rgba(255, 170, 255, 1.0)\"],[0.84251968503937,\"rgba(255, 171, 255, 1.0)\"],[0.8464566929133858,\"rgba(255, 173, 255, 1.0)\"],[0.8503937007874016,\"rgba(255, 175, 255, 1.0)\"],[0.8543307086614174,\"rgba(255, 176, 255, 1.0)\"],[0.8582677165354331,\"rgba(255, 178, 255, 1.0)\"],[0.8622047244094488,\"rgba(255, 180, 255, 1.0)\"],[0.8661417322834646,\"rgba(255, 181, 255, 1.0)\"],[0.8700787401574803,\"rgba(255, 183, 255, 1.0)\"],[0.8740157480314961,\"rgba(255, 184, 255, 1.0)\"],[0.8779527559055118,\"rgba(255, 186, 255, 1.0)\"],[0.8818897637795275,\"rgba(255, 188, 255, 1.0)\"],[0.8858267716535433,\"rgba(255, 189, 255, 1.0)\"],[0.889763779527559,\"rgba(255, 191, 255, 1.0)\"],[0.8937007874015748,\"rgba(255, 192, 255, 1.0)\"],[0.8976377952755905,\"rgba(255, 194, 255, 1.0)\"],[0.9015748031496063,\"rgba(255, 196, 255, 1.0)\"],[0.905511811023622,\"rgba(255, 197, 255, 1.0)\"],[0.9094488188976377,\"rgba(255, 199, 255, 1.0)\"],[0.9133858267716535,\"rgba(255, 200, 255, 1.0)\"],[0.9173228346456693,\"rgba(255, 202, 255, 1.0)\"],[0.9212598425196851,\"rgba(255, 203, 255, 1.0)\"],[0.9251968503937008,\"rgba(255, 205, 255, 1.0)\"],[0.9291338582677166,\"rgba(255, 207, 255, 1.0)\"],[0.9330708661417323,\"rgba(255, 208, 255, 1.0)\"],[0.937007874015748,\"rgba(255, 210, 255, 1.0)\"],[0.9409448818897638,\"rgba(255, 211, 255, 1.0)\"],[0.9448818897637795,\"rgba(255, 213, 255, 1.0)\"],[0.9488188976377953,\"rgba(255, 214, 255, 1.0)\"],[0.952755905511811,\"rgba(255, 216, 255, 1.0)\"],[0.9566929133858267,\"rgba(255, 217, 255, 1.0)\"],[0.9606299212598425,\"rgba(255, 219, 255, 1.0)\"],[0.9645669291338582,\"rgba(255, 221, 255, 1.0)\"],[0.968503937007874,\"rgba(255, 222, 254, 1.0)\"],[0.9724409448818897,\"rgba(255, 224, 254, 1.0)\"],[0.9763779527559056,\"rgba(255, 225, 254, 1.0)\"],[0.9803149606299213,\"rgba(255, 227, 254, 1.0)\"],[0.984251968503937,\"rgba(254, 228, 254, 1.0)\"],[0.9881889763779528,\"rgba(254, 230, 254, 1.0)\"],[0.9921259842519685,\"rgba(254, 231, 254, 1.0)\"],[0.9960629921259843,\"rgba(254, 233, 254, 1.0)\"],[1.0,\"rgba(254, 234, 254, 1.0)\"]],\"hoverinfo\":\"none\",\"showscale\":false,\"z\":[[-2.4436974992327127,-2.4348584965721907,-2.426019493911668,-2.417180491251146,-2.408341488590624,-2.3995024859301015,-2.3906634832695794,-2.3818244806090574,-2.372985477948535,-2.364146475288013,-2.3553074726274903,-2.3464684699669682,-2.337629467306446,-2.3287904646459237,-2.3199514619854016,-2.3111124593248795,-2.302273456664357,-2.293434454003835,-2.284595451343313,-2.2757564486827904,-2.2669174460222683,-2.2580784433617462,-2.2492394407012237,-2.2404004380407017,-2.231561435380179,-2.222722432719657,-2.213883430059135,-2.2050444273986125,-2.1962054247380904,-2.1873664220775684,-2.178527419417046,-2.169688416756524,-2.1608494140960017,-2.152010411435479,-2.143171408774957,-2.134332406114435,-2.1254934034539126,-2.1166544007933905,-2.1078153981328684,-2.098976395472346,-2.090137392811824,-2.0812983901513014,-2.0724593874907793,-2.0636203848302572,-2.0547813821697347,-2.0459423795092126,-2.0371033768486906,-2.028264374188168,-2.019425371527646,-2.010586368867124,-2.0017473662066014,-1.9929083635460794,-1.984069360885557,-1.9752303582250348,-1.9663913555645127,-1.9575523529039904,-1.9487133502434681,-1.939874347582946,-1.9310353449224238,-1.9221963422619015,-1.9133573396013794,-1.904518336940857,-1.8956793342803349,-1.8868403316198126,-1.8780013289592903,-1.8691623262987682,-1.860323323638246,-1.8514843209777236,-1.8426453183172016,-1.8338063156566793,-1.824967312996157,-1.816128310335635,-1.8072893076751126,-1.7984503050145904,-1.7896113023540683,-1.7807722996935458,-1.7719332970330237,-1.7630942943725016,-1.7542552917119791,-1.745416289051457,-1.7365772863909348,-1.7277382837304125,-1.7188992810698904,-1.7100602784093681,-1.7012212757488459,-1.6923822730883238,-1.6835432704278015,-1.6747042677672792,-1.6658652651067571,-1.6570262624462346,-1.6481872597857126,-1.6393482571251905,-1.630509254464668,-1.621670251804146,-1.6128312491436236,-1.6039922464831013,-1.5951532438225793,-1.586314241162057,-1.5774752385015347,-1.5686362358410126],[-2.4436974992327127,-2.4348584965721907,-2.426019493911668,-2.417180491251146,-2.408341488590624,-2.3995024859301015,-2.3906634832695794,-2.3818244806090574,-2.372985477948535,-2.364146475288013,-2.3553074726274903,-2.3464684699669682,-2.337629467306446,-2.3287904646459237,-2.3199514619854016,-2.3111124593248795,-2.302273456664357,-2.293434454003835,-2.284595451343313,-2.2757564486827904,-2.2669174460222683,-2.2580784433617462,-2.2492394407012237,-2.2404004380407017,-2.231561435380179,-2.222722432719657,-2.213883430059135,-2.2050444273986125,-2.1962054247380904,-2.1873664220775684,-2.178527419417046,-2.169688416756524,-2.1608494140960017,-2.152010411435479,-2.143171408774957,-2.134332406114435,-2.1254934034539126,-2.1166544007933905,-2.1078153981328684,-2.098976395472346,-2.090137392811824,-2.0812983901513014,-2.0724593874907793,-2.0636203848302572,-2.0547813821697347,-2.0459423795092126,-2.0371033768486906,-2.028264374188168,-2.019425371527646,-2.010586368867124,-2.0017473662066014,-1.9929083635460794,-1.984069360885557,-1.9752303582250348,-1.9663913555645127,-1.9575523529039904,-1.9487133502434681,-1.939874347582946,-1.9310353449224238,-1.9221963422619015,-1.9133573396013794,-1.904518336940857,-1.8956793342803349,-1.8868403316198126,-1.8780013289592903,-1.8691623262987682,-1.860323323638246,-1.8514843209777236,-1.8426453183172016,-1.8338063156566793,-1.824967312996157,-1.816128310335635,-1.8072893076751126,-1.7984503050145904,-1.7896113023540683,-1.7807722996935458,-1.7719332970330237,-1.7630942943725016,-1.7542552917119791,-1.745416289051457,-1.7365772863909348,-1.7277382837304125,-1.7188992810698904,-1.7100602784093681,-1.7012212757488459,-1.6923822730883238,-1.6835432704278015,-1.6747042677672792,-1.6658652651067571,-1.6570262624462346,-1.6481872597857126,-1.6393482571251905,-1.630509254464668,-1.621670251804146,-1.6128312491436236,-1.6039922464831013,-1.5951532438225793,-1.586314241162057,-1.5774752385015347,-1.5686362358410126]],\"type\":\"heatmap\",\"xaxis\":\"x5\",\"yaxis\":\"y5\"},{\"hoverinfo\":\"text\",\"hoverlabel\":{\"font\":{\"color\":\"#000000\"}},\"hovertext\":[\"<b>Qubit 13</b><br>M<sub>err</sub> = 0.0198<br>P<sub>0|1</sub> = 0.0196<br>P<sub>1|0</sub> = 0.02\"],\"marker\":{\"color\":\"#c7c7c5\"},\"orientation\":\"h\",\"x\":[0.01980000000000004],\"y\":[13],\"type\":\"bar\",\"xaxis\":\"x\",\"yaxis\":\"y\"},{\"hoverinfo\":\"text\",\"hoverlabel\":{\"font\":{\"color\":\"#000000\"}},\"hovertext\":[\"<b>Qubit 12</b><br>M<sub>err</sub> = 0.055<br>P<sub>0|1</sub> = 0.0352<br>P<sub>1|0</sub> = 0.0748\"],\"marker\":{\"color\":\"#c7c7c5\"},\"orientation\":\"h\",\"x\":[0.05499999999999994],\"y\":[12],\"type\":\"bar\",\"xaxis\":\"x\",\"yaxis\":\"y\"},{\"hoverinfo\":\"text\",\"hoverlabel\":{\"font\":{\"color\":\"#000000\"}},\"hovertext\":[\"<b>Qubit 11</b><br>M<sub>err</sub> = 0.015<br>P<sub>0|1</sub> = 0.0154<br>P<sub>1|0</sub> = 0.0146\"],\"marker\":{\"color\":\"#c7c7c5\"},\"orientation\":\"h\",\"x\":[0.014999999999999902],\"y\":[11],\"type\":\"bar\",\"xaxis\":\"x\",\"yaxis\":\"y\"},{\"hoverinfo\":\"text\",\"hoverlabel\":{\"font\":{\"color\":\"#000000\"}},\"hovertext\":[\"<b>Qubit 10</b><br>M<sub>err</sub> = 0.0212<br>P<sub>0|1</sub> = 0.0218<br>P<sub>1|0</sub> = 0.0206\"],\"marker\":{\"color\":\"#c7c7c5\"},\"orientation\":\"h\",\"x\":[0.021199999999999997],\"y\":[10],\"type\":\"bar\",\"xaxis\":\"x\",\"yaxis\":\"y\"},{\"hoverinfo\":\"text\",\"hoverlabel\":{\"font\":{\"color\":\"#000000\"}},\"hovertext\":[\"<b>Qubit 9</b><br>M<sub>err</sub> = 0.0101<br>P<sub>0|1</sub> = 0.014<br>P<sub>1|0</sub> = 0.0062\"],\"marker\":{\"color\":\"#c7c7c5\"},\"orientation\":\"h\",\"x\":[0.010099999999999998],\"y\":[9],\"type\":\"bar\",\"xaxis\":\"x\",\"yaxis\":\"y\"},{\"hoverinfo\":\"text\",\"hoverlabel\":{\"font\":{\"color\":\"#000000\"}},\"hovertext\":[\"<b>Qubit 8</b><br>M<sub>err</sub> = 0.0111<br>P<sub>0|1</sub> = 0.011<br>P<sub>1|0</sub> = 0.0112\"],\"marker\":{\"color\":\"#c7c7c5\"},\"orientation\":\"h\",\"x\":[0.011099999999999999],\"y\":[8],\"type\":\"bar\",\"xaxis\":\"x\",\"yaxis\":\"y\"},{\"hoverinfo\":\"text\",\"hoverlabel\":{\"font\":{\"color\":\"#000000\"}},\"hovertext\":[\"<b>Qubit 7</b><br>M<sub>err</sub> = 0.0125<br>P<sub>0|1</sub> = 0.0118<br>P<sub>1|0</sub> = 0.0132\"],\"marker\":{\"color\":\"#c7c7c5\"},\"orientation\":\"h\",\"x\":[0.012499999999999956],\"y\":[7],\"type\":\"bar\",\"xaxis\":\"x\",\"yaxis\":\"y\"},{\"hoverinfo\":\"text\",\"hoverlabel\":{\"font\":{\"color\":\"#000000\"}},\"hovertext\":[\"<b>Qubit 6</b><br>M<sub>err</sub> = 0.0115<br>P<sub>0|1</sub> = 0.0162<br>P<sub>1|0</sub> = 0.0068\"],\"marker\":{\"color\":\"#c7c7c5\"},\"orientation\":\"h\",\"x\":[0.011500000000000066],\"y\":[6],\"type\":\"bar\",\"xaxis\":\"x\",\"yaxis\":\"y\"},{\"hoverinfo\":\"text\",\"hoverlabel\":{\"font\":{\"color\":\"#000000\"}},\"hovertext\":[\"<b>Qubit 5</b><br>M<sub>err</sub> = 0.0054<br>P<sub>0|1</sub> = 0.0062<br>P<sub>1|0</sub> = 0.0046\"],\"marker\":{\"color\":\"#c7c7c5\"},\"orientation\":\"h\",\"x\":[0.005400000000000071],\"y\":[5],\"type\":\"bar\",\"xaxis\":\"x\",\"yaxis\":\"y\"},{\"hoverinfo\":\"text\",\"hoverlabel\":{\"font\":{\"color\":\"#000000\"}},\"hovertext\":[\"<b>Qubit 4</b><br>M<sub>err</sub> = 0.0096<br>P<sub>0|1</sub> = 0.0138<br>P<sub>1|0</sub> = 0.0054\"],\"marker\":{\"color\":\"#c7c7c5\"},\"orientation\":\"h\",\"x\":[0.009600000000000053],\"y\":[4],\"type\":\"bar\",\"xaxis\":\"x\",\"yaxis\":\"y\"},{\"hoverinfo\":\"text\",\"hoverlabel\":{\"font\":{\"color\":\"#000000\"}},\"hovertext\":[\"<b>Qubit 3</b><br>M<sub>err</sub> = 0.0055<br>P<sub>0|1</sub> = 0.007<br>P<sub>1|0</sub> = 0.004\"],\"marker\":{\"color\":\"#c7c7c5\"},\"orientation\":\"h\",\"x\":[0.00550000000000006],\"y\":[3],\"type\":\"bar\",\"xaxis\":\"x\",\"yaxis\":\"y\"},{\"hoverinfo\":\"text\",\"hoverlabel\":{\"font\":{\"color\":\"#000000\"}},\"hovertext\":[\"<b>Qubit 2</b><br>M<sub>err</sub> = 0.0225<br>P<sub>0|1</sub> = 0.021<br>P<sub>1|0</sub> = 0.024\"],\"marker\":{\"color\":\"#c7c7c5\"},\"orientation\":\"h\",\"x\":[0.022499999999999964],\"y\":[2],\"type\":\"bar\",\"xaxis\":\"x\",\"yaxis\":\"y\"},{\"hoverinfo\":\"text\",\"hoverlabel\":{\"font\":{\"color\":\"#000000\"}},\"hovertext\":[\"<b>Qubit 1</b><br>M<sub>err</sub> = 0.0094<br>P<sub>0|1</sub> = 0.0102<br>P<sub>1|0</sub> = 0.0086\"],\"marker\":{\"color\":\"#c7c7c5\"},\"orientation\":\"h\",\"x\":[0.009400000000000075],\"y\":[1],\"type\":\"bar\",\"xaxis\":\"x\",\"yaxis\":\"y\"},{\"hoverinfo\":\"text\",\"hoverlabel\":{\"font\":{\"color\":\"#000000\"}},\"hovertext\":[\"<b>Qubit 0</b><br>M<sub>err</sub> = 0.0071<br>P<sub>0|1</sub> = 0.009<br>P<sub>1|0</sub> = 0.0052\"],\"marker\":{\"color\":\"#c7c7c5\"},\"orientation\":\"h\",\"x\":[0.007099999999999995],\"y\":[0],\"type\":\"bar\",\"xaxis\":\"x\",\"yaxis\":\"y\"},{\"hoverinfo\":\"none\",\"line\":{\"color\":\"#000000\",\"dash\":\"dot\",\"width\":2},\"mode\":\"lines\",\"x\":[0.015125925925925942,0.015125925925925942],\"y\":[-0.25,13.25],\"type\":\"scatter\",\"xaxis\":\"x\",\"yaxis\":\"y\"},{\"hoverinfo\":\"text\",\"hoverlabel\":{\"font\":{\"color\":\"#000000\"}},\"hovertext\":[\"<b>Qubit 26</b><br>M<sub>err</sub> = 0.0098<br>P<sub>0|1</sub> = 0.0138<br>P<sub>1|0</sub> = 0.0058\"],\"marker\":{\"color\":\"#c7c7c5\"},\"orientation\":\"h\",\"x\":[-0.009800000000000031],\"y\":[26],\"type\":\"bar\",\"xaxis\":\"x3\",\"yaxis\":\"y3\"},{\"hoverinfo\":\"text\",\"hoverlabel\":{\"font\":{\"color\":\"#000000\"}},\"hovertext\":[\"<b>Qubit 25</b><br>M<sub>err</sub> = 0.0147<br>P<sub>0|1</sub> = 0.0144<br>P<sub>1|0</sub> = 0.015\"],\"marker\":{\"color\":\"#c7c7c5\"},\"orientation\":\"h\",\"x\":[-0.014699999999999935],\"y\":[25],\"type\":\"bar\",\"xaxis\":\"x3\",\"yaxis\":\"y3\"},{\"hoverinfo\":\"text\",\"hoverlabel\":{\"font\":{\"color\":\"#000000\"}},\"hovertext\":[\"<b>Qubit 24</b><br>M<sub>err</sub> = 0.0132<br>P<sub>0|1</sub> = 0.0148<br>P<sub>1|0</sub> = 0.0116\"],\"marker\":{\"color\":\"#c7c7c5\"},\"orientation\":\"h\",\"x\":[-0.01319999999999999],\"y\":[24],\"type\":\"bar\",\"xaxis\":\"x3\",\"yaxis\":\"y3\"},{\"hoverinfo\":\"text\",\"hoverlabel\":{\"font\":{\"color\":\"#000000\"}},\"hovertext\":[\"<b>Qubit 23</b><br>M<sub>err</sub> = 0.0221<br>P<sub>0|1</sub> = 0.0224<br>P<sub>1|0</sub> = 0.0218\"],\"marker\":{\"color\":\"#c7c7c5\"},\"orientation\":\"h\",\"x\":[-0.02210000000000001],\"y\":[23],\"type\":\"bar\",\"xaxis\":\"x3\",\"yaxis\":\"y3\"},{\"hoverinfo\":\"text\",\"hoverlabel\":{\"font\":{\"color\":\"#000000\"}},\"hovertext\":[\"<b>Qubit 22</b><br>M<sub>err</sub> = 0.0115<br>P<sub>0|1</sub> = 0.014<br>P<sub>1|0</sub> = 0.009\"],\"marker\":{\"color\":\"#c7c7c5\"},\"orientation\":\"h\",\"x\":[-0.011500000000000066],\"y\":[22],\"type\":\"bar\",\"xaxis\":\"x3\",\"yaxis\":\"y3\"},{\"hoverinfo\":\"text\",\"hoverlabel\":{\"font\":{\"color\":\"#000000\"}},\"hovertext\":[\"<b>Qubit 21</b><br>M<sub>err</sub> = 0.0099<br>P<sub>0|1</sub> = 0.0122<br>P<sub>1|0</sub> = 0.0076\"],\"marker\":{\"color\":\"#c7c7c5\"},\"orientation\":\"h\",\"x\":[-0.00990000000000002],\"y\":[21],\"type\":\"bar\",\"xaxis\":\"x3\",\"yaxis\":\"y3\"},{\"hoverinfo\":\"text\",\"hoverlabel\":{\"font\":{\"color\":\"#000000\"}},\"hovertext\":[\"<b>Qubit 20</b><br>M<sub>err</sub> = 0.0172<br>P<sub>0|1</sub> = 0.0162<br>P<sub>1|0</sub> = 0.0182\"],\"marker\":{\"color\":\"#c7c7c5\"},\"orientation\":\"h\",\"x\":[-0.017199999999999993],\"y\":[20],\"type\":\"bar\",\"xaxis\":\"x3\",\"yaxis\":\"y3\"},{\"hoverinfo\":\"text\",\"hoverlabel\":{\"font\":{\"color\":\"#000000\"}},\"hovertext\":[\"<b>Qubit 19</b><br>M<sub>err</sub> = 0.0101<br>P<sub>0|1</sub> = 0.0144<br>P<sub>1|0</sub> = 0.0058\"],\"marker\":{\"color\":\"#c7c7c5\"},\"orientation\":\"h\",\"x\":[-0.010099999999999998],\"y\":[19],\"type\":\"bar\",\"xaxis\":\"x3\",\"yaxis\":\"y3\"},{\"hoverinfo\":\"text\",\"hoverlabel\":{\"font\":{\"color\":\"#000000\"}},\"hovertext\":[\"<b>Qubit 18</b><br>M<sub>err</sub> = 0.0113<br>P<sub>0|1</sub> = 0.0128<br>P<sub>1|0</sub> = 0.0098\"],\"marker\":{\"color\":\"#c7c7c5\"},\"orientation\":\"h\",\"x\":[-0.011300000000000088],\"y\":[18],\"type\":\"bar\",\"xaxis\":\"x3\",\"yaxis\":\"y3\"},{\"hoverinfo\":\"text\",\"hoverlabel\":{\"font\":{\"color\":\"#000000\"}},\"hovertext\":[\"<b>Qubit 17</b><br>M<sub>err</sub> = 0.0114<br>P<sub>0|1</sub> = 0.0108<br>P<sub>1|0</sub> = 0.012\"],\"marker\":{\"color\":\"#c7c7c5\"},\"orientation\":\"h\",\"x\":[-0.011400000000000077],\"y\":[17],\"type\":\"bar\",\"xaxis\":\"x3\",\"yaxis\":\"y3\"},{\"hoverinfo\":\"text\",\"hoverlabel\":{\"font\":{\"color\":\"#000000\"}},\"hovertext\":[\"<b>Qubit 16</b><br>M<sub>err</sub> = 0.0155<br>P<sub>0|1</sub> = 0.0198<br>P<sub>1|0</sub> = 0.0112\"],\"marker\":{\"color\":\"#c7c7c5\"},\"orientation\":\"h\",\"x\":[-0.01550000000000007],\"y\":[16],\"type\":\"bar\",\"xaxis\":\"x3\",\"yaxis\":\"y3\"},{\"hoverinfo\":\"text\",\"hoverlabel\":{\"font\":{\"color\":\"#000000\"}},\"hovertext\":[\"<b>Qubit 15</b><br>M<sub>err</sub> = 0.0354<br>P<sub>0|1</sub> = 0.0338<br>P<sub>1|0</sub> = 0.037\"],\"marker\":{\"color\":\"#c7c7c5\"},\"orientation\":\"h\",\"x\":[-0.0354000000000001],\"y\":[15],\"type\":\"bar\",\"xaxis\":\"x3\",\"yaxis\":\"y3\"},{\"hoverinfo\":\"text\",\"hoverlabel\":{\"font\":{\"color\":\"#000000\"}},\"hovertext\":[\"<b>Qubit 14</b><br>M<sub>err</sub> = 0.0106<br>P<sub>0|1</sub> = 0.0132<br>P<sub>1|0</sub> = 0.008\"],\"marker\":{\"color\":\"#c7c7c5\"},\"orientation\":\"h\",\"x\":[-0.010599999999999943],\"y\":[14],\"type\":\"bar\",\"xaxis\":\"x3\",\"yaxis\":\"y3\"},{\"hoverinfo\":\"none\",\"line\":{\"color\":\"#000000\",\"dash\":\"dot\",\"width\":2},\"mode\":\"lines\",\"x\":[-0.015125925925925942,-0.015125925925925942],\"y\":[13.75,26.25],\"type\":\"scatter\",\"xaxis\":\"x3\",\"yaxis\":\"y3\"}],                        {\"template\":{\"data\":{\"bar\":[{\"error_x\":{\"color\":\"#2a3f5f\"},\"error_y\":{\"color\":\"#2a3f5f\"},\"marker\":{\"line\":{\"color\":\"#E5ECF6\",\"width\":0.5},\"pattern\":{\"fillmode\":\"overlay\",\"size\":10,\"solidity\":0.2}},\"type\":\"bar\"}],\"barpolar\":[{\"marker\":{\"line\":{\"color\":\"#E5ECF6\",\"width\":0.5},\"pattern\":{\"fillmode\":\"overlay\",\"size\":10,\"solidity\":0.2}},\"type\":\"barpolar\"}],\"carpet\":[{\"aaxis\":{\"endlinecolor\":\"#2a3f5f\",\"gridcolor\":\"white\",\"linecolor\":\"white\",\"minorgridcolor\":\"white\",\"startlinecolor\":\"#2a3f5f\"},\"baxis\":{\"endlinecolor\":\"#2a3f5f\",\"gridcolor\":\"white\",\"linecolor\":\"white\",\"minorgridcolor\":\"white\",\"startlinecolor\":\"#2a3f5f\"},\"type\":\"carpet\"}],\"choropleth\":[{\"colorbar\":{\"outlinewidth\":0,\"ticks\":\"\"},\"type\":\"choropleth\"}],\"contour\":[{\"colorbar\":{\"outlinewidth\":0,\"ticks\":\"\"},\"colorscale\":[[0.0,\"#0d0887\"],[0.1111111111111111,\"#46039f\"],[0.2222222222222222,\"#7201a8\"],[0.3333333333333333,\"#9c179e\"],[0.4444444444444444,\"#bd3786\"],[0.5555555555555556,\"#d8576b\"],[0.6666666666666666,\"#ed7953\"],[0.7777777777777778,\"#fb9f3a\"],[0.8888888888888888,\"#fdca26\"],[1.0,\"#f0f921\"]],\"type\":\"contour\"}],\"contourcarpet\":[{\"colorbar\":{\"outlinewidth\":0,\"ticks\":\"\"},\"type\":\"contourcarpet\"}],\"heatmap\":[{\"colorbar\":{\"outlinewidth\":0,\"ticks\":\"\"},\"colorscale\":[[0.0,\"#0d0887\"],[0.1111111111111111,\"#46039f\"],[0.2222222222222222,\"#7201a8\"],[0.3333333333333333,\"#9c179e\"],[0.4444444444444444,\"#bd3786\"],[0.5555555555555556,\"#d8576b\"],[0.6666666666666666,\"#ed7953\"],[0.7777777777777778,\"#fb9f3a\"],[0.8888888888888888,\"#fdca26\"],[1.0,\"#f0f921\"]],\"type\":\"heatmap\"}],\"heatmapgl\":[{\"colorbar\":{\"outlinewidth\":0,\"ticks\":\"\"},\"colorscale\":[[0.0,\"#0d0887\"],[0.1111111111111111,\"#46039f\"],[0.2222222222222222,\"#7201a8\"],[0.3333333333333333,\"#9c179e\"],[0.4444444444444444,\"#bd3786\"],[0.5555555555555556,\"#d8576b\"],[0.6666666666666666,\"#ed7953\"],[0.7777777777777778,\"#fb9f3a\"],[0.8888888888888888,\"#fdca26\"],[1.0,\"#f0f921\"]],\"type\":\"heatmapgl\"}],\"histogram\":[{\"marker\":{\"pattern\":{\"fillmode\":\"overlay\",\"size\":10,\"solidity\":0.2}},\"type\":\"histogram\"}],\"histogram2d\":[{\"colorbar\":{\"outlinewidth\":0,\"ticks\":\"\"},\"colorscale\":[[0.0,\"#0d0887\"],[0.1111111111111111,\"#46039f\"],[0.2222222222222222,\"#7201a8\"],[0.3333333333333333,\"#9c179e\"],[0.4444444444444444,\"#bd3786\"],[0.5555555555555556,\"#d8576b\"],[0.6666666666666666,\"#ed7953\"],[0.7777777777777778,\"#fb9f3a\"],[0.8888888888888888,\"#fdca26\"],[1.0,\"#f0f921\"]],\"type\":\"histogram2d\"}],\"histogram2dcontour\":[{\"colorbar\":{\"outlinewidth\":0,\"ticks\":\"\"},\"colorscale\":[[0.0,\"#0d0887\"],[0.1111111111111111,\"#46039f\"],[0.2222222222222222,\"#7201a8\"],[0.3333333333333333,\"#9c179e\"],[0.4444444444444444,\"#bd3786\"],[0.5555555555555556,\"#d8576b\"],[0.6666666666666666,\"#ed7953\"],[0.7777777777777778,\"#fb9f3a\"],[0.8888888888888888,\"#fdca26\"],[1.0,\"#f0f921\"]],\"type\":\"histogram2dcontour\"}],\"mesh3d\":[{\"colorbar\":{\"outlinewidth\":0,\"ticks\":\"\"},\"type\":\"mesh3d\"}],\"parcoords\":[{\"line\":{\"colorbar\":{\"outlinewidth\":0,\"ticks\":\"\"}},\"type\":\"parcoords\"}],\"pie\":[{\"automargin\":true,\"type\":\"pie\"}],\"scatter\":[{\"marker\":{\"colorbar\":{\"outlinewidth\":0,\"ticks\":\"\"}},\"type\":\"scatter\"}],\"scatter3d\":[{\"line\":{\"colorbar\":{\"outlinewidth\":0,\"ticks\":\"\"}},\"marker\":{\"colorbar\":{\"outlinewidth\":0,\"ticks\":\"\"}},\"type\":\"scatter3d\"}],\"scattercarpet\":[{\"marker\":{\"colorbar\":{\"outlinewidth\":0,\"ticks\":\"\"}},\"type\":\"scattercarpet\"}],\"scattergeo\":[{\"marker\":{\"colorbar\":{\"outlinewidth\":0,\"ticks\":\"\"}},\"type\":\"scattergeo\"}],\"scattergl\":[{\"marker\":{\"colorbar\":{\"outlinewidth\":0,\"ticks\":\"\"}},\"type\":\"scattergl\"}],\"scattermapbox\":[{\"marker\":{\"colorbar\":{\"outlinewidth\":0,\"ticks\":\"\"}},\"type\":\"scattermapbox\"}],\"scatterpolar\":[{\"marker\":{\"colorbar\":{\"outlinewidth\":0,\"ticks\":\"\"}},\"type\":\"scatterpolar\"}],\"scatterpolargl\":[{\"marker\":{\"colorbar\":{\"outlinewidth\":0,\"ticks\":\"\"}},\"type\":\"scatterpolargl\"}],\"scatterternary\":[{\"marker\":{\"colorbar\":{\"outlinewidth\":0,\"ticks\":\"\"}},\"type\":\"scatterternary\"}],\"surface\":[{\"colorbar\":{\"outlinewidth\":0,\"ticks\":\"\"},\"colorscale\":[[0.0,\"#0d0887\"],[0.1111111111111111,\"#46039f\"],[0.2222222222222222,\"#7201a8\"],[0.3333333333333333,\"#9c179e\"],[0.4444444444444444,\"#bd3786\"],[0.5555555555555556,\"#d8576b\"],[0.6666666666666666,\"#ed7953\"],[0.7777777777777778,\"#fb9f3a\"],[0.8888888888888888,\"#fdca26\"],[1.0,\"#f0f921\"]],\"type\":\"surface\"}],\"table\":[{\"cells\":{\"fill\":{\"color\":\"#EBF0F8\"},\"line\":{\"color\":\"white\"}},\"header\":{\"fill\":{\"color\":\"#C8D4E3\"},\"line\":{\"color\":\"white\"}},\"type\":\"table\"}]},\"layout\":{\"annotationdefaults\":{\"arrowcolor\":\"#2a3f5f\",\"arrowhead\":0,\"arrowwidth\":1},\"autotypenumbers\":\"strict\",\"coloraxis\":{\"colorbar\":{\"outlinewidth\":0,\"ticks\":\"\"}},\"colorscale\":{\"diverging\":[[0,\"#8e0152\"],[0.1,\"#c51b7d\"],[0.2,\"#de77ae\"],[0.3,\"#f1b6da\"],[0.4,\"#fde0ef\"],[0.5,\"#f7f7f7\"],[0.6,\"#e6f5d0\"],[0.7,\"#b8e186\"],[0.8,\"#7fbc41\"],[0.9,\"#4d9221\"],[1,\"#276419\"]],\"sequential\":[[0.0,\"#0d0887\"],[0.1111111111111111,\"#46039f\"],[0.2222222222222222,\"#7201a8\"],[0.3333333333333333,\"#9c179e\"],[0.4444444444444444,\"#bd3786\"],[0.5555555555555556,\"#d8576b\"],[0.6666666666666666,\"#ed7953\"],[0.7777777777777778,\"#fb9f3a\"],[0.8888888888888888,\"#fdca26\"],[1.0,\"#f0f921\"]],\"sequentialminus\":[[0.0,\"#0d0887\"],[0.1111111111111111,\"#46039f\"],[0.2222222222222222,\"#7201a8\"],[0.3333333333333333,\"#9c179e\"],[0.4444444444444444,\"#bd3786\"],[0.5555555555555556,\"#d8576b\"],[0.6666666666666666,\"#ed7953\"],[0.7777777777777778,\"#fb9f3a\"],[0.8888888888888888,\"#fdca26\"],[1.0,\"#f0f921\"]]},\"colorway\":[\"#636efa\",\"#EF553B\",\"#00cc96\",\"#ab63fa\",\"#FFA15A\",\"#19d3f3\",\"#FF6692\",\"#B6E880\",\"#FF97FF\",\"#FECB52\"],\"font\":{\"color\":\"#2a3f5f\"},\"geo\":{\"bgcolor\":\"white\",\"lakecolor\":\"white\",\"landcolor\":\"#E5ECF6\",\"showlakes\":true,\"showland\":true,\"subunitcolor\":\"white\"},\"hoverlabel\":{\"align\":\"left\"},\"hovermode\":\"closest\",\"mapbox\":{\"style\":\"light\"},\"paper_bgcolor\":\"white\",\"plot_bgcolor\":\"#E5ECF6\",\"polar\":{\"angularaxis\":{\"gridcolor\":\"white\",\"linecolor\":\"white\",\"ticks\":\"\"},\"bgcolor\":\"#E5ECF6\",\"radialaxis\":{\"gridcolor\":\"white\",\"linecolor\":\"white\",\"ticks\":\"\"}},\"scene\":{\"xaxis\":{\"backgroundcolor\":\"#E5ECF6\",\"gridcolor\":\"white\",\"gridwidth\":2,\"linecolor\":\"white\",\"showbackground\":true,\"ticks\":\"\",\"zerolinecolor\":\"white\"},\"yaxis\":{\"backgroundcolor\":\"#E5ECF6\",\"gridcolor\":\"white\",\"gridwidth\":2,\"linecolor\":\"white\",\"showbackground\":true,\"ticks\":\"\",\"zerolinecolor\":\"white\"},\"zaxis\":{\"backgroundcolor\":\"#E5ECF6\",\"gridcolor\":\"white\",\"gridwidth\":2,\"linecolor\":\"white\",\"showbackground\":true,\"ticks\":\"\",\"zerolinecolor\":\"white\"}},\"shapedefaults\":{\"line\":{\"color\":\"#2a3f5f\"}},\"ternary\":{\"aaxis\":{\"gridcolor\":\"white\",\"linecolor\":\"white\",\"ticks\":\"\"},\"baxis\":{\"gridcolor\":\"white\",\"linecolor\":\"white\",\"ticks\":\"\"},\"bgcolor\":\"#E5ECF6\",\"caxis\":{\"gridcolor\":\"white\",\"linecolor\":\"white\",\"ticks\":\"\"}},\"title\":{\"x\":0.05},\"xaxis\":{\"automargin\":true,\"gridcolor\":\"white\",\"linecolor\":\"white\",\"ticks\":\"\",\"title\":{\"standoff\":15},\"zerolinecolor\":\"white\",\"zerolinewidth\":2},\"yaxis\":{\"automargin\":true,\"gridcolor\":\"white\",\"linecolor\":\"white\",\"ticks\":\"\",\"title\":{\"standoff\":15},\"zerolinecolor\":\"white\",\"zerolinewidth\":2}}},\"xaxis\":{\"anchor\":\"y\",\"domain\":[0.0,0.16694214876033056],\"range\":[0,0.060499999999999936],\"tickvals\":[0,0.02,0.05],\"showline\":true,\"linewidth\":1,\"linecolor\":\"#000000\",\"tickcolor\":\"#000000\",\"ticks\":\"outside\",\"showgrid\":false,\"zeroline\":false},\"yaxis\":{\"anchor\":\"x\",\"domain\":[0.1925,1.0],\"tickvals\":[0,1,2,3,4,5,6,7,8,9,10,11,12,13],\"autorange\":\"reversed\"},\"xaxis2\":{\"anchor\":\"y2\",\"domain\":[0.18512396694214875,0.7223140495867768],\"visible\":false},\"yaxis2\":{\"anchor\":\"x2\",\"domain\":[0.1925,1.0],\"visible\":false},\"xaxis3\":{\"anchor\":\"y3\",\"domain\":[0.740495867768595,0.9074380165289255],\"range\":[-0.060499999999999936,0],\"tickvals\":[0,-0.02,-0.05],\"ticktext\":[0,0.02,0.05],\"showline\":true,\"linewidth\":1,\"linecolor\":\"#000000\",\"tickcolor\":\"#000000\",\"ticks\":\"outside\",\"showgrid\":false,\"zeroline\":false},\"yaxis3\":{\"anchor\":\"x3\",\"domain\":[0.1925,1.0],\"tickvals\":[26,25,24,23,22,21,20,19,18,17,16,15,14],\"side\":\"right\",\"autorange\":\"reversed\"},\"xaxis4\":{\"anchor\":\"y4\",\"domain\":[0.0,0.3520661157024793],\"tickfont\":{\"size\":13},\"tickvals\":[0,49,99],\"ticktext\":[\"9.8⋅10<sup>-5</sup>\",\"3.1⋅10<sup>-4</sup>\",\"9.8⋅10<sup>-4</sup>\"]},\"yaxis4\":{\"anchor\":\"x4\",\"domain\":[0.0,0.0425],\"visible\":false},\"xaxis5\":{\"anchor\":\"y5\",\"domain\":[0.5553719008264462,0.9074380165289255],\"tickfont\":{\"size\":13},\"tickvals\":[0,49,99],\"ticktext\":[\"3.6⋅10<sup>-3</sup>\",\"9.9⋅10<sup>-3</sup>\",\"2.7⋅10<sup>-2</sup>\"]},\"yaxis5\":{\"anchor\":\"x5\",\"domain\":[0.0,0.0425],\"visible\":false},\"annotations\":[{\"font\":{\"size\":13},\"showarrow\":false,\"text\":\"Readout error\",\"x\":0.08347107438016528,\"xanchor\":\"center\",\"xref\":\"paper\",\"y\":1.0,\"yanchor\":\"bottom\",\"yref\":\"paper\"},{\"font\":{\"size\":13},\"showarrow\":false,\"text\":\"Readout error\",\"x\":0.8239669421487603,\"xanchor\":\"center\",\"xref\":\"paper\",\"y\":1.0,\"yanchor\":\"bottom\",\"yref\":\"paper\"},{\"font\":{\"size\":13},\"showarrow\":false,\"text\":\"SX error rate [Avg. 2.1⋅10<sup>-4</sup>]\",\"x\":0.17603305785123965,\"xanchor\":\"center\",\"xref\":\"paper\",\"y\":0.0425,\"yanchor\":\"bottom\",\"yref\":\"paper\"},{\"font\":{\"size\":13},\"showarrow\":false,\"text\":\"CNOT error rate [Avg. 7.3⋅10<sup>-3</sup>]\",\"x\":0.7314049586776858,\"xanchor\":\"center\",\"xref\":\"paper\",\"y\":0.0425,\"yanchor\":\"bottom\",\"yref\":\"paper\"}],\"title\":{\"font\":{\"size\":20},\"text\":\"ibm_hanoi error map\",\"x\":0.452},\"font\":{\"color\":\"#000000\"},\"margin\":{\"t\":60,\"l\":0,\"r\":0,\"b\":0},\"hoverlabel\":{\"font\":{\"size\":14,\"family\":\"courier,monospace\"},\"align\":\"left\"},\"showlegend\":false,\"plot_bgcolor\":\"white\",\"paper_bgcolor\":\"white\"},                        {\"displayModeBar\": false, \"editable\": false, \"responsive\": true}                    ).then(function(){\n",
       "                            \n",
       "var gd = document.getElementById('07c2357c-f399-4ae7-9b10-270cb1a46685');\n",
       "var x = new MutationObserver(function (mutations, observer) {{\n",
       "        var display = window.getComputedStyle(gd).display;\n",
       "        if (!display || display === 'none') {{\n",
       "            console.log([gd, 'removed!']);\n",
       "            Plotly.purge(gd);\n",
       "            observer.disconnect();\n",
       "        }}\n",
       "}});\n",
       "\n",
       "// Listen for the removal of the full notebook cells\n",
       "var notebookContainer = gd.closest('#notebook-container');\n",
       "if (notebookContainer) {{\n",
       "    x.observe(notebookContainer, {childList: true});\n",
       "}}\n",
       "\n",
       "// Listen for the clearing of the current output cell\n",
       "var outputEl = gd.closest('.output');\n",
       "if (outputEl) {{\n",
       "    x.observe(outputEl, {childList: true});\n",
       "}}\n",
       "\n",
       "                        })                };                });            </script>        </div>"
      ]
     },
     "metadata": {},
     "output_type": "display_data"
    }
   ],
   "source": [
    "try:\n",
    "    from kaleidoscope.qiskit import system_error_map\n",
    "except:\n",
    "    pass\n",
    "else:\n",
    "    display(system_error_map(backend))"
   ]
  },
  {
   "cell_type": "markdown",
   "metadata": {},
   "source": [
    "## Qiskit transpiler refresher"
   ]
  },
  {
   "cell_type": "markdown",
   "metadata": {},
   "source": [
    "Recall that the optimal circuit transpilation pipeline in Qiskit is `optimization_level=3` selects a good candidate `initial_layout` and SWAP mapping using the Sabre layout and routing method (arXiv:1809.02573), and performs the most 1Q and 2Q gate optimizations.  Because this method is stochastic, finding a good candidate SWAP mapping can involve mapping the circuit several times and selecting the one with the fewest entangling gates (lowest depth)."
   ]
  },
  {
   "cell_type": "code",
   "execution_count": 13,
   "metadata": {
    "ExecuteTime": {
     "end_time": "2022-04-05T01:50:44.430335Z",
     "start_time": "2022-04-05T01:50:43.699475Z"
    }
   },
   "outputs": [
    {
     "data": {
      "image/png": "[encoded data removed]",
      "text/plain": [
       "<Figure size 899.479x445.48 with 1 Axes>"
      ]
     },
     "execution_count": 13,
     "metadata": {
      "image/png": {
       "height": 350,
       "width": 693
      }
     },
     "output_type": "execute_result"
    }
   ],
   "source": [
    "circ = QuantumCircuit(6)\n",
    "circ.h(0)\n",
    "circ.cx(0, range(1, 6))\n",
    "circ.measure_all()\n",
    "\n",
    "circ.draw('mpl')"
   ]
  },
  {
   "cell_type": "code",
   "execution_count": 14,
   "metadata": {
    "ExecuteTime": {
     "end_time": "2022-04-05T01:50:48.685102Z",
     "start_time": "2022-04-05T01:50:44.433456Z"
    }
   },
   "outputs": [],
   "source": [
    "trans_circs = transpile([circ]*20, backend,\n",
    "                     basis_gates=backend.configuration().basis_gates+['swap'],\n",
    "                     optimization_level=3,\n",
    "                     seed_transpiler=[kk for kk in range(20)])"
   ]
  },
  {
   "cell_type": "code",
   "execution_count": 15,
   "metadata": {
    "ExecuteTime": {
     "end_time": "2022-04-05T01:50:48.716876Z",
     "start_time": "2022-04-05T01:50:48.687238Z"
    }
   },
   "outputs": [
    {
     "name": "stdout",
     "output_type": "stream",
     "text": [
      "[2 5 3 2 4 3 2 3 2 4 4 3 4 2 3 3 2 2 2 3]\n"
     ]
    }
   ],
   "source": [
    "swap_count = np.array([circ.count_ops()['swap'] for circ in trans_circs])\n",
    "print(swap_count)\n",
    "best_idx = np.where(swap_count == min(swap_count))[0][0]\n",
    "trans_qc = transpile(trans_circs[best_idx], backend, optimization_level=3)"
   ]
  },
  {
   "cell_type": "code",
   "execution_count": 16,
   "metadata": {
    "ExecuteTime": {
     "end_time": "2022-04-05T01:50:52.228991Z",
     "start_time": "2022-04-05T01:50:48.718895Z"
    }
   },
   "outputs": [
    {
     "data": {
      "image/png": "[encoded data removed]",
      "text/plain": [
       "<Figure size 1294.87x1709.68 with 1 Axes>"
      ]
     },
     "execution_count": 16,
     "metadata": {
      "image/png": {
       "height": 1313,
       "width": 992
      }
     },
     "output_type": "execute_result"
    }
   ],
   "source": [
    "trans_qc.draw('mpl')"
   ]
  },
  {
   "cell_type": "markdown",
   "metadata": {},
   "source": [
    "While the above recipe gives a very good swap mapping, it is insensitive to the noise properties of the gates and qubits onto which it maps.  That is to say that often one has a close to ideal SWAP mapping on less than ideal qubits.  For specific instances of a given problem it is often possible to hand-map onto a good selection of qubits.  However for larger problems, or more complex circuits this becomes difficult and automated tools are needed to find an optimal set of qubits to use.  This set of qubits also need not be on the originally targeted system."
   ]
  },
  {
   "cell_type": "markdown",
   "metadata": {},
   "source": [
    "## Mapomatic"
   ]
  },
  {
   "cell_type": "markdown",
   "metadata": {},
   "source": [
    "Mapomatic is a post-compilation routine that finds the best low noise sub-graph on which to run a circuit given one or more quantum systems as target devices. Once compiled, a circuit has been rewritten so that its two-qubit gate structure matches that of a given sub-graph on the target system. mapomatic then searches for matching sub-graphs using the VF2 mapper in retworkx, and uses a heuristic to rank them based on error rates determined by the current calibration data. That is to say that given a single target system, mapomatic will return the best set of qubits on which to execute the compiled circuit. Or, given a list of systems, it will find the best system and set of qubits on which to run your circuit. Given the current size of quantum hardware, and the excellent performance of the VF2 mapper, this whole process is actually very fast."
   ]
  },
  {
   "cell_type": "markdown",
   "metadata": {},
   "source": [
    "### Deflating the circuit\n",
    "\n",
    "When mapping a quantum circuit to a specific system the Qiskit transpiler will automatically expand the input circuit to the full size of the target device.  In order to find a good subset of qubits we must first \"deflate\" the circuit, and return a circuit that operates only on the active qubits in the full circuit."
   ]
  },
  {
   "cell_type": "code",
   "execution_count": 17,
   "metadata": {
    "ExecuteTime": {
     "end_time": "2022-04-05T01:50:56.104881Z",
     "start_time": "2022-04-05T01:50:55.702110Z"
    }
   },
   "outputs": [
    {
     "data": {
      "image/png": "[encoded data removed]",
      "text/plain": [
       "<Figure size 1049.8x445.48 with 1 Axes>"
      ]
     },
     "execution_count": 17,
     "metadata": {
      "image/png": {
       "height": 350,
       "width": 806
      }
     },
     "output_type": "execute_result"
    }
   ],
   "source": [
    "small_circ = mm.deflate_circuit(trans_qc)\n",
    "small_circ.draw('mpl')"
   ]
  },
  {
   "cell_type": "markdown",
   "metadata": {},
   "source": [
    "### Find matching layouts\n",
    "\n",
    "Next we need to find all the possible combinations of qubits onto which this deflated circuit can be mapped."
   ]
  },
  {
   "cell_type": "code",
   "execution_count": 18,
   "metadata": {
    "ExecuteTime": {
     "end_time": "2022-04-05T01:50:57.927360Z",
     "start_time": "2022-04-05T01:50:57.922427Z"
    }
   },
   "outputs": [],
   "source": [
    "layouts = mm.matching_layouts(small_circ, backend)"
   ]
  },
  {
   "cell_type": "code",
   "execution_count": 19,
   "metadata": {
    "ExecuteTime": {
     "end_time": "2022-04-05T01:50:58.329609Z",
     "start_time": "2022-04-05T01:50:58.320739Z"
    }
   },
   "outputs": [
    {
     "data": {
      "text/plain": [
       "[[0, 1, 2, 3, 4, 7],\n",
       " [0, 1, 4, 7, 2, 3],\n",
       " [6, 7, 4, 1, 10, 12],\n",
       " [6, 7, 10, 12, 4, 1],\n",
       " [9, 8, 5, 3, 11, 14],\n",
       " [9, 8, 11, 14, 5, 3],\n",
       " [15, 12, 10, 7, 13, 14],\n",
       " [13, 12, 10, 7, 15, 18],\n",
       " [15, 12, 13, 14, 10, 7],\n",
       " [10, 12, 13, 14, 15, 18],\n",
       " [13, 12, 15, 18, 10, 7],\n",
       " [10, 12, 15, 18, 13, 14],\n",
       " [16, 14, 11, 8, 13, 12],\n",
       " [13, 14, 11, 8, 16, 19],\n",
       " [16, 14, 13, 12, 11, 8],\n",
       " [11, 14, 13, 12, 16, 19],\n",
       " [13, 14, 16, 19, 11, 8],\n",
       " [11, 14, 16, 19, 13, 12],\n",
       " [17, 18, 15, 12, 21, 23],\n",
       " [17, 18, 21, 23, 15, 12],\n",
       " [20, 19, 16, 14, 22, 25],\n",
       " [20, 19, 22, 25, 16, 14],\n",
       " [26, 25, 22, 19, 24, 23],\n",
       " [26, 25, 24, 23, 22, 19]]"
      ]
     },
     "execution_count": 19,
     "metadata": {},
     "output_type": "execute_result"
    }
   ],
   "source": [
    "layouts"
   ]
  },
  {
   "cell_type": "markdown",
   "metadata": {},
   "source": [
    "### Scoring the layouts\n",
    "\n",
    "Now that we have all the possible layouts, we can use the calibration data from the backend to assign a \"score\" to each based on the returned error rates.  By default this is just the product of all of the fidelities of the gates and measurements in the circuit.  A value close to `1.0` indicates that your circuit is likely not to yield good results."
   ]
  },
  {
   "cell_type": "code",
   "execution_count": 20,
   "metadata": {
    "ExecuteTime": {
     "end_time": "2022-04-05T01:51:00.370413Z",
     "start_time": "2022-04-05T01:51:00.359722Z"
    }
   },
   "outputs": [
    {
     "data": {
      "text/plain": [
       "[([0, 1, 2, 3, 4, 7], 0.13246820999994424),\n",
       " ([0, 1, 4, 7, 2, 3], 0.13662510916515058),\n",
       " ([13, 14, 11, 8, 16, 19], 0.15424529012926202),\n",
       " ([20, 19, 16, 14, 22, 25], 0.15744491046952258),\n",
       " ([13, 14, 16, 19, 11, 8], 0.16777741956075587),\n",
       " ([20, 19, 22, 25, 16, 14], 0.1762920322455308),\n",
       " ([16, 14, 13, 12, 11, 8], 0.17750382009162669),\n",
       " ([16, 14, 11, 8, 13, 12], 0.1838439535353743),\n",
       " ([6, 7, 4, 1, 10, 12], 0.18664913344292322),\n",
       " ([6, 7, 10, 12, 4, 1], 0.1877331226095066),\n",
       " ([26, 25, 24, 23, 22, 19], 0.18843887871721987),\n",
       " ([11, 14, 13, 12, 16, 19], 0.19544548798155736),\n",
       " ([17, 18, 21, 23, 15, 12], 0.20441209585637865),\n",
       " ([15, 12, 10, 7, 13, 14], 0.2069778344892843),\n",
       " ([26, 25, 22, 19, 24, 23], 0.20806855312252903),\n",
       " ([17, 18, 15, 12, 21, 23], 0.2141512076039237),\n",
       " ([15, 12, 13, 14, 10, 7], 0.21421256475393935),\n",
       " ([11, 14, 16, 19, 13, 12], 0.2144210137139727),\n",
       " ([10, 12, 15, 18, 13, 14], 0.21545540742764113),\n",
       " ([13, 12, 10, 7, 15, 18], 0.21570747626804487),\n",
       " ([10, 12, 13, 14, 15, 18], 0.215727698465233),\n",
       " ([13, 12, 15, 18, 10, 7], 0.22259275224420771),\n",
       " ([9, 8, 5, 3, 11, 14], 1.0),\n",
       " ([9, 8, 11, 14, 5, 3], 1.0)]"
      ]
     },
     "execution_count": 20,
     "metadata": {},
     "output_type": "execute_result"
    }
   ],
   "source": [
    "scores = mm.evaluate_layouts(small_circ, layouts, backend)\n",
    "scores"
   ]
  },
  {
   "cell_type": "markdown",
   "metadata": {},
   "source": [
    "### Transpile to qubits with the best score\n",
    "\n",
    "The scores are ranked from best to worst, so selecting the first set should give best results"
   ]
  },
  {
   "cell_type": "code",
   "execution_count": 21,
   "metadata": {
    "ExecuteTime": {
     "end_time": "2022-04-05T01:51:02.044805Z",
     "start_time": "2022-04-05T01:51:02.029015Z"
    }
   },
   "outputs": [],
   "source": [
    "best_trans_qc = transpile(small_circ, backend, initial_layout=scores[0][0])"
   ]
  },
  {
   "cell_type": "code",
   "execution_count": 22,
   "metadata": {
    "ExecuteTime": {
     "end_time": "2022-04-05T01:51:03.623736Z",
     "start_time": "2022-04-05T01:51:02.346421Z"
    }
   },
   "outputs": [
    {
     "data": {
      "image/png": "[encoded data removed]",
      "text/plain": [
       "<Figure size 1168.93x1709.68 with 1 Axes>"
      ]
     },
     "execution_count": 22,
     "metadata": {
      "image/png": {
       "height": 1305,
       "width": 896
      }
     },
     "output_type": "execute_result"
    }
   ],
   "source": [
    "best_trans_qc.draw('mpl')"
   ]
  },
  {
   "cell_type": "markdown",
   "metadata": {},
   "source": [
    "Let us also transpile against a bad set (here selected to avoid one of the `1.0` sets)"
   ]
  },
  {
   "cell_type": "code",
   "execution_count": 21,
   "metadata": {
    "ExecuteTime": {
     "end_time": "2022-04-04T21:00:21.831919Z",
     "start_time": "2022-04-04T21:00:21.817182Z"
    }
   },
   "outputs": [],
   "source": [
    "bad_trans_qc = transpile(small_circ, backend, initial_layout=scores[-3][0])"
   ]
  },
  {
   "cell_type": "markdown",
   "metadata": {},
   "source": [
    "Execute both best and bad sets and see which one gives the best fidelity."
   ]
  },
  {
   "cell_type": "code",
   "execution_count": 22,
   "metadata": {
    "ExecuteTime": {
     "end_time": "2022-04-04T21:00:24.654990Z",
     "start_time": "2022-04-04T21:00:22.050786Z"
    }
   },
   "outputs": [],
   "source": [
    "job = backend.run([best_trans_qc, bad_trans_qc], shots=10000)"
   ]
  },
  {
   "cell_type": "code",
   "execution_count": 28,
   "metadata": {
    "ExecuteTime": {
     "end_time": "2022-04-05T02:16:31.999242Z",
     "start_time": "2022-04-05T02:16:31.964248Z"
    }
   },
   "outputs": [],
   "source": [
    "target_dist = {'0'*6: 0.5, '1'*6: 0.5}"
   ]
  },
  {
   "cell_type": "code",
   "execution_count": 24,
   "metadata": {
    "ExecuteTime": {
     "end_time": "2022-04-04T21:14:06.655395Z",
     "start_time": "2022-04-04T21:00:24.665151Z"
    }
   },
   "outputs": [],
   "source": [
    "best_counts, bad_counts = job.result().get_counts()"
   ]
  },
  {
   "cell_type": "code",
   "execution_count": 25,
   "metadata": {
    "ExecuteTime": {
     "end_time": "2022-04-04T21:14:06.683002Z",
     "start_time": "2022-04-04T21:14:06.668248Z"
    }
   },
   "outputs": [
    {
     "data": {
      "text/plain": [
       "0.8339049639776354"
      ]
     },
     "execution_count": 25,
     "metadata": {},
     "output_type": "execute_result"
    }
   ],
   "source": [
    "hellinger_fidelity(best_counts, target_dist)"
   ]
  },
  {
   "cell_type": "code",
   "execution_count": 26,
   "metadata": {
    "ExecuteTime": {
     "end_time": "2022-04-04T21:14:06.692286Z",
     "start_time": "2022-04-04T21:14:06.685161Z"
    }
   },
   "outputs": [
    {
     "data": {
      "text/plain": [
       "0.7199522404605905"
      ]
     },
     "execution_count": 26,
     "metadata": {},
     "output_type": "execute_result"
    }
   ],
   "source": [
    "hellinger_fidelity(bad_counts, target_dist)"
   ]
  },
  {
   "cell_type": "markdown",
   "metadata": {},
   "source": [
    "We see that our fidelity is over 10% better when using the best set verses a bad set."
   ]
  },
  {
   "cell_type": "markdown",
   "metadata": {},
   "source": [
    "## Mapomatic on several backends\n",
    "\n",
    "We have seen how to get a good layout on a single backend, but is that backend the one optimal on which to run in the first place?  We can request Mapomatic to look over all backends that we have access to in order to identify the best one for the circuit in question.  The backends do not have to be of the same processor type, and need only be able to support the necessary entangling gate connectivity."
   ]
  },
  {
   "cell_type": "code",
   "execution_count": 27,
   "metadata": {
    "ExecuteTime": {
     "end_time": "2022-04-04T21:14:23.866783Z",
     "start_time": "2022-04-04T21:14:17.757227Z"
    }
   },
   "outputs": [
    {
     "data": {
      "text/plain": [
       "[([3, 5, 9, 8, 11, 14], 'ibm_auckland', 0.11638943265614354),\n",
       " ([7, 4, 0, 1, 2, 3], 'ibm_hanoi', 0.13246820999994424),\n",
       " ([51, 50, 55, 49, 48, 47], 'ibm_washington', 0.1335889121454673),\n",
       " ([12, 15, 17, 18, 21, 23], 'ibm_cairo', 0.13742676931505415),\n",
       " ([14, 16, 20, 19, 22, 25], 'ibmq_montreal', 0.1457445884089067),\n",
       " ([7, 10, 15, 12, 13, 14], 'ibmq_guadalupe', 0.18135546089661103),\n",
       " ([6, 5, 3, 4, 11, 17], 'ibmq_brooklyn', 0.193372159486484),\n",
       " ([14, 16, 20, 19, 22, 25], 'ibmq_mumbai', 0.21545223260981106),\n",
       " ([14, 16, 20, 19, 22, 25], 'ibmq_toronto', 0.3073623988555444)]"
      ]
     },
     "execution_count": 27,
     "metadata": {},
     "output_type": "execute_result"
    }
   ],
   "source": [
    "mm.best_overall_layout(small_circ, provider.backends(), successors=True)"
   ]
  },
  {
   "cell_type": "markdown",
   "metadata": {},
   "source": [
    "We see that our original choice of backend is not the best here, and the order may yield some surprising results."
   ]
  },
  {
   "cell_type": "markdown",
   "metadata": {},
   "source": [
    "## Adding dynamical decoupling (DD)\n",
    "\n",
    "Having found the best qubits for our circuit, we can now go and add backend and qubit specific timing information and instructions.  In order to do DD our a backend we need the following:\n",
    "\n",
    "- The durations of each of the instructions supported by the backend\n",
    "\n",
    "- The gates for our DD sequence, and possible spacings\n",
    "\n",
    "- The pulse alignment supported on the backend.  On newer systems pulses must be aligned to multiples of 16 samples.\n",
    "\n",
    "We have covered this before, however the code has changed in Qiskit `0.20+`, and correctly takes into account the pulse alignment needed on newer systems."
   ]
  },
  {
   "cell_type": "code",
   "execution_count": 23,
   "metadata": {
    "ExecuteTime": {
     "end_time": "2022-04-05T01:51:07.068907Z",
     "start_time": "2022-04-05T01:51:07.058042Z"
    }
   },
   "outputs": [],
   "source": [
    "# Instruction durations\n",
    "durations = InstructionDurations.from_backend(backend)\n",
    "# Sequence for DD (recall that only sx and x gates are physical 1Q rotations)\n",
    "dd_sequence = [XGate(), XGate()]\n",
    "# Get the alignment definition for the backend.\n",
    "pulse_alignment  = backend.configuration().timing_constraints['pulse_alignment']"
   ]
  },
  {
   "cell_type": "markdown",
   "metadata": {},
   "source": [
    "In order to insert the DD sequence into the circuit the instructions must first be scheduled (timing information added to the circuit), and then the given DD sequence can be added into the idle times."
   ]
  },
  {
   "cell_type": "code",
   "execution_count": 24,
   "metadata": {
    "ExecuteTime": {
     "end_time": "2022-04-05T01:51:08.045125Z",
     "start_time": "2022-04-05T01:51:08.036057Z"
    }
   },
   "outputs": [],
   "source": [
    "pm = PassManager([ALAPScheduleAnalysis(durations),\n",
    "                  PadDynamicalDecoupling(durations,\n",
    "                                         dd_sequence,\n",
    "                                         pulse_alignment=pulse_alignment)\n",
    "                 ]\n",
    "                )\n",
    "\n",
    "circ_with_dd = pm.run(best_trans_qc)"
   ]
  },
  {
   "cell_type": "code",
   "execution_count": 25,
   "metadata": {
    "ExecuteTime": {
     "end_time": "2022-04-05T01:51:10.321917Z",
     "start_time": "2022-04-05T01:51:10.313562Z"
    }
   },
   "outputs": [],
   "source": [
    "best_with_dd = pm.run(best_trans_qc)"
   ]
  },
  {
   "cell_type": "code",
   "execution_count": 26,
   "metadata": {
    "ExecuteTime": {
     "end_time": "2022-04-05T01:51:13.069905Z",
     "start_time": "2022-04-05T01:51:10.757069Z"
    }
   },
   "outputs": [],
   "source": [
    "job2 = backend.run(best_with_dd, shots=10000)"
   ]
  },
  {
   "cell_type": "code",
   "execution_count": 29,
   "metadata": {
    "ExecuteTime": {
     "end_time": "2022-04-05T02:16:36.445577Z",
     "start_time": "2022-04-05T02:16:36.411568Z"
    }
   },
   "outputs": [
    {
     "data": {
      "text/plain": [
       "0.7906610420921732"
      ]
     },
     "execution_count": 29,
     "metadata": {},
     "output_type": "execute_result"
    }
   ],
   "source": [
    "dd_counts = job2.result().get_counts()\n",
    "hellinger_fidelity(dd_counts, target_dist)"
   ]
  },
  {
   "cell_type": "markdown",
   "metadata": {},
   "source": [
    "Note that, even with this very simple form of dynamical decoupling, often one sees improved results over a wide range of algorithms."
   ]
  },
  {
   "cell_type": "markdown",
   "metadata": {
    "ExecuteTime": {
     "end_time": "2022-04-05T02:15:35.273749Z",
     "start_time": "2022-04-05T02:15:35.273725Z"
    }
   },
   "source": [
    "<img src=\"imgs/fidelity_vs_volume.png\" width=600/>\n"
   ]
  },
  {
   "cell_type": "markdown",
   "metadata": {},
   "source": [
    "## Measurement error mitigation (M3)\n",
    "\n",
    "We have already been over measurement error mitigation with M3, and it is easy to add to the pipeline to further clean up results."
   ]
  },
  {
   "cell_type": "code",
   "execution_count": 30,
   "metadata": {
    "ExecuteTime": {
     "end_time": "2022-04-05T02:16:39.381289Z",
     "start_time": "2022-04-05T02:16:39.367217Z"
    }
   },
   "outputs": [],
   "source": [
    "mit = mthree.M3Mitigation(backend)"
   ]
  },
  {
   "cell_type": "code",
   "execution_count": 31,
   "metadata": {
    "ExecuteTime": {
     "end_time": "2022-04-05T02:16:39.696729Z",
     "start_time": "2022-04-05T02:16:39.672063Z"
    }
   },
   "outputs": [],
   "source": [
    "mapping = mthree.utils.final_measurement_mapping(best_with_dd)"
   ]
  },
  {
   "cell_type": "code",
   "execution_count": 32,
   "metadata": {
    "ExecuteTime": {
     "end_time": "2022-04-05T02:20:44.804256Z",
     "start_time": "2022-04-05T02:16:40.158008Z"
    }
   },
   "outputs": [],
   "source": [
    "mit.cals_from_system(mapping)"
   ]
  },
  {
   "cell_type": "code",
   "execution_count": 33,
   "metadata": {
    "ExecuteTime": {
     "end_time": "2022-04-05T02:20:44.860706Z",
     "start_time": "2022-04-05T02:20:44.808297Z"
    }
   },
   "outputs": [],
   "source": [
    "quasi = mit.apply_correction(dd_counts, mapping, return_mitigation_overhead=True)"
   ]
  },
  {
   "cell_type": "code",
   "execution_count": 34,
   "metadata": {
    "ExecuteTime": {
     "end_time": "2022-04-05T02:20:44.868592Z",
     "start_time": "2022-04-05T02:20:44.862891Z"
    }
   },
   "outputs": [
    {
     "data": {
      "text/plain": [
       "0.9065547327915405"
      ]
     },
     "execution_count": 34,
     "metadata": {},
     "output_type": "execute_result"
    }
   ],
   "source": [
    "hellinger_fidelity(quasi.nearest_probability_distribution(), target_dist)"
   ]
  },
  {
   "cell_type": "markdown",
   "metadata": {},
   "source": [
    "While we have achieved quite good results, it is important to remember that error mitigation does not come for free, and requires additional circuit executions to achieve the same desired precision as if no mitigation was applied."
   ]
  },
  {
   "cell_type": "code",
   "execution_count": null,
   "metadata": {},
   "outputs": [],
   "source": []
  }
 ],
 "metadata": {
  "interpreter": {
   "hash": "0aec933920cf1f1dd5a56cb99acd12aa0c67a1d415750762fa5e91b09cf15f32"
  },
  "kernelspec": {
   "display_name": "Python 3 (ipykernel)",
   "language": "python",
   "name": "python3"
  },
  "language_info": {
   "codemirror_mode": {
    "name": "ipython",
    "version": 3
   },
   "file_extension": ".py",
   "mimetype": "text/x-python",
   "name": "python",
   "nbconvert_exporter": "python",
   "pygments_lexer": "ipython3",
   "version": "3.10.4"
  }
 },
 "nbformat": 4,
 "nbformat_minor": 4
}
